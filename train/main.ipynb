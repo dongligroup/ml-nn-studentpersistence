{
 "cells": [
  {
   "cell_type": "markdown",
   "id": "c3c9af63-9440-4a0a-bfa5-25575620d777",
   "metadata": {
    "id": "c3c9af63-9440-4a0a-bfa5-25575620d777"
   },
   "source": [
    "# COMP258 F24 Group Project"
   ]
  },
  {
   "cell_type": "markdown",
   "id": "b539e7c7-80be-4427-99a4-735a727bbead",
   "metadata": {
    "id": "b539e7c7-80be-4427-99a4-735a727bbead"
   },
   "source": [
    "## SETUP"
   ]
  },
  {
   "cell_type": "code",
   "execution_count": 1,
   "id": "321303b0-63fa-4dd7-ae68-1d8cc1c5351b",
   "metadata": {
    "id": "321303b0-63fa-4dd7-ae68-1d8cc1c5351b"
   },
   "outputs": [
    {
     "name": "stderr",
     "output_type": "stream",
     "text": [
      "2024-12-06 18:10:48.864667: I tensorflow/core/util/port.cc:153] oneDNN custom operations are on. You may see slightly different numerical results due to floating-point round-off errors from different computation orders. To turn them off, set the environment variable `TF_ENABLE_ONEDNN_OPTS=0`.\n",
      "2024-12-06 18:10:48.880542: E external/local_xla/xla/stream_executor/cuda/cuda_fft.cc:485] Unable to register cuFFT factory: Attempting to register factory for plugin cuFFT when one has already been registered\n",
      "2024-12-06 18:10:48.895507: E external/local_xla/xla/stream_executor/cuda/cuda_dnn.cc:8454] Unable to register cuDNN factory: Attempting to register factory for plugin cuDNN when one has already been registered\n",
      "2024-12-06 18:10:48.899150: E external/local_xla/xla/stream_executor/cuda/cuda_blas.cc:1452] Unable to register cuBLAS factory: Attempting to register factory for plugin cuBLAS when one has already been registered\n",
      "2024-12-06 18:10:48.910205: I tensorflow/core/platform/cpu_feature_guard.cc:210] This TensorFlow binary is optimized to use available CPU instructions in performance-critical operations.\n",
      "To enable the following instructions: AVX2 AVX512F AVX512_VNNI FMA, in other operations, rebuild TensorFlow with the appropriate compiler flags.\n"
     ]
    }
   ],
   "source": [
    "import os\n",
    "\n",
    "import pandas as pd\n",
    "import numpy as np\n",
    "import seaborn as sns\n",
    "import tensorflow as tf\n",
    "import matplotlib.pyplot as plt\n",
    "from sklearn.experimental import enable_iterative_imputer\n",
    "from sklearn.utils import resample\n",
    "from sklearn.impute import IterativeImputer\n",
    "from sklearn.ensemble import RandomForestRegressor\n",
    "from tensorflow.keras import Sequential\n",
    "from tensorflow.keras.layers import Dense, Flatten, Dropout, BatchNormalization\n",
    "from tensorflow.keras.callbacks import ModelCheckpoint\n",
    "\n",
    "from data_map import SKIP_ROWS, METADATA, VALUE_MAPPINGS, NUMERIC_RANGES\n",
    "from utils import DATA_RAW_PATH, DATA_PATH, BASE_MODEL_PATH"
   ]
  },
  {
   "cell_type": "code",
   "execution_count": 2,
   "id": "be744656-1d08-4d2c-b4a4-f3237e1aa543",
   "metadata": {
    "id": "be744656-1d08-4d2c-b4a4-f3237e1aa543"
   },
   "outputs": [],
   "source": [
    "seed = 38 # Global random seed"
   ]
  },
  {
   "cell_type": "markdown",
   "id": "ce51d8df-5689-4fe1-8dfd-3a97fa309d8e",
   "metadata": {
    "id": "ce51d8df-5689-4fe1-8dfd-3a97fa309d8e"
   },
   "source": [
    "## DATA PREPARATION"
   ]
  },
  {
   "cell_type": "markdown",
   "id": "e871a9e9-4758-41a9-a58c-8563eb2632c4",
   "metadata": {
    "id": "e871a9e9-4758-41a9-a58c-8563eb2632c4"
   },
   "source": [
    "### Load"
   ]
  },
  {
   "cell_type": "code",
   "execution_count": 3,
   "id": "539d3dcf-d5a6-4cd1-bbd9-768357c0910a",
   "metadata": {
    "colab": {
     "base_uri": "https://localhost:8080/"
    },
    "id": "539d3dcf-d5a6-4cd1-bbd9-768357c0910a",
    "outputId": "c621a32d-f9ff-4bda-a021-5e086090b463"
   },
   "outputs": [
    {
     "data": {
      "text/plain": [
       "['First Term Gpa',\n",
       " 'Second Term Gpa',\n",
       " 'First Language',\n",
       " 'Funding',\n",
       " 'School',\n",
       " 'Fast Track',\n",
       " 'Coop',\n",
       " 'Residency',\n",
       " 'Gender',\n",
       " 'Previous Education',\n",
       " 'Age Group',\n",
       " 'High School Average Mark',\n",
       " 'Math Score',\n",
       " 'English Grade',\n",
       " 'FirstYearPersistence']"
      ]
     },
     "execution_count": 3,
     "metadata": {},
     "output_type": "execute_result"
    }
   ],
   "source": [
    "# Read column names from metadata\n",
    "features = METADATA[\"independent_variables\"]\n",
    "labels = METADATA[\"dependent_variable\"]\n",
    "cat_features = [k for k in VALUE_MAPPINGS.keys()]\n",
    "num_features = [f for f in features if f not in cat_features]\n",
    "columns = features + [labels]\n",
    "columns"
   ]
  },
  {
   "cell_type": "code",
   "execution_count": 4,
   "id": "fdb639a5-d278-45a9-9a9a-060fdcfcaa86",
   "metadata": {
    "colab": {
     "base_uri": "https://localhost:8080/",
     "height": 0
    },
    "id": "fdb639a5-d278-45a9-9a9a-060fdcfcaa86",
    "outputId": "0ad151e8-4bdd-4a0c-b33e-c4ea3d51e622"
   },
   "outputs": [
    {
     "data": {
      "text/html": [
       "<div>\n",
       "<style scoped>\n",
       "    .dataframe tbody tr th:only-of-type {\n",
       "        vertical-align: middle;\n",
       "    }\n",
       "\n",
       "    .dataframe tbody tr th {\n",
       "        vertical-align: top;\n",
       "    }\n",
       "\n",
       "    .dataframe thead th {\n",
       "        text-align: right;\n",
       "    }\n",
       "</style>\n",
       "<table border=\"1\" class=\"dataframe\">\n",
       "  <thead>\n",
       "    <tr style=\"text-align: right;\">\n",
       "      <th></th>\n",
       "      <th>First Term Gpa</th>\n",
       "      <th>Second Term Gpa</th>\n",
       "      <th>First Language</th>\n",
       "      <th>Funding</th>\n",
       "      <th>School</th>\n",
       "      <th>Fast Track</th>\n",
       "      <th>Coop</th>\n",
       "      <th>Residency</th>\n",
       "      <th>Gender</th>\n",
       "      <th>Previous Education</th>\n",
       "      <th>Age Group</th>\n",
       "      <th>High School Average Mark</th>\n",
       "      <th>Math Score</th>\n",
       "      <th>English Grade</th>\n",
       "      <th>FirstYearPersistence</th>\n",
       "    </tr>\n",
       "  </thead>\n",
       "  <tbody>\n",
       "    <tr>\n",
       "      <th>0</th>\n",
       "      <td>0.000000</td>\n",
       "      <td>0.000000</td>\n",
       "      <td>1.0</td>\n",
       "      <td>2</td>\n",
       "      <td>6</td>\n",
       "      <td>2</td>\n",
       "      <td>1</td>\n",
       "      <td>1</td>\n",
       "      <td>2</td>\n",
       "      <td>1.0</td>\n",
       "      <td>1.0</td>\n",
       "      <td>59.0</td>\n",
       "      <td>16.0</td>\n",
       "      <td>7.0</td>\n",
       "      <td>1</td>\n",
       "    </tr>\n",
       "    <tr>\n",
       "      <th>1</th>\n",
       "      <td>2.500000</td>\n",
       "      <td>2.000000</td>\n",
       "      <td>3.0</td>\n",
       "      <td>4</td>\n",
       "      <td>6</td>\n",
       "      <td>1</td>\n",
       "      <td>2</td>\n",
       "      <td>2</td>\n",
       "      <td>2</td>\n",
       "      <td>1.0</td>\n",
       "      <td>3.0</td>\n",
       "      <td>NaN</td>\n",
       "      <td>NaN</td>\n",
       "      <td>7.0</td>\n",
       "      <td>1</td>\n",
       "    </tr>\n",
       "    <tr>\n",
       "      <th>2</th>\n",
       "      <td>4.250000</td>\n",
       "      <td>3.923077</td>\n",
       "      <td>1.0</td>\n",
       "      <td>1</td>\n",
       "      <td>6</td>\n",
       "      <td>2</td>\n",
       "      <td>1</td>\n",
       "      <td>1</td>\n",
       "      <td>1</td>\n",
       "      <td>2.0</td>\n",
       "      <td>3.0</td>\n",
       "      <td>92.0</td>\n",
       "      <td>41.0</td>\n",
       "      <td>9.0</td>\n",
       "      <td>1</td>\n",
       "    </tr>\n",
       "    <tr>\n",
       "      <th>3</th>\n",
       "      <td>3.020833</td>\n",
       "      <td>2.321429</td>\n",
       "      <td>3.0</td>\n",
       "      <td>4</td>\n",
       "      <td>6</td>\n",
       "      <td>1</td>\n",
       "      <td>2</td>\n",
       "      <td>2</td>\n",
       "      <td>2</td>\n",
       "      <td>2.0</td>\n",
       "      <td>3.0</td>\n",
       "      <td>NaN</td>\n",
       "      <td>NaN</td>\n",
       "      <td>8.0</td>\n",
       "      <td>1</td>\n",
       "    </tr>\n",
       "    <tr>\n",
       "      <th>4</th>\n",
       "      <td>4.275000</td>\n",
       "      <td>4.326923</td>\n",
       "      <td>1.0</td>\n",
       "      <td>2</td>\n",
       "      <td>6</td>\n",
       "      <td>1</td>\n",
       "      <td>1</td>\n",
       "      <td>1</td>\n",
       "      <td>1</td>\n",
       "      <td>2.0</td>\n",
       "      <td>3.0</td>\n",
       "      <td>97.0</td>\n",
       "      <td>NaN</td>\n",
       "      <td>9.0</td>\n",
       "      <td>1</td>\n",
       "    </tr>\n",
       "  </tbody>\n",
       "</table>\n",
       "</div>"
      ],
      "text/plain": [
       "   First Term Gpa  Second Term Gpa  First Language  Funding  School  \\\n",
       "0        0.000000         0.000000             1.0        2       6   \n",
       "1        2.500000         2.000000             3.0        4       6   \n",
       "2        4.250000         3.923077             1.0        1       6   \n",
       "3        3.020833         2.321429             3.0        4       6   \n",
       "4        4.275000         4.326923             1.0        2       6   \n",
       "\n",
       "   Fast Track  Coop  Residency  Gender  Previous Education  Age Group  \\\n",
       "0           2     1          1       2                 1.0        1.0   \n",
       "1           1     2          2       2                 1.0        3.0   \n",
       "2           2     1          1       1                 2.0        3.0   \n",
       "3           1     2          2       2                 2.0        3.0   \n",
       "4           1     1          1       1                 2.0        3.0   \n",
       "\n",
       "   High School Average Mark  Math Score  English Grade  FirstYearPersistence  \n",
       "0                      59.0        16.0            7.0                     1  \n",
       "1                       NaN         NaN            7.0                     1  \n",
       "2                      92.0        41.0            9.0                     1  \n",
       "3                       NaN         NaN            8.0                     1  \n",
       "4                      97.0         NaN            9.0                     1  "
      ]
     },
     "execution_count": 4,
     "metadata": {},
     "output_type": "execute_result"
    }
   ],
   "source": [
    "# Load data\n",
    "raw = pd.read_csv(DATA_RAW_PATH, names=columns,\n",
    "                  skiprows=SKIP_ROWS, na_values='?')\n",
    "raw.head()"
   ]
  },
  {
   "cell_type": "markdown",
   "id": "38ad427c-ceba-4aff-a5ab-7d5d7a4f7c1a",
   "metadata": {
    "id": "38ad427c-ceba-4aff-a5ab-7d5d7a4f7c1a"
   },
   "source": [
    "### Explore"
   ]
  },
  {
   "cell_type": "code",
   "execution_count": 5,
   "id": "d0acd953-e6f0-4b57-97b4-3852950e2e40",
   "metadata": {
    "colab": {
     "base_uri": "https://localhost:8080/"
    },
    "id": "d0acd953-e6f0-4b57-97b4-3852950e2e40",
    "outputId": "4db54a81-41e3-4487-f897-892dfe10e260"
   },
   "outputs": [
    {
     "name": "stdout",
     "output_type": "stream",
     "text": [
      "<class 'pandas.core.frame.DataFrame'>\n",
      "RangeIndex: 1437 entries, 0 to 1436\n",
      "Data columns (total 15 columns):\n",
      " #   Column                    Non-Null Count  Dtype  \n",
      "---  ------                    --------------  -----  \n",
      " 0   First Term Gpa            1420 non-null   float64\n",
      " 1   Second Term Gpa           1277 non-null   float64\n",
      " 2   First Language            1326 non-null   float64\n",
      " 3   Funding                   1437 non-null   int64  \n",
      " 4   School                    1437 non-null   int64  \n",
      " 5   Fast Track                1437 non-null   int64  \n",
      " 6   Coop                      1437 non-null   int64  \n",
      " 7   Residency                 1437 non-null   int64  \n",
      " 8   Gender                    1437 non-null   int64  \n",
      " 9   Previous Education        1433 non-null   float64\n",
      " 10  Age Group                 1433 non-null   float64\n",
      " 11  High School Average Mark  694 non-null    float64\n",
      " 12  Math Score                975 non-null    float64\n",
      " 13  English Grade             1392 non-null   float64\n",
      " 14  FirstYearPersistence      1437 non-null   int64  \n",
      "dtypes: float64(8), int64(7)\n",
      "memory usage: 168.5 KB\n"
     ]
    }
   ],
   "source": [
    "raw.info()"
   ]
  },
  {
   "cell_type": "code",
   "execution_count": 6,
   "id": "bc0bfe13-0801-458b-b4c5-9c2f1b7dc189",
   "metadata": {
    "colab": {
     "base_uri": "https://localhost:8080/",
     "height": 0
    },
    "id": "bc0bfe13-0801-458b-b4c5-9c2f1b7dc189",
    "outputId": "edcea9b7-24b9-4cfd-9d20-5b133192555c"
   },
   "outputs": [
    {
     "data": {
      "text/html": [
       "<div>\n",
       "<style scoped>\n",
       "    .dataframe tbody tr th:only-of-type {\n",
       "        vertical-align: middle;\n",
       "    }\n",
       "\n",
       "    .dataframe tbody tr th {\n",
       "        vertical-align: top;\n",
       "    }\n",
       "\n",
       "    .dataframe thead th {\n",
       "        text-align: right;\n",
       "    }\n",
       "</style>\n",
       "<table border=\"1\" class=\"dataframe\">\n",
       "  <thead>\n",
       "    <tr style=\"text-align: right;\">\n",
       "      <th></th>\n",
       "      <th>First Term Gpa</th>\n",
       "      <th>Second Term Gpa</th>\n",
       "      <th>First Language</th>\n",
       "      <th>Funding</th>\n",
       "      <th>School</th>\n",
       "      <th>Fast Track</th>\n",
       "      <th>Coop</th>\n",
       "      <th>Residency</th>\n",
       "      <th>Gender</th>\n",
       "      <th>Previous Education</th>\n",
       "      <th>Age Group</th>\n",
       "      <th>High School Average Mark</th>\n",
       "      <th>Math Score</th>\n",
       "      <th>English Grade</th>\n",
       "      <th>FirstYearPersistence</th>\n",
       "    </tr>\n",
       "  </thead>\n",
       "  <tbody>\n",
       "    <tr>\n",
       "      <th>count</th>\n",
       "      <td>1420.000000</td>\n",
       "      <td>1277.000000</td>\n",
       "      <td>1326.000000</td>\n",
       "      <td>1437.000000</td>\n",
       "      <td>1437.0</td>\n",
       "      <td>1437.000000</td>\n",
       "      <td>1437.000000</td>\n",
       "      <td>1437.000000</td>\n",
       "      <td>1437.000000</td>\n",
       "      <td>1433.000000</td>\n",
       "      <td>1433.000000</td>\n",
       "      <td>694.000000</td>\n",
       "      <td>975.000000</td>\n",
       "      <td>1392.000000</td>\n",
       "      <td>1437.000000</td>\n",
       "    </tr>\n",
       "    <tr>\n",
       "      <th>mean</th>\n",
       "      <td>2.846073</td>\n",
       "      <td>2.820176</td>\n",
       "      <td>1.911011</td>\n",
       "      <td>2.926931</td>\n",
       "      <td>6.0</td>\n",
       "      <td>1.741823</td>\n",
       "      <td>1.695198</td>\n",
       "      <td>1.406402</td>\n",
       "      <td>1.774530</td>\n",
       "      <td>1.274948</td>\n",
       "      <td>2.631542</td>\n",
       "      <td>77.152738</td>\n",
       "      <td>32.557949</td>\n",
       "      <td>8.030172</td>\n",
       "      <td>0.791928</td>\n",
       "    </tr>\n",
       "    <tr>\n",
       "      <th>std</th>\n",
       "      <td>1.175098</td>\n",
       "      <td>1.128632</td>\n",
       "      <td>0.994892</td>\n",
       "      <td>1.257658</td>\n",
       "      <td>0.0</td>\n",
       "      <td>0.437784</td>\n",
       "      <td>0.460484</td>\n",
       "      <td>0.491332</td>\n",
       "      <td>0.419699</td>\n",
       "      <td>0.567799</td>\n",
       "      <td>1.421467</td>\n",
       "      <td>12.072760</td>\n",
       "      <td>10.709458</td>\n",
       "      <td>1.716150</td>\n",
       "      <td>0.406070</td>\n",
       "    </tr>\n",
       "    <tr>\n",
       "      <th>min</th>\n",
       "      <td>0.000000</td>\n",
       "      <td>0.000000</td>\n",
       "      <td>1.000000</td>\n",
       "      <td>1.000000</td>\n",
       "      <td>6.0</td>\n",
       "      <td>1.000000</td>\n",
       "      <td>1.000000</td>\n",
       "      <td>1.000000</td>\n",
       "      <td>1.000000</td>\n",
       "      <td>0.000000</td>\n",
       "      <td>1.000000</td>\n",
       "      <td>17.000000</td>\n",
       "      <td>6.000000</td>\n",
       "      <td>1.000000</td>\n",
       "      <td>0.000000</td>\n",
       "    </tr>\n",
       "    <tr>\n",
       "      <th>25%</th>\n",
       "      <td>2.250000</td>\n",
       "      <td>2.260000</td>\n",
       "      <td>1.000000</td>\n",
       "      <td>2.000000</td>\n",
       "      <td>6.0</td>\n",
       "      <td>1.000000</td>\n",
       "      <td>1.000000</td>\n",
       "      <td>1.000000</td>\n",
       "      <td>2.000000</td>\n",
       "      <td>1.000000</td>\n",
       "      <td>2.000000</td>\n",
       "      <td>70.000000</td>\n",
       "      <td>23.000000</td>\n",
       "      <td>7.000000</td>\n",
       "      <td>1.000000</td>\n",
       "    </tr>\n",
       "    <tr>\n",
       "      <th>50%</th>\n",
       "      <td>3.102632</td>\n",
       "      <td>3.027778</td>\n",
       "      <td>1.000000</td>\n",
       "      <td>2.000000</td>\n",
       "      <td>6.0</td>\n",
       "      <td>2.000000</td>\n",
       "      <td>2.000000</td>\n",
       "      <td>1.000000</td>\n",
       "      <td>2.000000</td>\n",
       "      <td>1.000000</td>\n",
       "      <td>3.000000</td>\n",
       "      <td>77.500000</td>\n",
       "      <td>32.000000</td>\n",
       "      <td>8.000000</td>\n",
       "      <td>1.000000</td>\n",
       "    </tr>\n",
       "    <tr>\n",
       "      <th>75%</th>\n",
       "      <td>3.739130</td>\n",
       "      <td>3.680000</td>\n",
       "      <td>3.000000</td>\n",
       "      <td>4.000000</td>\n",
       "      <td>6.0</td>\n",
       "      <td>2.000000</td>\n",
       "      <td>2.000000</td>\n",
       "      <td>2.000000</td>\n",
       "      <td>2.000000</td>\n",
       "      <td>2.000000</td>\n",
       "      <td>3.000000</td>\n",
       "      <td>85.000000</td>\n",
       "      <td>43.000000</td>\n",
       "      <td>9.000000</td>\n",
       "      <td>1.000000</td>\n",
       "    </tr>\n",
       "    <tr>\n",
       "      <th>max</th>\n",
       "      <td>4.500000</td>\n",
       "      <td>4.500000</td>\n",
       "      <td>3.000000</td>\n",
       "      <td>9.000000</td>\n",
       "      <td>6.0</td>\n",
       "      <td>2.000000</td>\n",
       "      <td>2.000000</td>\n",
       "      <td>2.000000</td>\n",
       "      <td>3.000000</td>\n",
       "      <td>2.000000</td>\n",
       "      <td>8.000000</td>\n",
       "      <td>108.000000</td>\n",
       "      <td>50.000000</td>\n",
       "      <td>10.000000</td>\n",
       "      <td>1.000000</td>\n",
       "    </tr>\n",
       "  </tbody>\n",
       "</table>\n",
       "</div>"
      ],
      "text/plain": [
       "       First Term Gpa  Second Term Gpa  First Language      Funding  School  \\\n",
       "count     1420.000000      1277.000000     1326.000000  1437.000000  1437.0   \n",
       "mean         2.846073         2.820176        1.911011     2.926931     6.0   \n",
       "std          1.175098         1.128632        0.994892     1.257658     0.0   \n",
       "min          0.000000         0.000000        1.000000     1.000000     6.0   \n",
       "25%          2.250000         2.260000        1.000000     2.000000     6.0   \n",
       "50%          3.102632         3.027778        1.000000     2.000000     6.0   \n",
       "75%          3.739130         3.680000        3.000000     4.000000     6.0   \n",
       "max          4.500000         4.500000        3.000000     9.000000     6.0   \n",
       "\n",
       "        Fast Track         Coop    Residency       Gender  Previous Education  \\\n",
       "count  1437.000000  1437.000000  1437.000000  1437.000000         1433.000000   \n",
       "mean      1.741823     1.695198     1.406402     1.774530            1.274948   \n",
       "std       0.437784     0.460484     0.491332     0.419699            0.567799   \n",
       "min       1.000000     1.000000     1.000000     1.000000            0.000000   \n",
       "25%       1.000000     1.000000     1.000000     2.000000            1.000000   \n",
       "50%       2.000000     2.000000     1.000000     2.000000            1.000000   \n",
       "75%       2.000000     2.000000     2.000000     2.000000            2.000000   \n",
       "max       2.000000     2.000000     2.000000     3.000000            2.000000   \n",
       "\n",
       "         Age Group  High School Average Mark  Math Score  English Grade  \\\n",
       "count  1433.000000                694.000000  975.000000    1392.000000   \n",
       "mean      2.631542                 77.152738   32.557949       8.030172   \n",
       "std       1.421467                 12.072760   10.709458       1.716150   \n",
       "min       1.000000                 17.000000    6.000000       1.000000   \n",
       "25%       2.000000                 70.000000   23.000000       7.000000   \n",
       "50%       3.000000                 77.500000   32.000000       8.000000   \n",
       "75%       3.000000                 85.000000   43.000000       9.000000   \n",
       "max       8.000000                108.000000   50.000000      10.000000   \n",
       "\n",
       "       FirstYearPersistence  \n",
       "count           1437.000000  \n",
       "mean               0.791928  \n",
       "std                0.406070  \n",
       "min                0.000000  \n",
       "25%                1.000000  \n",
       "50%                1.000000  \n",
       "75%                1.000000  \n",
       "max                1.000000  "
      ]
     },
     "execution_count": 6,
     "metadata": {},
     "output_type": "execute_result"
    }
   ],
   "source": [
    "raw.describe()  # statistics"
   ]
  },
  {
   "cell_type": "code",
   "execution_count": 7,
   "id": "1ed00b65-c789-4900-aa6a-c982642345b3",
   "metadata": {},
   "outputs": [
    {
     "data": {
      "text/plain": [
       "FirstYearPersistence\n",
       "1    1138\n",
       "0     299\n",
       "Name: count, dtype: int64"
      ]
     },
     "execution_count": 7,
     "metadata": {},
     "output_type": "execute_result"
    }
   ],
   "source": [
    "# Check the balanceness of the classes\n",
    "raw[labels].value_counts()"
   ]
  },
  {
   "cell_type": "code",
   "execution_count": 8,
   "id": "76e021f3-231b-45a2-842d-8cba55d965da",
   "metadata": {
    "colab": {
     "base_uri": "https://localhost:8080/",
     "height": 0
    },
    "id": "76e021f3-231b-45a2-842d-8cba55d965da",
    "outputId": "c9bb3580-26cc-4f2d-a71b-b89b1d60678e"
   },
   "outputs": [
    {
     "data": {
      "image/png": "[encoded data removed]",
      "text/plain": [
       "<Figure size 1000x800 with 2 Axes>"
      ]
     },
     "metadata": {},
     "output_type": "display_data"
    }
   ],
   "source": [
    "# Plot correlation heatmap\n",
    "def corr_heat(data):\n",
    "    corr = data.corr()\n",
    "    plt.figure(figsize=(10, 8))\n",
    "    sns.heatmap(corr, annot=True, cmap='coolwarm', fmt='.2f', vmin=-1, vmax=1)\n",
    "    plt.show()\n",
    "\n",
    "corr_heat(raw)"
   ]
  },
  {
   "cell_type": "markdown",
   "id": "a27d1e7b-9acc-45fa-bf80-51d30974f510",
   "metadata": {
    "id": "a27d1e7b-9acc-45fa-bf80-51d30974f510"
   },
   "source": [
    "### Clean"
   ]
  },
  {
   "cell_type": "markdown",
   "id": "a2e3bbf8-1c3c-4d05-b5ba-fd0896dc4616",
   "metadata": {
    "id": "a2e3bbf8-1c3c-4d05-b5ba-fd0896dc4616"
   },
   "source": [
    "#### Dropna"
   ]
  },
  {
   "cell_type": "code",
   "execution_count": 9,
   "id": "6f7d18b8-ad74-4f57-a0e3-d000a4337407",
   "metadata": {
    "colab": {
     "base_uri": "https://localhost:8080/",
     "height": 0
    },
    "id": "6f7d18b8-ad74-4f57-a0e3-d000a4337407",
    "outputId": "fde66306-75de-4ed1-a4ba-39fab0704d43"
   },
   "outputs": [
    {
     "data": {
      "text/plain": [
       "First Term Gpa              1268\n",
       "Second Term Gpa             1141\n",
       "First Language              1284\n",
       "Funding                     1284\n",
       "School                      1284\n",
       "Fast Track                  1284\n",
       "Coop                        1284\n",
       "Residency                   1284\n",
       "Gender                      1284\n",
       "Previous Education          1284\n",
       "Age Group                   1284\n",
       "High School Average Mark     665\n",
       "Math Score                   875\n",
       "English Grade               1284\n",
       "FirstYearPersistence        1284\n",
       "dtype: int64"
      ]
     },
     "execution_count": 9,
     "metadata": {},
     "output_type": "execute_result"
    }
   ],
   "source": [
    "# Drop features having small nan, weak correlation and categorical\n",
    "dropped = raw.dropna(\n",
    "    subset=[\"Previous Education\", \"Age Group\", 'First Language', 'English Grade'])\n",
    "dropped.count()"
   ]
  },
  {
   "cell_type": "markdown",
   "id": "b4ee7650-2874-4ef4-89c7-9347c6092fac",
   "metadata": {
    "id": "b4ee7650-2874-4ef4-89c7-9347c6092fac"
   },
   "source": [
    "#### Imputation"
   ]
  },
  {
   "cell_type": "code",
   "execution_count": 10,
   "id": "8cac280c-2ed0-4844-bc64-99520ff2391f",
   "metadata": {
    "id": "8cac280c-2ed0-4844-bc64-99520ff2391f"
   },
   "outputs": [],
   "source": [
    "# IterativeImputer for missing numeric values\n",
    "imputer = IterativeImputer(\n",
    "    estimator=RandomForestRegressor(),\n",
    "    max_iter=10,\n",
    "    n_nearest_features=6, # speed up and prevent overfitting\n",
    "    imputation_order=\"ascending\", # start from fewer missing features\n",
    "    tol=1,  # tolerance of the stopping condition.\n",
    "    random_state=seed)"
   ]
  },
  {
   "cell_type": "code",
   "execution_count": 11,
   "id": "ff23afb2-241b-4a6e-acac-25aee4795633",
   "metadata": {
    "id": "ff23afb2-241b-4a6e-acac-25aee4795633"
   },
   "outputs": [],
   "source": [
    "# Perform imputation\n",
    "imputed = imputer.fit_transform(dropped)"
   ]
  },
  {
   "cell_type": "markdown",
   "id": "0f5d9d1c-df24-4f5b-80f1-9b91fde665cc",
   "metadata": {},
   "source": [
    "#### Resample"
   ]
  },
  {
   "cell_type": "code",
   "execution_count": 12,
   "id": "d2043e06-2249-4dee-a6f2-45c05cea9f46",
   "metadata": {},
   "outputs": [
    {
     "name": "stdout",
     "output_type": "stream",
     "text": [
      "<class 'pandas.core.frame.DataFrame'>\n",
      "RangeIndex: 1284 entries, 0 to 1283\n",
      "Data columns (total 15 columns):\n",
      " #   Column                    Non-Null Count  Dtype  \n",
      "---  ------                    --------------  -----  \n",
      " 0   First Term Gpa            1284 non-null   float64\n",
      " 1   Second Term Gpa           1284 non-null   float64\n",
      " 2   First Language            1284 non-null   float64\n",
      " 3   Funding                   1284 non-null   float64\n",
      " 4   School                    1284 non-null   float64\n",
      " 5   Fast Track                1284 non-null   float64\n",
      " 6   Coop                      1284 non-null   float64\n",
      " 7   Residency                 1284 non-null   float64\n",
      " 8   Gender                    1284 non-null   float64\n",
      " 9   Previous Education        1284 non-null   float64\n",
      " 10  Age Group                 1284 non-null   float64\n",
      " 11  High School Average Mark  1284 non-null   float64\n",
      " 12  Math Score                1284 non-null   float64\n",
      " 13  English Grade             1284 non-null   float64\n",
      " 14  FirstYearPersistence      1284 non-null   float64\n",
      "dtypes: float64(15)\n",
      "memory usage: 150.6 KB\n"
     ]
    }
   ],
   "source": [
    "# Transform to dataframe\n",
    "imputed_df = pd.DataFrame(imputed, columns=columns)\n",
    "imputed_df.info()"
   ]
  },
  {
   "cell_type": "code",
   "execution_count": 13,
   "id": "18000f37-38f7-4c9c-bbed-446b77b25c60",
   "metadata": {},
   "outputs": [
    {
     "data": {
      "text/plain": [
       "FirstYearPersistence\n",
       "1.0    1014\n",
       "0.0    1014\n",
       "Name: count, dtype: int64"
      ]
     },
     "execution_count": 13,
     "metadata": {},
     "output_type": "execute_result"
    }
   ],
   "source": [
    "# Set sub dataframe for 2 classes\n",
    "major_df = imputed_df[imputed_df[labels] == 1]\n",
    "minor_df = imputed_df[imputed_df[labels] == 0]\n",
    "\n",
    "# upsample the minor class\n",
    "minor_upsampled = resample(minor_df,\n",
    "                           replace=True,\n",
    "                           n_samples=len(major_df),\n",
    "                           random_state=seed)\n",
    "\n",
    "resampled_df = pd.concat([major_df, minor_upsampled])\n",
    "resampled_df[labels].value_counts()"
   ]
  },
  {
   "cell_type": "markdown",
   "id": "c84389ea-479f-434f-bf1a-7ec26347246d",
   "metadata": {
    "id": "c84389ea-479f-434f-bf1a-7ec26347246d"
   },
   "source": [
    "### Save"
   ]
  },
  {
   "cell_type": "code",
   "execution_count": 14,
   "id": "c961079d-ce82-4784-be66-df63731d3184",
   "metadata": {
    "id": "c961079d-ce82-4784-be66-df63731d3184"
   },
   "outputs": [],
   "source": [
    "# save data\n",
    "resampled_df.to_csv(DATA_PATH, index=False)"
   ]
  },
  {
   "cell_type": "code",
   "execution_count": 15,
   "id": "f46f2e51-f5df-478c-a0ca-d2dad6f6295a",
   "metadata": {
    "colab": {
     "base_uri": "https://localhost:8080/",
     "height": 0
    },
    "id": "f46f2e51-f5df-478c-a0ca-d2dad6f6295a",
    "outputId": "1e8d989b-dae1-480f-ba44-b69ea2bb9b82"
   },
   "outputs": [
    {
     "data": {
      "text/html": [
       "<div>\n",
       "<style scoped>\n",
       "    .dataframe tbody tr th:only-of-type {\n",
       "        vertical-align: middle;\n",
       "    }\n",
       "\n",
       "    .dataframe tbody tr th {\n",
       "        vertical-align: top;\n",
       "    }\n",
       "\n",
       "    .dataframe thead th {\n",
       "        text-align: right;\n",
       "    }\n",
       "</style>\n",
       "<table border=\"1\" class=\"dataframe\">\n",
       "  <thead>\n",
       "    <tr style=\"text-align: right;\">\n",
       "      <th></th>\n",
       "      <th>First Term Gpa</th>\n",
       "      <th>Second Term Gpa</th>\n",
       "      <th>First Language</th>\n",
       "      <th>Funding</th>\n",
       "      <th>School</th>\n",
       "      <th>Fast Track</th>\n",
       "      <th>Coop</th>\n",
       "      <th>Residency</th>\n",
       "      <th>Gender</th>\n",
       "      <th>Previous Education</th>\n",
       "      <th>Age Group</th>\n",
       "      <th>High School Average Mark</th>\n",
       "      <th>Math Score</th>\n",
       "      <th>English Grade</th>\n",
       "      <th>FirstYearPersistence</th>\n",
       "    </tr>\n",
       "  </thead>\n",
       "  <tbody>\n",
       "    <tr>\n",
       "      <th>0</th>\n",
       "      <td>0.000000</td>\n",
       "      <td>0.000000</td>\n",
       "      <td>1.0</td>\n",
       "      <td>2.0</td>\n",
       "      <td>6.0</td>\n",
       "      <td>2.0</td>\n",
       "      <td>1.0</td>\n",
       "      <td>1.0</td>\n",
       "      <td>2.0</td>\n",
       "      <td>1.0</td>\n",
       "      <td>1.0</td>\n",
       "      <td>59.00</td>\n",
       "      <td>16.00</td>\n",
       "      <td>7.0</td>\n",
       "      <td>1.0</td>\n",
       "    </tr>\n",
       "    <tr>\n",
       "      <th>1</th>\n",
       "      <td>2.500000</td>\n",
       "      <td>2.000000</td>\n",
       "      <td>3.0</td>\n",
       "      <td>4.0</td>\n",
       "      <td>6.0</td>\n",
       "      <td>1.0</td>\n",
       "      <td>2.0</td>\n",
       "      <td>2.0</td>\n",
       "      <td>2.0</td>\n",
       "      <td>1.0</td>\n",
       "      <td>3.0</td>\n",
       "      <td>72.71</td>\n",
       "      <td>29.51</td>\n",
       "      <td>7.0</td>\n",
       "      <td>1.0</td>\n",
       "    </tr>\n",
       "    <tr>\n",
       "      <th>2</th>\n",
       "      <td>4.250000</td>\n",
       "      <td>3.923077</td>\n",
       "      <td>1.0</td>\n",
       "      <td>1.0</td>\n",
       "      <td>6.0</td>\n",
       "      <td>2.0</td>\n",
       "      <td>1.0</td>\n",
       "      <td>1.0</td>\n",
       "      <td>1.0</td>\n",
       "      <td>2.0</td>\n",
       "      <td>3.0</td>\n",
       "      <td>92.00</td>\n",
       "      <td>41.00</td>\n",
       "      <td>9.0</td>\n",
       "      <td>1.0</td>\n",
       "    </tr>\n",
       "    <tr>\n",
       "      <th>3</th>\n",
       "      <td>3.020833</td>\n",
       "      <td>2.321429</td>\n",
       "      <td>3.0</td>\n",
       "      <td>4.0</td>\n",
       "      <td>6.0</td>\n",
       "      <td>1.0</td>\n",
       "      <td>2.0</td>\n",
       "      <td>2.0</td>\n",
       "      <td>2.0</td>\n",
       "      <td>2.0</td>\n",
       "      <td>3.0</td>\n",
       "      <td>77.27</td>\n",
       "      <td>34.85</td>\n",
       "      <td>8.0</td>\n",
       "      <td>1.0</td>\n",
       "    </tr>\n",
       "    <tr>\n",
       "      <th>4</th>\n",
       "      <td>4.275000</td>\n",
       "      <td>4.326923</td>\n",
       "      <td>1.0</td>\n",
       "      <td>2.0</td>\n",
       "      <td>6.0</td>\n",
       "      <td>1.0</td>\n",
       "      <td>1.0</td>\n",
       "      <td>1.0</td>\n",
       "      <td>1.0</td>\n",
       "      <td>2.0</td>\n",
       "      <td>3.0</td>\n",
       "      <td>97.00</td>\n",
       "      <td>41.28</td>\n",
       "      <td>9.0</td>\n",
       "      <td>1.0</td>\n",
       "    </tr>\n",
       "  </tbody>\n",
       "</table>\n",
       "</div>"
      ],
      "text/plain": [
       "   First Term Gpa  Second Term Gpa  First Language  Funding  School  \\\n",
       "0        0.000000         0.000000             1.0      2.0     6.0   \n",
       "1        2.500000         2.000000             3.0      4.0     6.0   \n",
       "2        4.250000         3.923077             1.0      1.0     6.0   \n",
       "3        3.020833         2.321429             3.0      4.0     6.0   \n",
       "4        4.275000         4.326923             1.0      2.0     6.0   \n",
       "\n",
       "   Fast Track  Coop  Residency  Gender  Previous Education  Age Group  \\\n",
       "0         2.0   1.0        1.0     2.0                 1.0        1.0   \n",
       "1         1.0   2.0        2.0     2.0                 1.0        3.0   \n",
       "2         2.0   1.0        1.0     1.0                 2.0        3.0   \n",
       "3         1.0   2.0        2.0     2.0                 2.0        3.0   \n",
       "4         1.0   1.0        1.0     1.0                 2.0        3.0   \n",
       "\n",
       "   High School Average Mark  Math Score  English Grade  FirstYearPersistence  \n",
       "0                     59.00       16.00            7.0                   1.0  \n",
       "1                     72.71       29.51            7.0                   1.0  \n",
       "2                     92.00       41.00            9.0                   1.0  \n",
       "3                     77.27       34.85            8.0                   1.0  \n",
       "4                     97.00       41.28            9.0                   1.0  "
      ]
     },
     "execution_count": 15,
     "metadata": {},
     "output_type": "execute_result"
    }
   ],
   "source": [
    "# reload\n",
    "data = pd.read_csv(DATA_PATH)\n",
    "data.head()"
   ]
  },
  {
   "cell_type": "code",
   "execution_count": 16,
   "id": "67706e1c-e9a8-49b0-9fe3-4c52d02f7ddd",
   "metadata": {
    "colab": {
     "base_uri": "https://localhost:8080/"
    },
    "id": "67706e1c-e9a8-49b0-9fe3-4c52d02f7ddd",
    "outputId": "8d4a3eda-8a61-4451-cdc4-501ad06ccde5"
   },
   "outputs": [
    {
     "name": "stdout",
     "output_type": "stream",
     "text": [
      "<class 'pandas.core.frame.DataFrame'>\n",
      "RangeIndex: 2028 entries, 0 to 2027\n",
      "Data columns (total 15 columns):\n",
      " #   Column                    Non-Null Count  Dtype  \n",
      "---  ------                    --------------  -----  \n",
      " 0   First Term Gpa            2028 non-null   float64\n",
      " 1   Second Term Gpa           2028 non-null   float64\n",
      " 2   First Language            2028 non-null   float64\n",
      " 3   Funding                   2028 non-null   float64\n",
      " 4   School                    2028 non-null   float64\n",
      " 5   Fast Track                2028 non-null   float64\n",
      " 6   Coop                      2028 non-null   float64\n",
      " 7   Residency                 2028 non-null   float64\n",
      " 8   Gender                    2028 non-null   float64\n",
      " 9   Previous Education        2028 non-null   float64\n",
      " 10  Age Group                 2028 non-null   float64\n",
      " 11  High School Average Mark  2028 non-null   float64\n",
      " 12  Math Score                2028 non-null   float64\n",
      " 13  English Grade             2028 non-null   float64\n",
      " 14  FirstYearPersistence      2028 non-null   float64\n",
      "dtypes: float64(15)\n",
      "memory usage: 237.8 KB\n"
     ]
    }
   ],
   "source": [
    "data.info()"
   ]
  },
  {
   "cell_type": "markdown",
   "id": "cd981048-0a43-48ed-a4a8-b62bb64760ae",
   "metadata": {
    "id": "cd981048-0a43-48ed-a4a8-b62bb64760ae"
   },
   "source": [
    "## INPUT PIPELINE"
   ]
  },
  {
   "cell_type": "markdown",
   "id": "c7a10e0e-0421-4528-b8d8-5d5e11f5eaf4",
   "metadata": {
    "id": "c7a10e0e-0421-4528-b8d8-5d5e11f5eaf4"
   },
   "source": [
    "### Prepare"
   ]
  },
  {
   "cell_type": "code",
   "execution_count": 17,
   "id": "2f15e434-2391-4a1f-912a-4e07c09275da",
   "metadata": {
    "colab": {
     "base_uri": "https://localhost:8080/"
    },
    "id": "2f15e434-2391-4a1f-912a-4e07c09275da",
    "outputId": "0d21a2bc-8c2e-46ea-d054-c275b5e91d51"
   },
   "outputs": [
    {
     "name": "stderr",
     "output_type": "stream",
     "text": [
      "WARNING: All log messages before absl::InitializeLog() is called are written to STDERR\n",
      "I0000 00:00:1733537452.693675   64777 cuda_executor.cc:1001] could not open file to read NUMA node: /sys/bus/pci/devices/0000:01:00.0/numa_node\n",
      "Your kernel may have been built without NUMA support.\n",
      "I0000 00:00:1733537452.705658   64777 cuda_executor.cc:1001] could not open file to read NUMA node: /sys/bus/pci/devices/0000:01:00.0/numa_node\n",
      "Your kernel may have been built without NUMA support.\n",
      "I0000 00:00:1733537452.705704   64777 cuda_executor.cc:1001] could not open file to read NUMA node: /sys/bus/pci/devices/0000:01:00.0/numa_node\n",
      "Your kernel may have been built without NUMA support.\n",
      "I0000 00:00:1733537452.710104   64777 cuda_executor.cc:1001] could not open file to read NUMA node: /sys/bus/pci/devices/0000:01:00.0/numa_node\n",
      "Your kernel may have been built without NUMA support.\n",
      "I0000 00:00:1733537452.710138   64777 cuda_executor.cc:1001] could not open file to read NUMA node: /sys/bus/pci/devices/0000:01:00.0/numa_node\n",
      "Your kernel may have been built without NUMA support.\n",
      "I0000 00:00:1733537452.710151   64777 cuda_executor.cc:1001] could not open file to read NUMA node: /sys/bus/pci/devices/0000:01:00.0/numa_node\n",
      "Your kernel may have been built without NUMA support.\n",
      "I0000 00:00:1733537452.824969   64777 cuda_executor.cc:1001] could not open file to read NUMA node: /sys/bus/pci/devices/0000:01:00.0/numa_node\n",
      "Your kernel may have been built without NUMA support.\n",
      "I0000 00:00:1733537452.825020   64777 cuda_executor.cc:1001] could not open file to read NUMA node: /sys/bus/pci/devices/0000:01:00.0/numa_node\n",
      "Your kernel may have been built without NUMA support.\n",
      "2024-12-06 18:10:52.825030: I tensorflow/core/common_runtime/gpu/gpu_device.cc:2112] Could not identify NUMA node of platform GPU id 0, defaulting to 0.  Your kernel may not have been built with NUMA support.\n",
      "I0000 00:00:1733537452.825061   64777 cuda_executor.cc:1001] could not open file to read NUMA node: /sys/bus/pci/devices/0000:01:00.0/numa_node\n",
      "Your kernel may have been built without NUMA support.\n",
      "2024-12-06 18:10:52.825081: I tensorflow/core/common_runtime/gpu/gpu_device.cc:2021] Created device /job:localhost/replica:0/task:0/device:GPU:0 with 5558 MB memory:  -> device: 0, name: NVIDIA GeForce RTX 3080 Laptop GPU, pci bus id: 0000:01:00.0, compute capability: 8.6\n"
     ]
    },
    {
     "data": {
      "text/plain": [
       "[<tf.Tensor: shape=(1,), dtype=float32, numpy=array([0.], dtype=float32)>,\n",
       " <tf.Tensor: shape=(1,), dtype=float32, numpy=array([0.], dtype=float32)>,\n",
       " <tf.Tensor: shape=(1,), dtype=float32, numpy=array([0.], dtype=float32)>,\n",
       " <tf.Tensor: shape=(1,), dtype=float32, numpy=array([0.], dtype=float32)>,\n",
       " <tf.Tensor: shape=(1,), dtype=float32, numpy=array([0.], dtype=float32)>,\n",
       " <tf.Tensor: shape=(1,), dtype=float32, numpy=array([0.], dtype=float32)>,\n",
       " <tf.Tensor: shape=(1,), dtype=float32, numpy=array([0.], dtype=float32)>,\n",
       " <tf.Tensor: shape=(1,), dtype=float32, numpy=array([0.], dtype=float32)>,\n",
       " <tf.Tensor: shape=(1,), dtype=float32, numpy=array([0.], dtype=float32)>,\n",
       " <tf.Tensor: shape=(1,), dtype=float32, numpy=array([0.], dtype=float32)>,\n",
       " <tf.Tensor: shape=(1,), dtype=float32, numpy=array([0.], dtype=float32)>,\n",
       " <tf.Tensor: shape=(1,), dtype=float32, numpy=array([0.], dtype=float32)>,\n",
       " <tf.Tensor: shape=(1,), dtype=float32, numpy=array([0.], dtype=float32)>,\n",
       " <tf.Tensor: shape=(1,), dtype=float32, numpy=array([0.], dtype=float32)>,\n",
       " <tf.Tensor: shape=(1,), dtype=float32, numpy=array([0.], dtype=float32)>]"
      ]
     },
     "execution_count": 17,
     "metadata": {},
     "output_type": "execute_result"
    }
   ],
   "source": [
    "# Column defualts\n",
    "column_defaults = [\n",
    "    tf.constant([0.0], dtype=tf.float32) for _ in range(len(columns))]\n",
    "column_defaults"
   ]
  },
  {
   "cell_type": "code",
   "execution_count": 18,
   "id": "e6b18ecd-12e7-441d-bbad-2521984c826f",
   "metadata": {
    "colab": {
     "base_uri": "https://localhost:8080/"
    },
    "id": "e6b18ecd-12e7-441d-bbad-2521984c826f",
    "outputId": "35a6db7b-d7d2-4132-dc0e-523f2820f08f"
   },
   "outputs": [
    {
     "data": {
      "text/plain": [
       "([0, 1, 11, 12], [2, 3, 4, 5, 6, 7, 8, 9, 10, 13])"
      ]
     },
     "execution_count": 18,
     "metadata": {},
     "output_type": "execute_result"
    }
   ],
   "source": [
    "# Column indices for numeric and categorical features\n",
    "num_inx = [columns.index(col) for col in num_features]\n",
    "cat_inx = [columns.index(col) for col in cat_features]\n",
    "num_inx, cat_inx"
   ]
  },
  {
   "cell_type": "code",
   "execution_count": 19,
   "id": "0c2aebc7-f5e1-48b5-92b2-67d93dcb2baa",
   "metadata": {
    "colab": {
     "base_uri": "https://localhost:8080/"
    },
    "id": "0c2aebc7-f5e1-48b5-92b2-67d93dcb2baa",
    "outputId": "1d4f7ef9-1f71-4193-b62d-424c38fa4f4f"
   },
   "outputs": [
    {
     "name": "stdout",
     "output_type": "stream",
     "text": [
      "[ 2.40773218  2.25174006 77.11248006 31.77453024]\n",
      "[ 1.35948544  1.31326453 11.3561269   9.67549891]\n"
     ]
    }
   ],
   "source": [
    "# Get mean and std for numeric data\n",
    "num_mean = data[num_features].mean().values\n",
    "num_std = data[num_features].std().values\n",
    "print(num_mean)\n",
    "print(num_std)"
   ]
  },
  {
   "cell_type": "code",
   "execution_count": 20,
   "id": "a2aa62cb-bb24-4a59-8bd8-2be2fd7875eb",
   "metadata": {
    "id": "a2aa62cb-bb24-4a59-8bd8-2be2fd7875eb"
   },
   "outputs": [],
   "source": [
    "# Number of categrical values\n",
    "n_cat = [len(VALUE_MAPPINGS[col]) for col in cat_features]\n",
    "# Number of classes\n",
    "n_class = 2"
   ]
  },
  {
   "cell_type": "markdown",
   "id": "cc58a6fe-6e02-4a4e-924a-9060ea3b9cc0",
   "metadata": {
    "id": "cc58a6fe-6e02-4a4e-924a-9060ea3b9cc0"
   },
   "source": [
    "### Pipeline"
   ]
  },
  {
   "cell_type": "code",
   "execution_count": 21,
   "id": "b333cb92-cd1a-44c1-93df-c04ffe55a8b5",
   "metadata": {
    "id": "b333cb92-cd1a-44c1-93df-c04ffe55a8b5"
   },
   "outputs": [],
   "source": [
    "# Process 1 line and return x, y\n",
    "@tf.function\n",
    "def preprocess(line):\n",
    "    fields = tf.io.decode_csv(line, record_defaults=column_defaults)\n",
    "    # normalize numerical data\n",
    "    for i in range(len(num_inx)):\n",
    "        col_inx = num_inx[i]\n",
    "        mean = num_mean[i]\n",
    "        std = num_std[i]\n",
    "        fields[col_inx] = (fields[col_inx] - mean) / std\n",
    "    # convert categorical data\n",
    "    for i in range(len(cat_inx)):\n",
    "        col_inx = cat_inx[i]\n",
    "        fields[col_inx] = tf.cast(fields[col_inx], tf.int32)\n",
    "        fields[col_inx] = tf.one_hot(fields[col_inx], depth=n_cat[i])\n",
    "    # target encoding\n",
    "    fields[-1] = tf.cast(fields[-1], tf.int32)\n",
    "    fields[-1] = tf.one_hot(fields[-1], depth=n_class)\n",
    "    # build x\n",
    "    x = [tf.reshape(f, [-1]) if f.shape.ndims == 0 else f for f in fields[:-1]]\n",
    "    x = tf.concat([v for v in x], axis=0)\n",
    "    y = fields[-1]\n",
    "    return x, y"
   ]
  },
  {
   "cell_type": "code",
   "execution_count": 22,
   "id": "e8babcc4-69a4-4145-9057-f378ede918ad",
   "metadata": {
    "id": "e8babcc4-69a4-4145-9057-f378ede918ad"
   },
   "outputs": [],
   "source": [
    "# Read csv and return dataset\n",
    "def csv_reader_dataset(file_paths, n_readers=5, n_read_threads=tf.data.AUTOTUNE,\n",
    "                       shuffle_buffer_size=1500, batch_size=32):\n",
    "    dataset = tf.data.Dataset.list_files(file_paths)\n",
    "    dataset = dataset.interleave(   # use interleave to read data\n",
    "        lambda filepath: tf.data.TextLineDataset(filepath).skip(1), # skip header\n",
    "        cycle_length=n_readers, # num of elements to read parallelly\n",
    "        num_parallel_calls=n_read_threads)  # num of threads\n",
    "    # shuffle, preprocess, batch, and prefetch\n",
    "    dataset = dataset.shuffle(shuffle_buffer_size) \\\n",
    "        .map(preprocess, num_parallel_calls=n_read_threads) \\\n",
    "        .batch(batch_size) \\\n",
    "        .prefetch(tf.data.AUTOTUNE)\n",
    "    return dataset"
   ]
  },
  {
   "cell_type": "markdown",
   "id": "1b734806-1fb7-4747-bb6c-adea8234a1f3",
   "metadata": {
    "id": "1b734806-1fb7-4747-bb6c-adea8234a1f3"
   },
   "source": [
    "### Transform"
   ]
  },
  {
   "cell_type": "code",
   "execution_count": 23,
   "id": "020949b4-4838-45b0-bd8c-abe02d644365",
   "metadata": {
    "id": "020949b4-4838-45b0-bd8c-abe02d644365",
    "scrolled": true
   },
   "outputs": [],
   "source": [
    "# Read dataset using the pipeline\n",
    "dataset = csv_reader_dataset(DATA_PATH)"
   ]
  },
  {
   "cell_type": "code",
   "execution_count": 24,
   "id": "189efa10-55c7-4d27-ba59-b40f84165a18",
   "metadata": {
    "colab": {
     "base_uri": "https://localhost:8080/"
    },
    "id": "189efa10-55c7-4d27-ba59-b40f84165a18",
    "outputId": "68d8ce8c-151f-4b7c-c159-4a2ea1041a33"
   },
   "outputs": [
    {
     "data": {
      "text/plain": [
       "(<tf.Tensor: shape=(55,), dtype=float32, numpy=\n",
       " array([1.2511821 , 1.4378366 , 0.        , 1.        , 0.        ,\n",
       "        0.        , 0.        , 1.        , 0.        , 0.        ,\n",
       "        0.        , 0.        , 0.        , 0.        , 0.        ,\n",
       "        0.        , 0.        , 0.        , 0.        , 0.        ,\n",
       "        1.        , 0.        , 1.        , 0.        , 1.        ,\n",
       "        0.        , 1.        , 0.        , 1.        , 0.        ,\n",
       "        0.        , 0.        , 0.        , 0.        , 0.        ,\n",
       "        0.        , 0.        , 0.        , 1.        , 0.        ,\n",
       "        0.        , 0.        , 1.7803184 , 0.69200265, 0.        ,\n",
       "        0.        , 0.        , 0.        , 0.        , 0.        ,\n",
       "        0.        , 0.        , 0.        , 1.        , 0.        ],\n",
       "       dtype=float32)>,\n",
       " <tf.Tensor: shape=(2,), dtype=float32, numpy=array([0., 1.], dtype=float32)>)"
      ]
     },
     "execution_count": 24,
     "metadata": {},
     "output_type": "execute_result"
    }
   ],
   "source": [
    "x_batch, y_batch = next(iter(dataset.take(1)))\n",
    "x_batch[0], y_batch[0]"
   ]
  },
  {
   "cell_type": "markdown",
   "id": "d06d1711-3129-4713-94c3-a4c0803b4773",
   "metadata": {
    "id": "d06d1711-3129-4713-94c3-a4c0803b4773"
   },
   "source": [
    "### Split"
   ]
  },
  {
   "cell_type": "code",
   "execution_count": 25,
   "id": "6332ccaf-8ce3-4727-a7eb-32c5f01cac64",
   "metadata": {
    "id": "6332ccaf-8ce3-4727-a7eb-32c5f01cac64"
   },
   "outputs": [
    {
     "name": "stderr",
     "output_type": "stream",
     "text": [
      "2024-12-06 18:10:53.673669: I tensorflow/core/framework/local_rendezvous.cc:404] Local rendezvous is aborting with status: OUT_OF_RANGE: End of sequence\n"
     ]
    }
   ],
   "source": [
    "# Sizes for splitting\n",
    "n_batch = len(list(dataset.as_numpy_iterator()))\n",
    "val_size = int(0.15 * n_batch)\n",
    "test_size = int(0.15 * n_batch)\n",
    "\n",
    "# Generate train, val and test sets\n",
    "train_set = dataset.skip(val_size + test_size)\n",
    "val_set = dataset.take(val_size)\n",
    "test_set = dataset.skip(val_size).take(test_size)"
   ]
  },
  {
   "cell_type": "markdown",
   "id": "e8c78d0e-93bb-4d1b-8f05-00fd3f5480c7",
   "metadata": {
    "id": "e8c78d0e-93bb-4d1b-8f05-00fd3f5480c7"
   },
   "source": [
    "## TRAIN MODEL"
   ]
  },
  {
   "cell_type": "markdown",
   "id": "NvTjII7aI7Ro",
   "metadata": {
    "id": "NvTjII7aI7Ro"
   },
   "source": [
    "### Search Model"
   ]
  },
  {
   "cell_type": "code",
   "execution_count": 26,
   "id": "oWgUKZTUI_21",
   "metadata": {
    "id": "oWgUKZTUI_21"
   },
   "outputs": [],
   "source": [
    "# Define searching parameters\n",
    "hidden_layer_configs = [[32], [64], [128], [64, 32], [128, 64], [256, 128]]\n",
    "dropout_rates = [0.2, 0.4, 0.6]"
   ]
  },
  {
   "cell_type": "code",
   "execution_count": 27,
   "id": "eSQ4-xWdLu8f",
   "metadata": {
    "id": "eSQ4-xWdLu8f"
   },
   "outputs": [],
   "source": [
    "# Function to build model\n",
    "def build_model(hidden_layers, dropout_rate):\n",
    "    model = tf.keras.Sequential()\n",
    "    model.add(Flatten())\n",
    "    for n_hidden in hidden_layers:\n",
    "        model.add(Dense(n_hidden, activation='relu'))\n",
    "        model.add(BatchNormalization())\n",
    "        model.add(Dropout(dropout_rate))\n",
    "    model.add(Dense(2, activation='softmax'))\n",
    "    return model"
   ]
  },
  {
   "cell_type": "code",
   "execution_count": 28,
   "id": "K3pizDuCM8DK",
   "metadata": {
    "colab": {
     "base_uri": "https://localhost:8080/"
    },
    "id": "K3pizDuCM8DK",
    "outputId": "f2afab72-d2b9-400d-ecbc-631d223be550",
    "scrolled": true
   },
   "outputs": [
    {
     "name": "stdout",
     "output_type": "stream",
     "text": [
      "Training model with [32] hidden layers and dropout rate 0.2\n"
     ]
    },
    {
     "name": "stderr",
     "output_type": "stream",
     "text": [
      "WARNING: All log messages before absl::InitializeLog() is called are written to STDERR\n",
      "I0000 00:00:1733537454.393532   64837 service.cc:146] XLA service 0x7f192000ad90 initialized for platform CUDA (this does not guarantee that XLA will be used). Devices:\n",
      "I0000 00:00:1733537454.393574   64837 service.cc:154]   StreamExecutor device (0): NVIDIA GeForce RTX 3080 Laptop GPU, Compute Capability 8.6\n",
      "2024-12-06 18:10:54.411334: I tensorflow/compiler/mlir/tensorflow/utils/dump_mlir_util.cc:268] disabling MLIR crash reproducer, set env var `MLIR_CRASH_REPRODUCER_DIRECTORY` to enable.\n",
      "2024-12-06 18:10:54.497145: I external/local_xla/xla/stream_executor/cuda/cuda_dnn.cc:531] Loaded cuDNN version 8907\n",
      "I0000 00:00:1733537455.231059   64837 device_compiler.h:188] Compiled cluster using XLA!  This line is logged at most once for the lifetime of the process.\n",
      "2024-12-06 18:10:55.922921: I tensorflow/core/framework/local_rendezvous.cc:404] Local rendezvous is aborting with status: OUT_OF_RANGE: End of sequence\n",
      "\t [[{{node IteratorGetNext}}]]\n",
      "2024-12-06 18:10:55.922975: I tensorflow/core/framework/local_rendezvous.cc:423] Local rendezvous recv item cancelled. Key hash: 1617439466416798285\n",
      "2024-12-06 18:10:55.922997: I tensorflow/core/framework/local_rendezvous.cc:423] Local rendezvous recv item cancelled. Key hash: 15719206370131305061\n",
      "/root/miniconda3/envs/tf/lib/python3.9/contextlib.py:137: UserWarning: Your input ran out of data; interrupting training. Make sure that your dataset or generator can generate at least `steps_per_epoch * epochs` batches. You may need to use the `.repeat()` function when building your dataset.\n",
      "  self.gen.throw(typ, value, traceback)\n",
      "2024-12-06 18:10:56.417845: I tensorflow/core/framework/local_rendezvous.cc:404] Local rendezvous is aborting with status: OUT_OF_RANGE: End of sequence\n",
      "\t [[{{node IteratorGetNext}}]]\n",
      "2024-12-06 18:10:56.417891: I tensorflow/core/framework/local_rendezvous.cc:423] Local rendezvous recv item cancelled. Key hash: 1617439466416798285\n",
      "2024-12-06 18:10:56.417911: I tensorflow/core/framework/local_rendezvous.cc:423] Local rendezvous recv item cancelled. Key hash: 15719206370131305061\n",
      "2024-12-06 18:10:56.567585: I tensorflow/core/framework/local_rendezvous.cc:423] Local rendezvous recv item cancelled. Key hash: 1617439466416798285\n",
      "2024-12-06 18:10:56.567642: I tensorflow/core/framework/local_rendezvous.cc:423] Local rendezvous recv item cancelled. Key hash: 15719206370131305061\n",
      "2024-12-06 18:10:56.663087: I tensorflow/core/framework/local_rendezvous.cc:404] Local rendezvous is aborting with status: OUT_OF_RANGE: End of sequence\n",
      "\t [[{{node IteratorGetNext}}]]\n",
      "2024-12-06 18:10:56.663153: I tensorflow/core/framework/local_rendezvous.cc:423] Local rendezvous recv item cancelled. Key hash: 1617439466416798285\n",
      "2024-12-06 18:10:56.663181: I tensorflow/core/framework/local_rendezvous.cc:423] Local rendezvous recv item cancelled. Key hash: 15719206370131305061\n",
      "2024-12-06 18:10:56.833252: I tensorflow/core/framework/local_rendezvous.cc:423] Local rendezvous recv item cancelled. Key hash: 1617439466416798285\n",
      "2024-12-06 18:10:56.833317: I tensorflow/core/framework/local_rendezvous.cc:423] Local rendezvous recv item cancelled. Key hash: 15719206370131305061\n",
      "2024-12-06 18:10:56.934951: I tensorflow/core/framework/local_rendezvous.cc:423] Local rendezvous recv item cancelled. Key hash: 1617439466416798285\n",
      "2024-12-06 18:10:56.935016: I tensorflow/core/framework/local_rendezvous.cc:423] Local rendezvous recv item cancelled. Key hash: 15719206370131305061\n",
      "2024-12-06 18:10:57.083895: I tensorflow/core/framework/local_rendezvous.cc:423] Local rendezvous recv item cancelled. Key hash: 1617439466416798285\n",
      "2024-12-06 18:10:57.083958: I tensorflow/core/framework/local_rendezvous.cc:423] Local rendezvous recv item cancelled. Key hash: 15719206370131305061\n",
      "2024-12-06 18:10:57.171490: I tensorflow/core/framework/local_rendezvous.cc:404] Local rendezvous is aborting with status: OUT_OF_RANGE: End of sequence\n",
      "\t [[{{node IteratorGetNext}}]]\n",
      "2024-12-06 18:10:57.171542: I tensorflow/core/framework/local_rendezvous.cc:423] Local rendezvous recv item cancelled. Key hash: 1617439466416798285\n",
      "2024-12-06 18:10:57.171563: I tensorflow/core/framework/local_rendezvous.cc:423] Local rendezvous recv item cancelled. Key hash: 15719206370131305061\n",
      "2024-12-06 18:10:57.323583: I tensorflow/core/framework/local_rendezvous.cc:423] Local rendezvous recv item cancelled. Key hash: 1617439466416798285\n",
      "2024-12-06 18:10:57.323641: I tensorflow/core/framework/local_rendezvous.cc:423] Local rendezvous recv item cancelled. Key hash: 15719206370131305061\n",
      "2024-12-06 18:10:57.409479: I tensorflow/core/framework/local_rendezvous.cc:423] Local rendezvous recv item cancelled. Key hash: 1617439466416798285\n",
      "2024-12-06 18:10:57.409537: I tensorflow/core/framework/local_rendezvous.cc:423] Local rendezvous recv item cancelled. Key hash: 15719206370131305061\n",
      "2024-12-06 18:10:57.559498: I tensorflow/core/framework/local_rendezvous.cc:423] Local rendezvous recv item cancelled. Key hash: 1617439466416798285\n",
      "2024-12-06 18:10:57.559559: I tensorflow/core/framework/local_rendezvous.cc:423] Local rendezvous recv item cancelled. Key hash: 15719206370131305061\n",
      "2024-12-06 18:10:57.645726: I tensorflow/core/framework/local_rendezvous.cc:423] Local rendezvous recv item cancelled. Key hash: 1617439466416798285\n",
      "2024-12-06 18:10:57.645782: I tensorflow/core/framework/local_rendezvous.cc:423] Local rendezvous recv item cancelled. Key hash: 15719206370131305061\n",
      "2024-12-06 18:11:01.135972: I tensorflow/core/framework/local_rendezvous.cc:423] Local rendezvous recv item cancelled. Key hash: 1617439466416798285\n",
      "2024-12-06 18:11:01.136041: I tensorflow/core/framework/local_rendezvous.cc:423] Local rendezvous recv item cancelled. Key hash: 15719206370131305061\n",
      "2024-12-06 18:11:01.230049: I tensorflow/core/framework/local_rendezvous.cc:423] Local rendezvous recv item cancelled. Key hash: 1617439466416798285\n",
      "2024-12-06 18:11:01.230126: I tensorflow/core/framework/local_rendezvous.cc:423] Local rendezvous recv item cancelled. Key hash: 15719206370131305061\n",
      "2024-12-06 18:11:01.379412: I tensorflow/core/framework/local_rendezvous.cc:423] Local rendezvous recv item cancelled. Key hash: 1617439466416798285\n",
      "2024-12-06 18:11:01.379474: I tensorflow/core/framework/local_rendezvous.cc:423] Local rendezvous recv item cancelled. Key hash: 15719206370131305061\n",
      "2024-12-06 18:11:01.467470: I tensorflow/core/framework/local_rendezvous.cc:404] Local rendezvous is aborting with status: OUT_OF_RANGE: End of sequence\n",
      "\t [[{{node IteratorGetNext}}]]\n",
      "2024-12-06 18:11:01.467516: I tensorflow/core/framework/local_rendezvous.cc:423] Local rendezvous recv item cancelled. Key hash: 1617439466416798285\n",
      "2024-12-06 18:11:01.467537: I tensorflow/core/framework/local_rendezvous.cc:423] Local rendezvous recv item cancelled. Key hash: 15719206370131305061\n",
      "2024-12-06 18:11:01.611855: I tensorflow/core/framework/local_rendezvous.cc:423] Local rendezvous recv item cancelled. Key hash: 1617439466416798285\n",
      "2024-12-06 18:11:01.611912: I tensorflow/core/framework/local_rendezvous.cc:423] Local rendezvous recv item cancelled. Key hash: 15719206370131305061\n",
      "2024-12-06 18:11:01.698416: I tensorflow/core/framework/local_rendezvous.cc:423] Local rendezvous recv item cancelled. Key hash: 1617439466416798285\n",
      "2024-12-06 18:11:01.698472: I tensorflow/core/framework/local_rendezvous.cc:423] Local rendezvous recv item cancelled. Key hash: 15719206370131305061\n",
      "2024-12-06 18:11:01.859351: I tensorflow/core/framework/local_rendezvous.cc:423] Local rendezvous recv item cancelled. Key hash: 1617439466416798285\n",
      "2024-12-06 18:11:01.859423: I tensorflow/core/framework/local_rendezvous.cc:423] Local rendezvous recv item cancelled. Key hash: 15719206370131305061\n",
      "2024-12-06 18:11:01.947384: I tensorflow/core/framework/local_rendezvous.cc:423] Local rendezvous recv item cancelled. Key hash: 1617439466416798285\n",
      "2024-12-06 18:11:01.947448: I tensorflow/core/framework/local_rendezvous.cc:423] Local rendezvous recv item cancelled. Key hash: 15719206370131305061\n"
     ]
    },
    {
     "name": "stdout",
     "output_type": "stream",
     "text": [
      "--> Found new best model - hidden layers=[32]; dropout rate=0.2 Validation loss: 0.4332\n",
      "Training model with [32] hidden layers and dropout rate 0.4\n"
     ]
    },
    {
     "name": "stderr",
     "output_type": "stream",
     "text": [
      "2024-12-06 18:11:04.173067: I tensorflow/core/framework/local_rendezvous.cc:423] Local rendezvous recv item cancelled. Key hash: 1617439466416798285\n",
      "2024-12-06 18:11:04.173126: I tensorflow/core/framework/local_rendezvous.cc:423] Local rendezvous recv item cancelled. Key hash: 15719206370131305061\n",
      "2024-12-06 18:11:04.591408: I tensorflow/core/framework/local_rendezvous.cc:423] Local rendezvous recv item cancelled. Key hash: 15719206370131305061\n",
      "2024-12-06 18:11:04.591463: I tensorflow/core/framework/local_rendezvous.cc:423] Local rendezvous recv item cancelled. Key hash: 1617439466416798285\n",
      "2024-12-06 18:11:04.790178: I tensorflow/core/framework/local_rendezvous.cc:423] Local rendezvous recv item cancelled. Key hash: 1617439466416798285\n",
      "2024-12-06 18:11:04.884552: I tensorflow/core/framework/local_rendezvous.cc:423] Local rendezvous recv item cancelled. Key hash: 15719206370131305061\n",
      "2024-12-06 18:11:04.884608: I tensorflow/core/framework/local_rendezvous.cc:423] Local rendezvous recv item cancelled. Key hash: 1617439466416798285\n",
      "2024-12-06 18:11:05.053330: I tensorflow/core/framework/local_rendezvous.cc:423] Local rendezvous recv item cancelled. Key hash: 1617439466416798285\n",
      "2024-12-06 18:11:05.053388: I tensorflow/core/framework/local_rendezvous.cc:423] Local rendezvous recv item cancelled. Key hash: 15719206370131305061\n",
      "2024-12-06 18:11:05.147951: I tensorflow/core/framework/local_rendezvous.cc:423] Local rendezvous recv item cancelled. Key hash: 15719206370131305061\n",
      "2024-12-06 18:11:05.148007: I tensorflow/core/framework/local_rendezvous.cc:423] Local rendezvous recv item cancelled. Key hash: 1617439466416798285\n",
      "2024-12-06 18:11:05.357167: I tensorflow/core/framework/local_rendezvous.cc:423] Local rendezvous recv item cancelled. Key hash: 1617439466416798285\n",
      "2024-12-06 18:11:05.357244: I tensorflow/core/framework/local_rendezvous.cc:423] Local rendezvous recv item cancelled. Key hash: 15719206370131305061\n",
      "2024-12-06 18:11:05.455596: I tensorflow/core/framework/local_rendezvous.cc:423] Local rendezvous recv item cancelled. Key hash: 15719206370131305061\n",
      "2024-12-06 18:11:05.455653: I tensorflow/core/framework/local_rendezvous.cc:423] Local rendezvous recv item cancelled. Key hash: 1617439466416798285\n",
      "2024-12-06 18:11:05.689915: I tensorflow/core/framework/local_rendezvous.cc:423] Local rendezvous recv item cancelled. Key hash: 1617439466416798285\n",
      "2024-12-06 18:11:05.689986: I tensorflow/core/framework/local_rendezvous.cc:423] Local rendezvous recv item cancelled. Key hash: 15719206370131305061\n",
      "2024-12-06 18:11:05.781890: I tensorflow/core/framework/local_rendezvous.cc:423] Local rendezvous recv item cancelled. Key hash: 15719206370131305061\n",
      "2024-12-06 18:11:05.781945: I tensorflow/core/framework/local_rendezvous.cc:423] Local rendezvous recv item cancelled. Key hash: 1617439466416798285\n",
      "2024-12-06 18:11:05.979496: I tensorflow/core/framework/local_rendezvous.cc:423] Local rendezvous recv item cancelled. Key hash: 1617439466416798285\n",
      "2024-12-06 18:11:05.979564: I tensorflow/core/framework/local_rendezvous.cc:423] Local rendezvous recv item cancelled. Key hash: 15719206370131305061\n",
      "2024-12-06 18:11:06.071058: I tensorflow/core/framework/local_rendezvous.cc:404] Local rendezvous is aborting with status: OUT_OF_RANGE: End of sequence\n",
      "\t [[{{node IteratorGetNext}}]]\n",
      "2024-12-06 18:11:06.071102: I tensorflow/core/framework/local_rendezvous.cc:423] Local rendezvous recv item cancelled. Key hash: 15719206370131305061\n",
      "2024-12-06 18:11:06.071122: I tensorflow/core/framework/local_rendezvous.cc:423] Local rendezvous recv item cancelled. Key hash: 1617439466416798285\n",
      "2024-12-06 18:11:06.246531: I tensorflow/core/framework/local_rendezvous.cc:423] Local rendezvous recv item cancelled. Key hash: 1617439466416798285\n",
      "2024-12-06 18:11:06.246589: I tensorflow/core/framework/local_rendezvous.cc:423] Local rendezvous recv item cancelled. Key hash: 15719206370131305061\n",
      "2024-12-06 18:11:06.338195: I tensorflow/core/framework/local_rendezvous.cc:423] Local rendezvous recv item cancelled. Key hash: 15719206370131305061\n",
      "2024-12-06 18:11:06.338250: I tensorflow/core/framework/local_rendezvous.cc:423] Local rendezvous recv item cancelled. Key hash: 1617439466416798285\n",
      "2024-12-06 18:11:06.541568: I tensorflow/core/framework/local_rendezvous.cc:423] Local rendezvous recv item cancelled. Key hash: 1617439466416798285\n",
      "2024-12-06 18:11:06.541628: I tensorflow/core/framework/local_rendezvous.cc:423] Local rendezvous recv item cancelled. Key hash: 15719206370131305061\n",
      "2024-12-06 18:11:06.636560: I tensorflow/core/framework/local_rendezvous.cc:423] Local rendezvous recv item cancelled. Key hash: 15719206370131305061\n",
      "2024-12-06 18:11:06.636616: I tensorflow/core/framework/local_rendezvous.cc:423] Local rendezvous recv item cancelled. Key hash: 1617439466416798285\n",
      "2024-12-06 18:11:06.801396: I tensorflow/core/framework/local_rendezvous.cc:423] Local rendezvous recv item cancelled. Key hash: 1617439466416798285\n",
      "2024-12-06 18:11:06.801454: I tensorflow/core/framework/local_rendezvous.cc:423] Local rendezvous recv item cancelled. Key hash: 15719206370131305061\n",
      "2024-12-06 18:11:06.897244: I tensorflow/core/framework/local_rendezvous.cc:423] Local rendezvous recv item cancelled. Key hash: 15719206370131305061\n",
      "2024-12-06 18:11:06.897309: I tensorflow/core/framework/local_rendezvous.cc:423] Local rendezvous recv item cancelled. Key hash: 1617439466416798285\n",
      "2024-12-06 18:11:07.093655: I tensorflow/core/framework/local_rendezvous.cc:423] Local rendezvous recv item cancelled. Key hash: 1617439466416798285\n",
      "2024-12-06 18:11:07.093713: I tensorflow/core/framework/local_rendezvous.cc:423] Local rendezvous recv item cancelled. Key hash: 15719206370131305061\n",
      "2024-12-06 18:11:07.190737: I tensorflow/core/framework/local_rendezvous.cc:423] Local rendezvous recv item cancelled. Key hash: 15719206370131305061\n",
      "2024-12-06 18:11:07.190814: I tensorflow/core/framework/local_rendezvous.cc:423] Local rendezvous recv item cancelled. Key hash: 1617439466416798285\n"
     ]
    },
    {
     "name": "stdout",
     "output_type": "stream",
     "text": [
      "--> Found new best model - hidden layers=[32]; dropout rate=0.4 Validation loss: 0.3879\n",
      "Training model with [32] hidden layers and dropout rate 0.6\n"
     ]
    },
    {
     "name": "stderr",
     "output_type": "stream",
     "text": [
      "2024-12-06 18:11:09.317388: I tensorflow/core/framework/local_rendezvous.cc:423] Local rendezvous recv item cancelled. Key hash: 1617439466416798285\n",
      "2024-12-06 18:11:09.317455: I tensorflow/core/framework/local_rendezvous.cc:423] Local rendezvous recv item cancelled. Key hash: 15719206370131305061\n",
      "2024-12-06 18:11:09.757855: I tensorflow/core/framework/local_rendezvous.cc:423] Local rendezvous recv item cancelled. Key hash: 15719206370131305061\n",
      "2024-12-06 18:11:09.757911: I tensorflow/core/framework/local_rendezvous.cc:423] Local rendezvous recv item cancelled. Key hash: 1617439466416798285\n",
      "2024-12-06 18:11:09.951332: I tensorflow/core/framework/local_rendezvous.cc:423] Local rendezvous recv item cancelled. Key hash: 1617439466416798285\n",
      "2024-12-06 18:11:09.951397: I tensorflow/core/framework/local_rendezvous.cc:423] Local rendezvous recv item cancelled. Key hash: 15719206370131305061\n",
      "2024-12-06 18:11:10.040736: I tensorflow/core/framework/local_rendezvous.cc:423] Local rendezvous recv item cancelled. Key hash: 15719206370131305061\n",
      "2024-12-06 18:11:10.040785: I tensorflow/core/framework/local_rendezvous.cc:423] Local rendezvous recv item cancelled. Key hash: 1617439466416798285\n",
      "2024-12-06 18:11:10.209092: I tensorflow/core/framework/local_rendezvous.cc:423] Local rendezvous recv item cancelled. Key hash: 1617439466416798285\n",
      "2024-12-06 18:11:10.209213: I tensorflow/core/framework/local_rendezvous.cc:423] Local rendezvous recv item cancelled. Key hash: 15719206370131305061\n",
      "2024-12-06 18:11:10.302711: I tensorflow/core/framework/local_rendezvous.cc:423] Local rendezvous recv item cancelled. Key hash: 15719206370131305061\n",
      "2024-12-06 18:11:10.302769: I tensorflow/core/framework/local_rendezvous.cc:423] Local rendezvous recv item cancelled. Key hash: 1617439466416798285\n",
      "2024-12-06 18:11:10.478338: I tensorflow/core/framework/local_rendezvous.cc:423] Local rendezvous recv item cancelled. Key hash: 1617439466416798285\n",
      "2024-12-06 18:11:10.478397: I tensorflow/core/framework/local_rendezvous.cc:423] Local rendezvous recv item cancelled. Key hash: 15719206370131305061\n",
      "2024-12-06 18:11:10.570769: I tensorflow/core/framework/local_rendezvous.cc:423] Local rendezvous recv item cancelled. Key hash: 15719206370131305061\n",
      "2024-12-06 18:11:10.570826: I tensorflow/core/framework/local_rendezvous.cc:423] Local rendezvous recv item cancelled. Key hash: 1617439466416798285\n",
      "2024-12-06 18:11:10.747457: I tensorflow/core/framework/local_rendezvous.cc:423] Local rendezvous recv item cancelled. Key hash: 1617439466416798285\n",
      "2024-12-06 18:11:10.747513: I tensorflow/core/framework/local_rendezvous.cc:423] Local rendezvous recv item cancelled. Key hash: 15719206370131305061\n",
      "2024-12-06 18:11:10.839937: I tensorflow/core/framework/local_rendezvous.cc:423] Local rendezvous recv item cancelled. Key hash: 15719206370131305061\n",
      "2024-12-06 18:11:10.839991: I tensorflow/core/framework/local_rendezvous.cc:423] Local rendezvous recv item cancelled. Key hash: 1617439466416798285\n",
      "2024-12-06 18:11:11.005237: I tensorflow/core/framework/local_rendezvous.cc:423] Local rendezvous recv item cancelled. Key hash: 1617439466416798285\n",
      "2024-12-06 18:11:11.005296: I tensorflow/core/framework/local_rendezvous.cc:423] Local rendezvous recv item cancelled. Key hash: 15719206370131305061\n",
      "2024-12-06 18:11:11.094632: I tensorflow/core/framework/local_rendezvous.cc:423] Local rendezvous recv item cancelled. Key hash: 15719206370131305061\n",
      "2024-12-06 18:11:11.094687: I tensorflow/core/framework/local_rendezvous.cc:423] Local rendezvous recv item cancelled. Key hash: 1617439466416798285\n",
      "2024-12-06 18:11:11.261535: I tensorflow/core/framework/local_rendezvous.cc:423] Local rendezvous recv item cancelled. Key hash: 1617439466416798285\n",
      "2024-12-06 18:11:11.261604: I tensorflow/core/framework/local_rendezvous.cc:423] Local rendezvous recv item cancelled. Key hash: 15719206370131305061\n",
      "2024-12-06 18:11:11.356608: I tensorflow/core/framework/local_rendezvous.cc:423] Local rendezvous recv item cancelled. Key hash: 15719206370131305061\n",
      "2024-12-06 18:11:11.356682: I tensorflow/core/framework/local_rendezvous.cc:423] Local rendezvous recv item cancelled. Key hash: 1617439466416798285\n",
      "2024-12-06 18:11:11.516792: I tensorflow/core/framework/local_rendezvous.cc:423] Local rendezvous recv item cancelled. Key hash: 1617439466416798285\n",
      "2024-12-06 18:11:11.516848: I tensorflow/core/framework/local_rendezvous.cc:423] Local rendezvous recv item cancelled. Key hash: 15719206370131305061\n",
      "2024-12-06 18:11:11.607750: I tensorflow/core/framework/local_rendezvous.cc:423] Local rendezvous recv item cancelled. Key hash: 15719206370131305061\n",
      "2024-12-06 18:11:11.607805: I tensorflow/core/framework/local_rendezvous.cc:423] Local rendezvous recv item cancelled. Key hash: 1617439466416798285\n",
      "2024-12-06 18:11:11.766378: I tensorflow/core/framework/local_rendezvous.cc:423] Local rendezvous recv item cancelled. Key hash: 1617439466416798285\n",
      "2024-12-06 18:11:11.766435: I tensorflow/core/framework/local_rendezvous.cc:423] Local rendezvous recv item cancelled. Key hash: 15719206370131305061\n",
      "2024-12-06 18:11:11.855231: I tensorflow/core/framework/local_rendezvous.cc:423] Local rendezvous recv item cancelled. Key hash: 15719206370131305061\n",
      "2024-12-06 18:11:11.855287: I tensorflow/core/framework/local_rendezvous.cc:423] Local rendezvous recv item cancelled. Key hash: 1617439466416798285\n",
      "2024-12-06 18:11:12.024367: I tensorflow/core/framework/local_rendezvous.cc:423] Local rendezvous recv item cancelled. Key hash: 1617439466416798285\n",
      "2024-12-06 18:11:12.024426: I tensorflow/core/framework/local_rendezvous.cc:423] Local rendezvous recv item cancelled. Key hash: 15719206370131305061\n",
      "2024-12-06 18:11:12.112837: I tensorflow/core/framework/local_rendezvous.cc:423] Local rendezvous recv item cancelled. Key hash: 15719206370131305061\n",
      "2024-12-06 18:11:12.112892: I tensorflow/core/framework/local_rendezvous.cc:423] Local rendezvous recv item cancelled. Key hash: 1617439466416798285\n"
     ]
    },
    {
     "name": "stdout",
     "output_type": "stream",
     "text": [
      "Training model with [64] hidden layers and dropout rate 0.2\n"
     ]
    },
    {
     "name": "stderr",
     "output_type": "stream",
     "text": [
      "2024-12-06 18:11:14.582148: I tensorflow/core/framework/local_rendezvous.cc:423] Local rendezvous recv item cancelled. Key hash: 1617439466416798285\n",
      "2024-12-06 18:11:14.582213: I tensorflow/core/framework/local_rendezvous.cc:423] Local rendezvous recv item cancelled. Key hash: 15719206370131305061\n",
      "2024-12-06 18:11:15.053793: I tensorflow/core/framework/local_rendezvous.cc:423] Local rendezvous recv item cancelled. Key hash: 1617439466416798285\n",
      "2024-12-06 18:11:15.053846: I tensorflow/core/framework/local_rendezvous.cc:423] Local rendezvous recv item cancelled. Key hash: 15719206370131305061\n",
      "2024-12-06 18:11:15.239883: I tensorflow/core/framework/local_rendezvous.cc:423] Local rendezvous recv item cancelled. Key hash: 1617439466416798285\n",
      "2024-12-06 18:11:15.239941: I tensorflow/core/framework/local_rendezvous.cc:423] Local rendezvous recv item cancelled. Key hash: 15719206370131305061\n",
      "2024-12-06 18:11:15.331721: I tensorflow/core/framework/local_rendezvous.cc:404] Local rendezvous is aborting with status: OUT_OF_RANGE: End of sequence\n",
      "\t [[{{node IteratorGetNext}}]]\n",
      "2024-12-06 18:11:15.331771: I tensorflow/core/framework/local_rendezvous.cc:423] Local rendezvous recv item cancelled. Key hash: 1617439466416798285\n",
      "2024-12-06 18:11:15.331792: I tensorflow/core/framework/local_rendezvous.cc:423] Local rendezvous recv item cancelled. Key hash: 15719206370131305061\n",
      "2024-12-06 18:11:15.486255: I tensorflow/core/framework/local_rendezvous.cc:423] Local rendezvous recv item cancelled. Key hash: 1617439466416798285\n",
      "2024-12-06 18:11:15.486311: I tensorflow/core/framework/local_rendezvous.cc:423] Local rendezvous recv item cancelled. Key hash: 15719206370131305061\n",
      "2024-12-06 18:11:15.577749: I tensorflow/core/framework/local_rendezvous.cc:423] Local rendezvous recv item cancelled. Key hash: 1617439466416798285\n",
      "2024-12-06 18:11:15.577806: I tensorflow/core/framework/local_rendezvous.cc:423] Local rendezvous recv item cancelled. Key hash: 15719206370131305061\n",
      "2024-12-06 18:11:15.755661: I tensorflow/core/framework/local_rendezvous.cc:423] Local rendezvous recv item cancelled. Key hash: 1617439466416798285\n",
      "2024-12-06 18:11:15.851498: I tensorflow/core/framework/local_rendezvous.cc:423] Local rendezvous recv item cancelled. Key hash: 1617439466416798285\n",
      "2024-12-06 18:11:15.851559: I tensorflow/core/framework/local_rendezvous.cc:423] Local rendezvous recv item cancelled. Key hash: 15719206370131305061\n",
      "2024-12-06 18:11:16.027912: I tensorflow/core/framework/local_rendezvous.cc:423] Local rendezvous recv item cancelled. Key hash: 1617439466416798285\n",
      "2024-12-06 18:11:16.027970: I tensorflow/core/framework/local_rendezvous.cc:423] Local rendezvous recv item cancelled. Key hash: 15719206370131305061\n",
      "2024-12-06 18:11:16.120670: I tensorflow/core/framework/local_rendezvous.cc:423] Local rendezvous recv item cancelled. Key hash: 1617439466416798285\n",
      "2024-12-06 18:11:16.120727: I tensorflow/core/framework/local_rendezvous.cc:423] Local rendezvous recv item cancelled. Key hash: 15719206370131305061\n",
      "2024-12-06 18:11:16.289726: I tensorflow/core/framework/local_rendezvous.cc:423] Local rendezvous recv item cancelled. Key hash: 1617439466416798285\n",
      "2024-12-06 18:11:16.289799: I tensorflow/core/framework/local_rendezvous.cc:423] Local rendezvous recv item cancelled. Key hash: 15719206370131305061\n",
      "2024-12-06 18:11:16.384718: I tensorflow/core/framework/local_rendezvous.cc:423] Local rendezvous recv item cancelled. Key hash: 1617439466416798285\n",
      "2024-12-06 18:11:16.384783: I tensorflow/core/framework/local_rendezvous.cc:423] Local rendezvous recv item cancelled. Key hash: 15719206370131305061\n",
      "2024-12-06 18:11:16.553450: I tensorflow/core/framework/local_rendezvous.cc:423] Local rendezvous recv item cancelled. Key hash: 1617439466416798285\n",
      "2024-12-06 18:11:16.553509: I tensorflow/core/framework/local_rendezvous.cc:423] Local rendezvous recv item cancelled. Key hash: 15719206370131305061\n",
      "2024-12-06 18:11:16.643250: I tensorflow/core/framework/local_rendezvous.cc:423] Local rendezvous recv item cancelled. Key hash: 1617439466416798285\n",
      "2024-12-06 18:11:16.643370: I tensorflow/core/framework/local_rendezvous.cc:423] Local rendezvous recv item cancelled. Key hash: 15719206370131305061\n",
      "2024-12-06 18:11:16.799514: I tensorflow/core/framework/local_rendezvous.cc:423] Local rendezvous recv item cancelled. Key hash: 1617439466416798285\n",
      "2024-12-06 18:11:16.799570: I tensorflow/core/framework/local_rendezvous.cc:423] Local rendezvous recv item cancelled. Key hash: 15719206370131305061\n",
      "2024-12-06 18:11:16.890758: I tensorflow/core/framework/local_rendezvous.cc:423] Local rendezvous recv item cancelled. Key hash: 1617439466416798285\n",
      "2024-12-06 18:11:16.890837: I tensorflow/core/framework/local_rendezvous.cc:423] Local rendezvous recv item cancelled. Key hash: 15719206370131305061\n",
      "2024-12-06 18:11:17.092728: I tensorflow/core/framework/local_rendezvous.cc:423] Local rendezvous recv item cancelled. Key hash: 1617439466416798285\n",
      "2024-12-06 18:11:17.092791: I tensorflow/core/framework/local_rendezvous.cc:423] Local rendezvous recv item cancelled. Key hash: 15719206370131305061\n",
      "2024-12-06 18:11:17.189397: I tensorflow/core/framework/local_rendezvous.cc:423] Local rendezvous recv item cancelled. Key hash: 1617439466416798285\n",
      "2024-12-06 18:11:17.189460: I tensorflow/core/framework/local_rendezvous.cc:423] Local rendezvous recv item cancelled. Key hash: 15719206370131305061\n",
      "2024-12-06 18:11:17.403331: I tensorflow/core/framework/local_rendezvous.cc:423] Local rendezvous recv item cancelled. Key hash: 1617439466416798285\n",
      "2024-12-06 18:11:17.403394: I tensorflow/core/framework/local_rendezvous.cc:423] Local rendezvous recv item cancelled. Key hash: 15719206370131305061\n",
      "2024-12-06 18:11:17.496090: I tensorflow/core/framework/local_rendezvous.cc:423] Local rendezvous recv item cancelled. Key hash: 1617439466416798285\n",
      "2024-12-06 18:11:17.496152: I tensorflow/core/framework/local_rendezvous.cc:423] Local rendezvous recv item cancelled. Key hash: 15719206370131305061\n"
     ]
    },
    {
     "name": "stdout",
     "output_type": "stream",
     "text": [
      "--> Found new best model - hidden layers=[64]; dropout rate=0.2 Validation loss: 0.3163\n",
      "Training model with [64] hidden layers and dropout rate 0.4\n"
     ]
    },
    {
     "name": "stderr",
     "output_type": "stream",
     "text": [
      "2024-12-06 18:11:19.647571: I tensorflow/core/framework/local_rendezvous.cc:423] Local rendezvous recv item cancelled. Key hash: 1617439466416798285\n",
      "2024-12-06 18:11:19.647633: I tensorflow/core/framework/local_rendezvous.cc:423] Local rendezvous recv item cancelled. Key hash: 15719206370131305061\n",
      "2024-12-06 18:11:20.073583: I tensorflow/core/framework/local_rendezvous.cc:423] Local rendezvous recv item cancelled. Key hash: 15719206370131305061\n",
      "2024-12-06 18:11:20.073639: I tensorflow/core/framework/local_rendezvous.cc:423] Local rendezvous recv item cancelled. Key hash: 1617439466416798285\n",
      "2024-12-06 18:11:20.250872: I tensorflow/core/framework/local_rendezvous.cc:423] Local rendezvous recv item cancelled. Key hash: 1617439466416798285\n",
      "2024-12-06 18:11:20.250945: I tensorflow/core/framework/local_rendezvous.cc:423] Local rendezvous recv item cancelled. Key hash: 15719206370131305061\n",
      "2024-12-06 18:11:20.345628: I tensorflow/core/framework/local_rendezvous.cc:423] Local rendezvous recv item cancelled. Key hash: 15719206370131305061\n",
      "2024-12-06 18:11:20.345683: I tensorflow/core/framework/local_rendezvous.cc:423] Local rendezvous recv item cancelled. Key hash: 1617439466416798285\n",
      "2024-12-06 18:11:20.531018: I tensorflow/core/framework/local_rendezvous.cc:423] Local rendezvous recv item cancelled. Key hash: 1617439466416798285\n",
      "2024-12-06 18:11:20.531076: I tensorflow/core/framework/local_rendezvous.cc:423] Local rendezvous recv item cancelled. Key hash: 15719206370131305061\n",
      "2024-12-06 18:11:20.629303: I tensorflow/core/framework/local_rendezvous.cc:423] Local rendezvous recv item cancelled. Key hash: 15719206370131305061\n",
      "2024-12-06 18:11:20.629358: I tensorflow/core/framework/local_rendezvous.cc:423] Local rendezvous recv item cancelled. Key hash: 1617439466416798285\n",
      "2024-12-06 18:11:20.818987: I tensorflow/core/framework/local_rendezvous.cc:423] Local rendezvous recv item cancelled. Key hash: 1617439466416798285\n",
      "2024-12-06 18:11:20.819045: I tensorflow/core/framework/local_rendezvous.cc:423] Local rendezvous recv item cancelled. Key hash: 15719206370131305061\n",
      "2024-12-06 18:11:20.913179: I tensorflow/core/framework/local_rendezvous.cc:423] Local rendezvous recv item cancelled. Key hash: 15719206370131305061\n",
      "2024-12-06 18:11:20.913232: I tensorflow/core/framework/local_rendezvous.cc:423] Local rendezvous recv item cancelled. Key hash: 1617439466416798285\n",
      "2024-12-06 18:11:21.094416: I tensorflow/core/framework/local_rendezvous.cc:423] Local rendezvous recv item cancelled. Key hash: 1617439466416798285\n",
      "2024-12-06 18:11:21.094478: I tensorflow/core/framework/local_rendezvous.cc:423] Local rendezvous recv item cancelled. Key hash: 15719206370131305061\n",
      "2024-12-06 18:11:21.186603: I tensorflow/core/framework/local_rendezvous.cc:423] Local rendezvous recv item cancelled. Key hash: 15719206370131305061\n",
      "2024-12-06 18:11:21.186657: I tensorflow/core/framework/local_rendezvous.cc:423] Local rendezvous recv item cancelled. Key hash: 1617439466416798285\n",
      "2024-12-06 18:11:21.377672: I tensorflow/core/framework/local_rendezvous.cc:423] Local rendezvous recv item cancelled. Key hash: 1617439466416798285\n",
      "2024-12-06 18:11:21.377731: I tensorflow/core/framework/local_rendezvous.cc:423] Local rendezvous recv item cancelled. Key hash: 15719206370131305061\n",
      "2024-12-06 18:11:21.475693: I tensorflow/core/framework/local_rendezvous.cc:423] Local rendezvous recv item cancelled. Key hash: 15719206370131305061\n",
      "2024-12-06 18:11:21.475750: I tensorflow/core/framework/local_rendezvous.cc:423] Local rendezvous recv item cancelled. Key hash: 1617439466416798285\n",
      "2024-12-06 18:11:21.655079: I tensorflow/core/framework/local_rendezvous.cc:423] Local rendezvous recv item cancelled. Key hash: 1617439466416798285\n",
      "2024-12-06 18:11:21.655138: I tensorflow/core/framework/local_rendezvous.cc:423] Local rendezvous recv item cancelled. Key hash: 15719206370131305061\n",
      "2024-12-06 18:11:21.748733: I tensorflow/core/framework/local_rendezvous.cc:423] Local rendezvous recv item cancelled. Key hash: 15719206370131305061\n",
      "2024-12-06 18:11:21.748803: I tensorflow/core/framework/local_rendezvous.cc:423] Local rendezvous recv item cancelled. Key hash: 1617439466416798285\n",
      "2024-12-06 18:11:21.930844: I tensorflow/core/framework/local_rendezvous.cc:423] Local rendezvous recv item cancelled. Key hash: 1617439466416798285\n",
      "2024-12-06 18:11:21.930903: I tensorflow/core/framework/local_rendezvous.cc:423] Local rendezvous recv item cancelled. Key hash: 15719206370131305061\n",
      "2024-12-06 18:11:22.022638: I tensorflow/core/framework/local_rendezvous.cc:423] Local rendezvous recv item cancelled. Key hash: 15719206370131305061\n",
      "2024-12-06 18:11:22.022696: I tensorflow/core/framework/local_rendezvous.cc:423] Local rendezvous recv item cancelled. Key hash: 1617439466416798285\n",
      "2024-12-06 18:11:22.218527: I tensorflow/core/framework/local_rendezvous.cc:423] Local rendezvous recv item cancelled. Key hash: 1617439466416798285\n",
      "2024-12-06 18:11:22.218591: I tensorflow/core/framework/local_rendezvous.cc:423] Local rendezvous recv item cancelled. Key hash: 15719206370131305061\n",
      "2024-12-06 18:11:22.325473: I tensorflow/core/framework/local_rendezvous.cc:423] Local rendezvous recv item cancelled. Key hash: 15719206370131305061\n",
      "2024-12-06 18:11:22.325537: I tensorflow/core/framework/local_rendezvous.cc:423] Local rendezvous recv item cancelled. Key hash: 1617439466416798285\n",
      "2024-12-06 18:11:22.542278: I tensorflow/core/framework/local_rendezvous.cc:423] Local rendezvous recv item cancelled. Key hash: 1617439466416798285\n",
      "2024-12-06 18:11:22.542337: I tensorflow/core/framework/local_rendezvous.cc:423] Local rendezvous recv item cancelled. Key hash: 15719206370131305061\n",
      "2024-12-06 18:11:22.640188: I tensorflow/core/framework/local_rendezvous.cc:423] Local rendezvous recv item cancelled. Key hash: 15719206370131305061\n",
      "2024-12-06 18:11:22.640244: I tensorflow/core/framework/local_rendezvous.cc:423] Local rendezvous recv item cancelled. Key hash: 1617439466416798285\n"
     ]
    },
    {
     "name": "stdout",
     "output_type": "stream",
     "text": [
      "Training model with [64] hidden layers and dropout rate 0.6\n"
     ]
    },
    {
     "name": "stderr",
     "output_type": "stream",
     "text": [
      "2024-12-06 18:11:24.761843: I tensorflow/core/framework/local_rendezvous.cc:423] Local rendezvous recv item cancelled. Key hash: 1617439466416798285\n",
      "2024-12-06 18:11:24.761900: I tensorflow/core/framework/local_rendezvous.cc:423] Local rendezvous recv item cancelled. Key hash: 15719206370131305061\n",
      "2024-12-06 18:11:25.213597: I tensorflow/core/framework/local_rendezvous.cc:423] Local rendezvous recv item cancelled. Key hash: 1617439466416798285\n",
      "2024-12-06 18:11:25.213654: I tensorflow/core/framework/local_rendezvous.cc:423] Local rendezvous recv item cancelled. Key hash: 15719206370131305061\n",
      "2024-12-06 18:11:25.403256: I tensorflow/core/framework/local_rendezvous.cc:423] Local rendezvous recv item cancelled. Key hash: 1617439466416798285\n",
      "2024-12-06 18:11:25.403315: I tensorflow/core/framework/local_rendezvous.cc:423] Local rendezvous recv item cancelled. Key hash: 15719206370131305061\n",
      "2024-12-06 18:11:25.498613: I tensorflow/core/framework/local_rendezvous.cc:423] Local rendezvous recv item cancelled. Key hash: 1617439466416798285\n",
      "2024-12-06 18:11:25.498668: I tensorflow/core/framework/local_rendezvous.cc:423] Local rendezvous recv item cancelled. Key hash: 15719206370131305061\n",
      "2024-12-06 18:11:25.684431: I tensorflow/core/framework/local_rendezvous.cc:423] Local rendezvous recv item cancelled. Key hash: 1617439466416798285\n",
      "2024-12-06 18:11:25.684488: I tensorflow/core/framework/local_rendezvous.cc:423] Local rendezvous recv item cancelled. Key hash: 15719206370131305061\n",
      "2024-12-06 18:11:25.776861: I tensorflow/core/framework/local_rendezvous.cc:423] Local rendezvous recv item cancelled. Key hash: 1617439466416798285\n",
      "2024-12-06 18:11:25.776919: I tensorflow/core/framework/local_rendezvous.cc:423] Local rendezvous recv item cancelled. Key hash: 15719206370131305061\n",
      "2024-12-06 18:11:25.960213: I tensorflow/core/framework/local_rendezvous.cc:423] Local rendezvous recv item cancelled. Key hash: 1617439466416798285\n",
      "2024-12-06 18:11:25.960333: I tensorflow/core/framework/local_rendezvous.cc:423] Local rendezvous recv item cancelled. Key hash: 15719206370131305061\n",
      "2024-12-06 18:11:26.055062: I tensorflow/core/framework/local_rendezvous.cc:423] Local rendezvous recv item cancelled. Key hash: 1617439466416798285\n",
      "2024-12-06 18:11:26.055119: I tensorflow/core/framework/local_rendezvous.cc:423] Local rendezvous recv item cancelled. Key hash: 15719206370131305061\n",
      "2024-12-06 18:11:26.238572: I tensorflow/core/framework/local_rendezvous.cc:423] Local rendezvous recv item cancelled. Key hash: 1617439466416798285\n",
      "2024-12-06 18:11:26.238631: I tensorflow/core/framework/local_rendezvous.cc:423] Local rendezvous recv item cancelled. Key hash: 15719206370131305061\n",
      "2024-12-06 18:11:26.333009: I tensorflow/core/framework/local_rendezvous.cc:423] Local rendezvous recv item cancelled. Key hash: 1617439466416798285\n",
      "2024-12-06 18:11:26.333063: I tensorflow/core/framework/local_rendezvous.cc:423] Local rendezvous recv item cancelled. Key hash: 15719206370131305061\n",
      "2024-12-06 18:11:26.499731: I tensorflow/core/framework/local_rendezvous.cc:423] Local rendezvous recv item cancelled. Key hash: 1617439466416798285\n",
      "2024-12-06 18:11:26.596812: I tensorflow/core/framework/local_rendezvous.cc:423] Local rendezvous recv item cancelled. Key hash: 1617439466416798285\n",
      "2024-12-06 18:11:26.596877: I tensorflow/core/framework/local_rendezvous.cc:423] Local rendezvous recv item cancelled. Key hash: 15719206370131305061\n",
      "2024-12-06 18:11:26.785335: I tensorflow/core/framework/local_rendezvous.cc:423] Local rendezvous recv item cancelled. Key hash: 1617439466416798285\n",
      "2024-12-06 18:11:26.785393: I tensorflow/core/framework/local_rendezvous.cc:423] Local rendezvous recv item cancelled. Key hash: 15719206370131305061\n",
      "2024-12-06 18:11:26.878007: I tensorflow/core/framework/local_rendezvous.cc:423] Local rendezvous recv item cancelled. Key hash: 1617439466416798285\n",
      "2024-12-06 18:11:26.878065: I tensorflow/core/framework/local_rendezvous.cc:423] Local rendezvous recv item cancelled. Key hash: 15719206370131305061\n",
      "2024-12-06 18:11:27.131555: I tensorflow/core/framework/local_rendezvous.cc:423] Local rendezvous recv item cancelled. Key hash: 1617439466416798285\n",
      "2024-12-06 18:11:27.131626: I tensorflow/core/framework/local_rendezvous.cc:423] Local rendezvous recv item cancelled. Key hash: 15719206370131305061\n",
      "2024-12-06 18:11:27.234445: I tensorflow/core/framework/local_rendezvous.cc:423] Local rendezvous recv item cancelled. Key hash: 1617439466416798285\n",
      "2024-12-06 18:11:27.234561: I tensorflow/core/framework/local_rendezvous.cc:423] Local rendezvous recv item cancelled. Key hash: 15719206370131305061\n",
      "2024-12-06 18:11:27.468385: I tensorflow/core/framework/local_rendezvous.cc:423] Local rendezvous recv item cancelled. Key hash: 1617439466416798285\n",
      "2024-12-06 18:11:27.468455: I tensorflow/core/framework/local_rendezvous.cc:423] Local rendezvous recv item cancelled. Key hash: 15719206370131305061\n",
      "2024-12-06 18:11:27.567433: I tensorflow/core/framework/local_rendezvous.cc:423] Local rendezvous recv item cancelled. Key hash: 1617439466416798285\n",
      "2024-12-06 18:11:27.567499: I tensorflow/core/framework/local_rendezvous.cc:423] Local rendezvous recv item cancelled. Key hash: 15719206370131305061\n",
      "2024-12-06 18:11:27.745770: I tensorflow/core/framework/local_rendezvous.cc:423] Local rendezvous recv item cancelled. Key hash: 1617439466416798285\n",
      "2024-12-06 18:11:27.745829: I tensorflow/core/framework/local_rendezvous.cc:423] Local rendezvous recv item cancelled. Key hash: 15719206370131305061\n",
      "2024-12-06 18:11:27.835717: I tensorflow/core/framework/local_rendezvous.cc:423] Local rendezvous recv item cancelled. Key hash: 1617439466416798285\n",
      "2024-12-06 18:11:27.835774: I tensorflow/core/framework/local_rendezvous.cc:423] Local rendezvous recv item cancelled. Key hash: 15719206370131305061\n"
     ]
    },
    {
     "name": "stdout",
     "output_type": "stream",
     "text": [
      "Training model with [128] hidden layers and dropout rate 0.2\n"
     ]
    },
    {
     "name": "stderr",
     "output_type": "stream",
     "text": [
      "2024-12-06 18:11:30.675245: I tensorflow/core/framework/local_rendezvous.cc:423] Local rendezvous recv item cancelled. Key hash: 1617439466416798285\n",
      "2024-12-06 18:11:30.675309: I tensorflow/core/framework/local_rendezvous.cc:423] Local rendezvous recv item cancelled. Key hash: 15719206370131305061\n",
      "2024-12-06 18:11:31.153878: I tensorflow/core/framework/local_rendezvous.cc:423] Local rendezvous recv item cancelled. Key hash: 1617439466416798285\n",
      "2024-12-06 18:11:31.153938: I tensorflow/core/framework/local_rendezvous.cc:423] Local rendezvous recv item cancelled. Key hash: 15719206370131305061\n",
      "2024-12-06 18:11:31.343734: I tensorflow/core/framework/local_rendezvous.cc:423] Local rendezvous recv item cancelled. Key hash: 1617439466416798285\n",
      "2024-12-06 18:11:31.343801: I tensorflow/core/framework/local_rendezvous.cc:423] Local rendezvous recv item cancelled. Key hash: 15719206370131305061\n",
      "2024-12-06 18:11:31.449308: I tensorflow/core/framework/local_rendezvous.cc:423] Local rendezvous recv item cancelled. Key hash: 1617439466416798285\n",
      "2024-12-06 18:11:31.449366: I tensorflow/core/framework/local_rendezvous.cc:423] Local rendezvous recv item cancelled. Key hash: 15719206370131305061\n",
      "2024-12-06 18:11:31.648773: I tensorflow/core/framework/local_rendezvous.cc:423] Local rendezvous recv item cancelled. Key hash: 1617439466416798285\n",
      "2024-12-06 18:11:31.648833: I tensorflow/core/framework/local_rendezvous.cc:423] Local rendezvous recv item cancelled. Key hash: 15719206370131305061\n",
      "2024-12-06 18:11:31.741665: I tensorflow/core/framework/local_rendezvous.cc:423] Local rendezvous recv item cancelled. Key hash: 1617439466416798285\n",
      "2024-12-06 18:11:31.741725: I tensorflow/core/framework/local_rendezvous.cc:423] Local rendezvous recv item cancelled. Key hash: 15719206370131305061\n",
      "2024-12-06 18:11:31.915016: I tensorflow/core/framework/local_rendezvous.cc:423] Local rendezvous recv item cancelled. Key hash: 1617439466416798285\n",
      "2024-12-06 18:11:31.915075: I tensorflow/core/framework/local_rendezvous.cc:423] Local rendezvous recv item cancelled. Key hash: 15719206370131305061\n",
      "2024-12-06 18:11:32.010034: I tensorflow/core/framework/local_rendezvous.cc:404] Local rendezvous is aborting with status: OUT_OF_RANGE: End of sequence\n",
      "\t [[{{node IteratorGetNext}}]]\n",
      "2024-12-06 18:11:32.010079: I tensorflow/core/framework/local_rendezvous.cc:423] Local rendezvous recv item cancelled. Key hash: 1617439466416798285\n",
      "2024-12-06 18:11:32.010099: I tensorflow/core/framework/local_rendezvous.cc:423] Local rendezvous recv item cancelled. Key hash: 15719206370131305061\n",
      "2024-12-06 18:11:32.177602: I tensorflow/core/framework/local_rendezvous.cc:423] Local rendezvous recv item cancelled. Key hash: 1617439466416798285\n",
      "2024-12-06 18:11:32.177665: I tensorflow/core/framework/local_rendezvous.cc:423] Local rendezvous recv item cancelled. Key hash: 15719206370131305061\n",
      "2024-12-06 18:11:32.271267: I tensorflow/core/framework/local_rendezvous.cc:423] Local rendezvous recv item cancelled. Key hash: 1617439466416798285\n",
      "2024-12-06 18:11:32.271348: I tensorflow/core/framework/local_rendezvous.cc:423] Local rendezvous recv item cancelled. Key hash: 15719206370131305061\n",
      "2024-12-06 18:11:32.468349: I tensorflow/core/framework/local_rendezvous.cc:423] Local rendezvous recv item cancelled. Key hash: 1617439466416798285\n",
      "2024-12-06 18:11:32.468412: I tensorflow/core/framework/local_rendezvous.cc:423] Local rendezvous recv item cancelled. Key hash: 15719206370131305061\n",
      "2024-12-06 18:11:32.563089: I tensorflow/core/framework/local_rendezvous.cc:423] Local rendezvous recv item cancelled. Key hash: 1617439466416798285\n",
      "2024-12-06 18:11:32.563148: I tensorflow/core/framework/local_rendezvous.cc:423] Local rendezvous recv item cancelled. Key hash: 15719206370131305061\n",
      "2024-12-06 18:11:32.751271: I tensorflow/core/framework/local_rendezvous.cc:423] Local rendezvous recv item cancelled. Key hash: 1617439466416798285\n",
      "2024-12-06 18:11:32.751328: I tensorflow/core/framework/local_rendezvous.cc:423] Local rendezvous recv item cancelled. Key hash: 15719206370131305061\n",
      "2024-12-06 18:11:32.841757: I tensorflow/core/framework/local_rendezvous.cc:423] Local rendezvous recv item cancelled. Key hash: 1617439466416798285\n",
      "2024-12-06 18:11:32.841817: I tensorflow/core/framework/local_rendezvous.cc:423] Local rendezvous recv item cancelled. Key hash: 15719206370131305061\n",
      "2024-12-06 18:11:33.012003: I tensorflow/core/framework/local_rendezvous.cc:423] Local rendezvous recv item cancelled. Key hash: 1617439466416798285\n",
      "2024-12-06 18:11:33.012062: I tensorflow/core/framework/local_rendezvous.cc:423] Local rendezvous recv item cancelled. Key hash: 15719206370131305061\n",
      "2024-12-06 18:11:33.104538: I tensorflow/core/framework/local_rendezvous.cc:423] Local rendezvous recv item cancelled. Key hash: 1617439466416798285\n",
      "2024-12-06 18:11:33.104593: I tensorflow/core/framework/local_rendezvous.cc:423] Local rendezvous recv item cancelled. Key hash: 15719206370131305061\n",
      "2024-12-06 18:11:33.266735: I tensorflow/core/framework/local_rendezvous.cc:423] Local rendezvous recv item cancelled. Key hash: 1617439466416798285\n",
      "2024-12-06 18:11:33.266792: I tensorflow/core/framework/local_rendezvous.cc:423] Local rendezvous recv item cancelled. Key hash: 15719206370131305061\n",
      "2024-12-06 18:11:36.349271: I tensorflow/core/framework/local_rendezvous.cc:423] Local rendezvous recv item cancelled. Key hash: 1617439466416798285\n",
      "2024-12-06 18:11:36.349334: I tensorflow/core/framework/local_rendezvous.cc:423] Local rendezvous recv item cancelled. Key hash: 15719206370131305061\n",
      "2024-12-06 18:11:36.516073: I tensorflow/core/framework/local_rendezvous.cc:423] Local rendezvous recv item cancelled. Key hash: 1617439466416798285\n",
      "2024-12-06 18:11:36.516132: I tensorflow/core/framework/local_rendezvous.cc:423] Local rendezvous recv item cancelled. Key hash: 15719206370131305061\n",
      "2024-12-06 18:11:36.603991: I tensorflow/core/framework/local_rendezvous.cc:423] Local rendezvous recv item cancelled. Key hash: 1617439466416798285\n",
      "2024-12-06 18:11:36.604046: I tensorflow/core/framework/local_rendezvous.cc:423] Local rendezvous recv item cancelled. Key hash: 15719206370131305061\n"
     ]
    },
    {
     "name": "stdout",
     "output_type": "stream",
     "text": [
      "Training model with [128] hidden layers and dropout rate 0.4\n"
     ]
    },
    {
     "name": "stderr",
     "output_type": "stream",
     "text": [
      "2024-12-06 18:11:38.941238: I tensorflow/core/framework/local_rendezvous.cc:423] Local rendezvous recv item cancelled. Key hash: 1617439466416798285\n",
      "2024-12-06 18:11:38.941314: I tensorflow/core/framework/local_rendezvous.cc:423] Local rendezvous recv item cancelled. Key hash: 15719206370131305061\n",
      "2024-12-06 18:11:39.424543: I tensorflow/core/framework/local_rendezvous.cc:423] Local rendezvous recv item cancelled. Key hash: 1617439466416798285\n",
      "2024-12-06 18:11:39.424599: I tensorflow/core/framework/local_rendezvous.cc:423] Local rendezvous recv item cancelled. Key hash: 15719206370131305061\n",
      "2024-12-06 18:11:39.638195: I tensorflow/core/framework/local_rendezvous.cc:423] Local rendezvous recv item cancelled. Key hash: 1617439466416798285\n",
      "2024-12-06 18:11:39.638280: I tensorflow/core/framework/local_rendezvous.cc:423] Local rendezvous recv item cancelled. Key hash: 15719206370131305061\n",
      "2024-12-06 18:11:39.738619: I tensorflow/core/framework/local_rendezvous.cc:423] Local rendezvous recv item cancelled. Key hash: 1617439466416798285\n",
      "2024-12-06 18:11:39.738682: I tensorflow/core/framework/local_rendezvous.cc:423] Local rendezvous recv item cancelled. Key hash: 15719206370131305061\n",
      "2024-12-06 18:11:39.926921: I tensorflow/core/framework/local_rendezvous.cc:423] Local rendezvous recv item cancelled. Key hash: 1617439466416798285\n",
      "2024-12-06 18:11:39.926979: I tensorflow/core/framework/local_rendezvous.cc:423] Local rendezvous recv item cancelled. Key hash: 15719206370131305061\n",
      "2024-12-06 18:11:40.019404: I tensorflow/core/framework/local_rendezvous.cc:423] Local rendezvous recv item cancelled. Key hash: 1617439466416798285\n",
      "2024-12-06 18:11:40.019462: I tensorflow/core/framework/local_rendezvous.cc:423] Local rendezvous recv item cancelled. Key hash: 15719206370131305061\n",
      "2024-12-06 18:11:40.218945: I tensorflow/core/framework/local_rendezvous.cc:423] Local rendezvous recv item cancelled. Key hash: 1617439466416798285\n",
      "2024-12-06 18:11:40.219006: I tensorflow/core/framework/local_rendezvous.cc:423] Local rendezvous recv item cancelled. Key hash: 15719206370131305061\n",
      "2024-12-06 18:11:40.315901: I tensorflow/core/framework/local_rendezvous.cc:423] Local rendezvous recv item cancelled. Key hash: 1617439466416798285\n",
      "2024-12-06 18:11:40.315958: I tensorflow/core/framework/local_rendezvous.cc:423] Local rendezvous recv item cancelled. Key hash: 15719206370131305061\n",
      "2024-12-06 18:11:40.521782: I tensorflow/core/framework/local_rendezvous.cc:423] Local rendezvous recv item cancelled. Key hash: 1617439466416798285\n",
      "2024-12-06 18:11:40.521844: I tensorflow/core/framework/local_rendezvous.cc:423] Local rendezvous recv item cancelled. Key hash: 15719206370131305061\n",
      "2024-12-06 18:11:40.610390: I tensorflow/core/framework/local_rendezvous.cc:423] Local rendezvous recv item cancelled. Key hash: 1617439466416798285\n",
      "2024-12-06 18:11:40.610445: I tensorflow/core/framework/local_rendezvous.cc:423] Local rendezvous recv item cancelled. Key hash: 15719206370131305061\n",
      "2024-12-06 18:11:40.789911: I tensorflow/core/framework/local_rendezvous.cc:423] Local rendezvous recv item cancelled. Key hash: 1617439466416798285\n",
      "2024-12-06 18:11:40.789973: I tensorflow/core/framework/local_rendezvous.cc:423] Local rendezvous recv item cancelled. Key hash: 15719206370131305061\n",
      "2024-12-06 18:11:40.887044: I tensorflow/core/framework/local_rendezvous.cc:423] Local rendezvous recv item cancelled. Key hash: 1617439466416798285\n",
      "2024-12-06 18:11:40.887108: I tensorflow/core/framework/local_rendezvous.cc:423] Local rendezvous recv item cancelled. Key hash: 15719206370131305061\n",
      "2024-12-06 18:11:41.071321: I tensorflow/core/framework/local_rendezvous.cc:423] Local rendezvous recv item cancelled. Key hash: 1617439466416798285\n",
      "2024-12-06 18:11:41.071381: I tensorflow/core/framework/local_rendezvous.cc:423] Local rendezvous recv item cancelled. Key hash: 15719206370131305061\n",
      "2024-12-06 18:11:41.165924: I tensorflow/core/framework/local_rendezvous.cc:423] Local rendezvous recv item cancelled. Key hash: 1617439466416798285\n",
      "2024-12-06 18:11:41.165980: I tensorflow/core/framework/local_rendezvous.cc:423] Local rendezvous recv item cancelled. Key hash: 15719206370131305061\n",
      "2024-12-06 18:11:41.345126: I tensorflow/core/framework/local_rendezvous.cc:423] Local rendezvous recv item cancelled. Key hash: 1617439466416798285\n",
      "2024-12-06 18:11:41.345191: I tensorflow/core/framework/local_rendezvous.cc:423] Local rendezvous recv item cancelled. Key hash: 15719206370131305061\n",
      "2024-12-06 18:11:41.437462: I tensorflow/core/framework/local_rendezvous.cc:423] Local rendezvous recv item cancelled. Key hash: 1617439466416798285\n",
      "2024-12-06 18:11:41.437520: I tensorflow/core/framework/local_rendezvous.cc:423] Local rendezvous recv item cancelled. Key hash: 15719206370131305061\n",
      "2024-12-06 18:11:41.628549: I tensorflow/core/framework/local_rendezvous.cc:423] Local rendezvous recv item cancelled. Key hash: 1617439466416798285\n",
      "2024-12-06 18:11:41.628617: I tensorflow/core/framework/local_rendezvous.cc:423] Local rendezvous recv item cancelled. Key hash: 15719206370131305061\n",
      "2024-12-06 18:11:41.729770: I tensorflow/core/framework/local_rendezvous.cc:423] Local rendezvous recv item cancelled. Key hash: 1617439466416798285\n",
      "2024-12-06 18:11:41.729829: I tensorflow/core/framework/local_rendezvous.cc:423] Local rendezvous recv item cancelled. Key hash: 15719206370131305061\n",
      "2024-12-06 18:11:41.923478: I tensorflow/core/framework/local_rendezvous.cc:423] Local rendezvous recv item cancelled. Key hash: 1617439466416798285\n",
      "2024-12-06 18:11:41.923540: I tensorflow/core/framework/local_rendezvous.cc:423] Local rendezvous recv item cancelled. Key hash: 15719206370131305061\n",
      "2024-12-06 18:11:42.018632: I tensorflow/core/framework/local_rendezvous.cc:423] Local rendezvous recv item cancelled. Key hash: 1617439466416798285\n",
      "2024-12-06 18:11:42.018732: I tensorflow/core/framework/local_rendezvous.cc:423] Local rendezvous recv item cancelled. Key hash: 15719206370131305061\n"
     ]
    },
    {
     "name": "stdout",
     "output_type": "stream",
     "text": [
      "Training model with [128] hidden layers and dropout rate 0.6\n"
     ]
    },
    {
     "name": "stderr",
     "output_type": "stream",
     "text": [
      "2024-12-06 18:11:44.210230: I tensorflow/core/framework/local_rendezvous.cc:423] Local rendezvous recv item cancelled. Key hash: 1617439466416798285\n",
      "2024-12-06 18:11:44.210314: I tensorflow/core/framework/local_rendezvous.cc:423] Local rendezvous recv item cancelled. Key hash: 15719206370131305061\n",
      "2024-12-06 18:11:44.644660: I tensorflow/core/framework/local_rendezvous.cc:423] Local rendezvous recv item cancelled. Key hash: 1617439466416798285\n",
      "2024-12-06 18:11:44.644717: I tensorflow/core/framework/local_rendezvous.cc:423] Local rendezvous recv item cancelled. Key hash: 15719206370131305061\n",
      "2024-12-06 18:11:44.839862: I tensorflow/core/framework/local_rendezvous.cc:423] Local rendezvous recv item cancelled. Key hash: 1617439466416798285\n",
      "2024-12-06 18:11:44.839919: I tensorflow/core/framework/local_rendezvous.cc:423] Local rendezvous recv item cancelled. Key hash: 15719206370131305061\n",
      "2024-12-06 18:11:44.932137: I tensorflow/core/framework/local_rendezvous.cc:423] Local rendezvous recv item cancelled. Key hash: 1617439466416798285\n",
      "2024-12-06 18:11:44.932202: I tensorflow/core/framework/local_rendezvous.cc:423] Local rendezvous recv item cancelled. Key hash: 15719206370131305061\n",
      "2024-12-06 18:11:45.121844: I tensorflow/core/framework/local_rendezvous.cc:423] Local rendezvous recv item cancelled. Key hash: 1617439466416798285\n",
      "2024-12-06 18:11:45.121907: I tensorflow/core/framework/local_rendezvous.cc:423] Local rendezvous recv item cancelled. Key hash: 15719206370131305061\n",
      "2024-12-06 18:11:45.223800: I tensorflow/core/framework/local_rendezvous.cc:423] Local rendezvous recv item cancelled. Key hash: 1617439466416798285\n",
      "2024-12-06 18:11:45.223872: I tensorflow/core/framework/local_rendezvous.cc:423] Local rendezvous recv item cancelled. Key hash: 15719206370131305061\n",
      "2024-12-06 18:11:45.493646: I tensorflow/core/framework/local_rendezvous.cc:423] Local rendezvous recv item cancelled. Key hash: 1617439466416798285\n",
      "2024-12-06 18:11:45.493716: I tensorflow/core/framework/local_rendezvous.cc:423] Local rendezvous recv item cancelled. Key hash: 15719206370131305061\n",
      "2024-12-06 18:11:45.595525: I tensorflow/core/framework/local_rendezvous.cc:423] Local rendezvous recv item cancelled. Key hash: 1617439466416798285\n",
      "2024-12-06 18:11:45.595580: I tensorflow/core/framework/local_rendezvous.cc:423] Local rendezvous recv item cancelled. Key hash: 15719206370131305061\n",
      "2024-12-06 18:11:45.773281: I tensorflow/core/framework/local_rendezvous.cc:423] Local rendezvous recv item cancelled. Key hash: 1617439466416798285\n",
      "2024-12-06 18:11:45.773339: I tensorflow/core/framework/local_rendezvous.cc:423] Local rendezvous recv item cancelled. Key hash: 15719206370131305061\n",
      "2024-12-06 18:11:45.865496: I tensorflow/core/framework/local_rendezvous.cc:423] Local rendezvous recv item cancelled. Key hash: 1617439466416798285\n",
      "2024-12-06 18:11:45.865551: I tensorflow/core/framework/local_rendezvous.cc:423] Local rendezvous recv item cancelled. Key hash: 15719206370131305061\n",
      "2024-12-06 18:11:46.036729: I tensorflow/core/framework/local_rendezvous.cc:423] Local rendezvous recv item cancelled. Key hash: 1617439466416798285\n",
      "2024-12-06 18:11:46.036787: I tensorflow/core/framework/local_rendezvous.cc:423] Local rendezvous recv item cancelled. Key hash: 15719206370131305061\n",
      "2024-12-06 18:11:46.125120: I tensorflow/core/framework/local_rendezvous.cc:423] Local rendezvous recv item cancelled. Key hash: 1617439466416798285\n",
      "2024-12-06 18:11:46.125178: I tensorflow/core/framework/local_rendezvous.cc:423] Local rendezvous recv item cancelled. Key hash: 15719206370131305061\n",
      "2024-12-06 18:11:46.307644: I tensorflow/core/framework/local_rendezvous.cc:423] Local rendezvous recv item cancelled. Key hash: 1617439466416798285\n",
      "2024-12-06 18:11:46.307702: I tensorflow/core/framework/local_rendezvous.cc:423] Local rendezvous recv item cancelled. Key hash: 15719206370131305061\n",
      "2024-12-06 18:11:46.400537: I tensorflow/core/framework/local_rendezvous.cc:423] Local rendezvous recv item cancelled. Key hash: 1617439466416798285\n",
      "2024-12-06 18:11:46.400593: I tensorflow/core/framework/local_rendezvous.cc:423] Local rendezvous recv item cancelled. Key hash: 15719206370131305061\n",
      "2024-12-06 18:11:46.692127: I tensorflow/core/framework/local_rendezvous.cc:423] Local rendezvous recv item cancelled. Key hash: 1617439466416798285\n",
      "2024-12-06 18:11:46.692179: I tensorflow/core/framework/local_rendezvous.cc:423] Local rendezvous recv item cancelled. Key hash: 15719206370131305061\n",
      "2024-12-06 18:11:46.869115: I tensorflow/core/framework/local_rendezvous.cc:423] Local rendezvous recv item cancelled. Key hash: 1617439466416798285\n",
      "2024-12-06 18:11:46.869177: I tensorflow/core/framework/local_rendezvous.cc:423] Local rendezvous recv item cancelled. Key hash: 15719206370131305061\n",
      "2024-12-06 18:11:46.960922: I tensorflow/core/framework/local_rendezvous.cc:423] Local rendezvous recv item cancelled. Key hash: 1617439466416798285\n",
      "2024-12-06 18:11:46.960979: I tensorflow/core/framework/local_rendezvous.cc:423] Local rendezvous recv item cancelled. Key hash: 15719206370131305061\n",
      "2024-12-06 18:11:47.150359: I tensorflow/core/framework/local_rendezvous.cc:423] Local rendezvous recv item cancelled. Key hash: 1617439466416798285\n",
      "2024-12-06 18:11:47.150416: I tensorflow/core/framework/local_rendezvous.cc:423] Local rendezvous recv item cancelled. Key hash: 15719206370131305061\n",
      "2024-12-06 18:11:47.248638: I tensorflow/core/framework/local_rendezvous.cc:423] Local rendezvous recv item cancelled. Key hash: 1617439466416798285\n",
      "2024-12-06 18:11:47.248699: I tensorflow/core/framework/local_rendezvous.cc:423] Local rendezvous recv item cancelled. Key hash: 15719206370131305061\n"
     ]
    },
    {
     "name": "stdout",
     "output_type": "stream",
     "text": [
      "Training model with [64, 32] hidden layers and dropout rate 0.2\n"
     ]
    },
    {
     "name": "stderr",
     "output_type": "stream",
     "text": [
      "2024-12-06 18:11:51.171177: I tensorflow/core/framework/local_rendezvous.cc:423] Local rendezvous recv item cancelled. Key hash: 1617439466416798285\n",
      "2024-12-06 18:11:51.171232: I tensorflow/core/framework/local_rendezvous.cc:423] Local rendezvous recv item cancelled. Key hash: 15719206370131305061\n",
      "2024-12-06 18:11:51.355467: I tensorflow/core/framework/local_rendezvous.cc:423] Local rendezvous recv item cancelled. Key hash: 1617439466416798285\n",
      "2024-12-06 18:11:51.355526: I tensorflow/core/framework/local_rendezvous.cc:423] Local rendezvous recv item cancelled. Key hash: 15719206370131305061\n",
      "2024-12-06 18:11:51.445521: I tensorflow/core/framework/local_rendezvous.cc:423] Local rendezvous recv item cancelled. Key hash: 1617439466416798285\n",
      "2024-12-06 18:11:51.445579: I tensorflow/core/framework/local_rendezvous.cc:423] Local rendezvous recv item cancelled. Key hash: 15719206370131305061\n",
      "2024-12-06 18:11:51.634422: I tensorflow/core/framework/local_rendezvous.cc:423] Local rendezvous recv item cancelled. Key hash: 1617439466416798285\n",
      "2024-12-06 18:11:51.634480: I tensorflow/core/framework/local_rendezvous.cc:423] Local rendezvous recv item cancelled. Key hash: 15719206370131305061\n",
      "2024-12-06 18:11:51.725583: I tensorflow/core/framework/local_rendezvous.cc:423] Local rendezvous recv item cancelled. Key hash: 1617439466416798285\n",
      "2024-12-06 18:11:51.725643: I tensorflow/core/framework/local_rendezvous.cc:423] Local rendezvous recv item cancelled. Key hash: 15719206370131305061\n",
      "2024-12-06 18:11:51.987643: I tensorflow/core/framework/local_rendezvous.cc:423] Local rendezvous recv item cancelled. Key hash: 1617439466416798285\n",
      "2024-12-06 18:11:52.083609: I tensorflow/core/framework/local_rendezvous.cc:423] Local rendezvous recv item cancelled. Key hash: 1617439466416798285\n",
      "2024-12-06 18:11:52.083664: I tensorflow/core/framework/local_rendezvous.cc:423] Local rendezvous recv item cancelled. Key hash: 15719206370131305061\n",
      "2024-12-06 18:11:52.279939: I tensorflow/core/framework/local_rendezvous.cc:423] Local rendezvous recv item cancelled. Key hash: 1617439466416798285\n",
      "2024-12-06 18:11:52.280051: I tensorflow/core/framework/local_rendezvous.cc:423] Local rendezvous recv item cancelled. Key hash: 15719206370131305061\n",
      "2024-12-06 18:11:52.379410: I tensorflow/core/framework/local_rendezvous.cc:423] Local rendezvous recv item cancelled. Key hash: 1617439466416798285\n",
      "2024-12-06 18:11:52.379474: I tensorflow/core/framework/local_rendezvous.cc:423] Local rendezvous recv item cancelled. Key hash: 15719206370131305061\n",
      "2024-12-06 18:11:52.726963: I tensorflow/core/framework/local_rendezvous.cc:423] Local rendezvous recv item cancelled. Key hash: 1617439466416798285\n",
      "2024-12-06 18:11:52.727024: I tensorflow/core/framework/local_rendezvous.cc:423] Local rendezvous recv item cancelled. Key hash: 15719206370131305061\n",
      "2024-12-06 18:11:53.329187: I tensorflow/core/framework/local_rendezvous.cc:423] Local rendezvous recv item cancelled. Key hash: 1617439466416798285\n",
      "2024-12-06 18:11:53.329243: I tensorflow/core/framework/local_rendezvous.cc:423] Local rendezvous recv item cancelled. Key hash: 15719206370131305061\n",
      "2024-12-06 18:11:53.525104: I tensorflow/core/framework/local_rendezvous.cc:423] Local rendezvous recv item cancelled. Key hash: 1617439466416798285\n",
      "2024-12-06 18:11:53.525170: I tensorflow/core/framework/local_rendezvous.cc:423] Local rendezvous recv item cancelled. Key hash: 15719206370131305061\n",
      "2024-12-06 18:11:53.623222: I tensorflow/core/framework/local_rendezvous.cc:423] Local rendezvous recv item cancelled. Key hash: 1617439466416798285\n",
      "2024-12-06 18:11:53.623280: I tensorflow/core/framework/local_rendezvous.cc:423] Local rendezvous recv item cancelled. Key hash: 15719206370131305061\n",
      "2024-12-06 18:11:53.810141: I tensorflow/core/framework/local_rendezvous.cc:423] Local rendezvous recv item cancelled. Key hash: 1617439466416798285\n",
      "2024-12-06 18:11:53.907422: I tensorflow/core/framework/local_rendezvous.cc:423] Local rendezvous recv item cancelled. Key hash: 1617439466416798285\n",
      "2024-12-06 18:11:53.907482: I tensorflow/core/framework/local_rendezvous.cc:423] Local rendezvous recv item cancelled. Key hash: 15719206370131305061\n",
      "2024-12-06 18:11:54.090528: I tensorflow/core/framework/local_rendezvous.cc:423] Local rendezvous recv item cancelled. Key hash: 1617439466416798285\n",
      "2024-12-06 18:11:54.090586: I tensorflow/core/framework/local_rendezvous.cc:423] Local rendezvous recv item cancelled. Key hash: 15719206370131305061\n",
      "2024-12-06 18:11:54.185186: I tensorflow/core/framework/local_rendezvous.cc:423] Local rendezvous recv item cancelled. Key hash: 1617439466416798285\n",
      "2024-12-06 18:11:54.185240: I tensorflow/core/framework/local_rendezvous.cc:423] Local rendezvous recv item cancelled. Key hash: 15719206370131305061\n"
     ]
    },
    {
     "name": "stdout",
     "output_type": "stream",
     "text": [
      "Training model with [64, 32] hidden layers and dropout rate 0.4\n"
     ]
    },
    {
     "name": "stderr",
     "output_type": "stream",
     "text": [
      "2024-12-06 18:11:57.502626: I tensorflow/core/framework/local_rendezvous.cc:423] Local rendezvous recv item cancelled. Key hash: 1617439466416798285\n",
      "2024-12-06 18:11:57.502687: I tensorflow/core/framework/local_rendezvous.cc:423] Local rendezvous recv item cancelled. Key hash: 15719206370131305061\n",
      "2024-12-06 18:11:57.943260: I tensorflow/core/framework/local_rendezvous.cc:423] Local rendezvous recv item cancelled. Key hash: 1617439466416798285\n",
      "2024-12-06 18:11:57.943321: I tensorflow/core/framework/local_rendezvous.cc:423] Local rendezvous recv item cancelled. Key hash: 15719206370131305061\n",
      "2024-12-06 18:11:58.139515: I tensorflow/core/framework/local_rendezvous.cc:423] Local rendezvous recv item cancelled. Key hash: 1617439466416798285\n",
      "2024-12-06 18:11:58.139580: I tensorflow/core/framework/local_rendezvous.cc:423] Local rendezvous recv item cancelled. Key hash: 15719206370131305061\n",
      "2024-12-06 18:11:58.241810: I tensorflow/core/framework/local_rendezvous.cc:423] Local rendezvous recv item cancelled. Key hash: 1617439466416798285\n",
      "2024-12-06 18:11:58.241864: I tensorflow/core/framework/local_rendezvous.cc:423] Local rendezvous recv item cancelled. Key hash: 15719206370131305061\n",
      "2024-12-06 18:11:58.535460: I tensorflow/core/framework/local_rendezvous.cc:423] Local rendezvous recv item cancelled. Key hash: 1617439466416798285\n",
      "2024-12-06 18:11:58.535517: I tensorflow/core/framework/local_rendezvous.cc:423] Local rendezvous recv item cancelled. Key hash: 15719206370131305061\n",
      "2024-12-06 18:11:58.750647: I tensorflow/core/framework/local_rendezvous.cc:423] Local rendezvous recv item cancelled. Key hash: 1617439466416798285\n",
      "2024-12-06 18:11:58.750708: I tensorflow/core/framework/local_rendezvous.cc:423] Local rendezvous recv item cancelled. Key hash: 15719206370131305061\n",
      "2024-12-06 18:11:58.846048: I tensorflow/core/framework/local_rendezvous.cc:423] Local rendezvous recv item cancelled. Key hash: 1617439466416798285\n",
      "2024-12-06 18:11:58.846103: I tensorflow/core/framework/local_rendezvous.cc:423] Local rendezvous recv item cancelled. Key hash: 15719206370131305061\n",
      "2024-12-06 18:11:59.045979: I tensorflow/core/framework/local_rendezvous.cc:423] Local rendezvous recv item cancelled. Key hash: 1617439466416798285\n",
      "2024-12-06 18:11:59.046037: I tensorflow/core/framework/local_rendezvous.cc:423] Local rendezvous recv item cancelled. Key hash: 15719206370131305061\n",
      "2024-12-06 18:11:59.139657: I tensorflow/core/framework/local_rendezvous.cc:423] Local rendezvous recv item cancelled. Key hash: 1617439466416798285\n",
      "2024-12-06 18:11:59.139714: I tensorflow/core/framework/local_rendezvous.cc:423] Local rendezvous recv item cancelled. Key hash: 15719206370131305061\n",
      "2024-12-06 18:11:59.439219: I tensorflow/core/framework/local_rendezvous.cc:423] Local rendezvous recv item cancelled. Key hash: 1617439466416798285\n",
      "2024-12-06 18:11:59.439276: I tensorflow/core/framework/local_rendezvous.cc:423] Local rendezvous recv item cancelled. Key hash: 15719206370131305061\n",
      "2024-12-06 18:11:59.652213: I tensorflow/core/framework/local_rendezvous.cc:423] Local rendezvous recv item cancelled. Key hash: 1617439466416798285\n",
      "2024-12-06 18:11:59.745435: I tensorflow/core/framework/local_rendezvous.cc:423] Local rendezvous recv item cancelled. Key hash: 1617439466416798285\n",
      "2024-12-06 18:11:59.745491: I tensorflow/core/framework/local_rendezvous.cc:423] Local rendezvous recv item cancelled. Key hash: 15719206370131305061\n",
      "2024-12-06 18:11:59.950812: I tensorflow/core/framework/local_rendezvous.cc:423] Local rendezvous recv item cancelled. Key hash: 1617439466416798285\n",
      "2024-12-06 18:11:59.950871: I tensorflow/core/framework/local_rendezvous.cc:423] Local rendezvous recv item cancelled. Key hash: 15719206370131305061\n",
      "2024-12-06 18:12:00.050934: I tensorflow/core/framework/local_rendezvous.cc:423] Local rendezvous recv item cancelled. Key hash: 1617439466416798285\n",
      "2024-12-06 18:12:00.050989: I tensorflow/core/framework/local_rendezvous.cc:423] Local rendezvous recv item cancelled. Key hash: 15719206370131305061\n",
      "2024-12-06 18:12:00.267326: I tensorflow/core/framework/local_rendezvous.cc:423] Local rendezvous recv item cancelled. Key hash: 1617439466416798285\n",
      "2024-12-06 18:12:00.267386: I tensorflow/core/framework/local_rendezvous.cc:423] Local rendezvous recv item cancelled. Key hash: 15719206370131305061\n",
      "2024-12-06 18:12:00.361855: I tensorflow/core/framework/local_rendezvous.cc:423] Local rendezvous recv item cancelled. Key hash: 1617439466416798285\n",
      "2024-12-06 18:12:00.361914: I tensorflow/core/framework/local_rendezvous.cc:423] Local rendezvous recv item cancelled. Key hash: 15719206370131305061\n",
      "2024-12-06 18:12:00.672258: I tensorflow/core/framework/local_rendezvous.cc:423] Local rendezvous recv item cancelled. Key hash: 1617439466416798285\n",
      "2024-12-06 18:12:00.672314: I tensorflow/core/framework/local_rendezvous.cc:423] Local rendezvous recv item cancelled. Key hash: 15719206370131305061\n"
     ]
    },
    {
     "name": "stdout",
     "output_type": "stream",
     "text": [
      "Training model with [64, 32] hidden layers and dropout rate 0.6\n"
     ]
    },
    {
     "name": "stderr",
     "output_type": "stream",
     "text": [
      "2024-12-06 18:12:03.801690: I tensorflow/core/framework/local_rendezvous.cc:423] Local rendezvous recv item cancelled. Key hash: 1617439466416798285\n",
      "2024-12-06 18:12:03.801757: I tensorflow/core/framework/local_rendezvous.cc:423] Local rendezvous recv item cancelled. Key hash: 15719206370131305061\n",
      "2024-12-06 18:12:04.251366: I tensorflow/core/framework/local_rendezvous.cc:423] Local rendezvous recv item cancelled. Key hash: 15719206370131305061\n",
      "2024-12-06 18:12:04.251428: I tensorflow/core/framework/local_rendezvous.cc:423] Local rendezvous recv item cancelled. Key hash: 1617439466416798285\n",
      "2024-12-06 18:12:04.443070: I tensorflow/core/framework/local_rendezvous.cc:423] Local rendezvous recv item cancelled. Key hash: 1617439466416798285\n",
      "2024-12-06 18:12:04.443128: I tensorflow/core/framework/local_rendezvous.cc:423] Local rendezvous recv item cancelled. Key hash: 15719206370131305061\n",
      "2024-12-06 18:12:04.540776: I tensorflow/core/framework/local_rendezvous.cc:423] Local rendezvous recv item cancelled. Key hash: 15719206370131305061\n",
      "2024-12-06 18:12:04.540838: I tensorflow/core/framework/local_rendezvous.cc:423] Local rendezvous recv item cancelled. Key hash: 1617439466416798285\n",
      "2024-12-06 18:12:04.758739: I tensorflow/core/framework/local_rendezvous.cc:423] Local rendezvous recv item cancelled. Key hash: 1617439466416798285\n",
      "2024-12-06 18:12:04.758795: I tensorflow/core/framework/local_rendezvous.cc:423] Local rendezvous recv item cancelled. Key hash: 15719206370131305061\n",
      "2024-12-06 18:12:04.853025: I tensorflow/core/framework/local_rendezvous.cc:423] Local rendezvous recv item cancelled. Key hash: 15719206370131305061\n",
      "2024-12-06 18:12:04.853074: I tensorflow/core/framework/local_rendezvous.cc:423] Local rendezvous recv item cancelled. Key hash: 1617439466416798285\n",
      "2024-12-06 18:12:05.067600: I tensorflow/core/framework/local_rendezvous.cc:423] Local rendezvous recv item cancelled. Key hash: 1617439466416798285\n",
      "2024-12-06 18:12:05.067660: I tensorflow/core/framework/local_rendezvous.cc:423] Local rendezvous recv item cancelled. Key hash: 15719206370131305061\n",
      "2024-12-06 18:12:05.159963: I tensorflow/core/framework/local_rendezvous.cc:423] Local rendezvous recv item cancelled. Key hash: 15719206370131305061\n",
      "2024-12-06 18:12:05.160018: I tensorflow/core/framework/local_rendezvous.cc:423] Local rendezvous recv item cancelled. Key hash: 1617439466416798285\n",
      "2024-12-06 18:12:05.383740: I tensorflow/core/framework/local_rendezvous.cc:423] Local rendezvous recv item cancelled. Key hash: 1617439466416798285\n",
      "2024-12-06 18:12:05.383808: I tensorflow/core/framework/local_rendezvous.cc:423] Local rendezvous recv item cancelled. Key hash: 15719206370131305061\n",
      "2024-12-06 18:12:05.477828: I tensorflow/core/framework/local_rendezvous.cc:423] Local rendezvous recv item cancelled. Key hash: 15719206370131305061\n",
      "2024-12-06 18:12:05.477884: I tensorflow/core/framework/local_rendezvous.cc:423] Local rendezvous recv item cancelled. Key hash: 1617439466416798285\n",
      "2024-12-06 18:12:05.675060: I tensorflow/core/framework/local_rendezvous.cc:423] Local rendezvous recv item cancelled. Key hash: 1617439466416798285\n",
      "2024-12-06 18:12:05.770651: I tensorflow/core/framework/local_rendezvous.cc:423] Local rendezvous recv item cancelled. Key hash: 15719206370131305061\n",
      "2024-12-06 18:12:05.770708: I tensorflow/core/framework/local_rendezvous.cc:423] Local rendezvous recv item cancelled. Key hash: 1617439466416798285\n",
      "2024-12-06 18:12:05.972156: I tensorflow/core/framework/local_rendezvous.cc:423] Local rendezvous recv item cancelled. Key hash: 1617439466416798285\n",
      "2024-12-06 18:12:06.066138: I tensorflow/core/framework/local_rendezvous.cc:423] Local rendezvous recv item cancelled. Key hash: 15719206370131305061\n",
      "2024-12-06 18:12:06.066197: I tensorflow/core/framework/local_rendezvous.cc:423] Local rendezvous recv item cancelled. Key hash: 1617439466416798285\n",
      "2024-12-06 18:12:06.283238: I tensorflow/core/framework/local_rendezvous.cc:423] Local rendezvous recv item cancelled. Key hash: 1617439466416798285\n",
      "2024-12-06 18:12:06.377182: I tensorflow/core/framework/local_rendezvous.cc:423] Local rendezvous recv item cancelled. Key hash: 15719206370131305061\n",
      "2024-12-06 18:12:06.377237: I tensorflow/core/framework/local_rendezvous.cc:423] Local rendezvous recv item cancelled. Key hash: 1617439466416798285\n",
      "2024-12-06 18:12:06.692777: I tensorflow/core/framework/local_rendezvous.cc:423] Local rendezvous recv item cancelled. Key hash: 15719206370131305061\n",
      "2024-12-06 18:12:06.692840: I tensorflow/core/framework/local_rendezvous.cc:423] Local rendezvous recv item cancelled. Key hash: 1617439466416798285\n",
      "2024-12-06 18:12:06.907234: I tensorflow/core/framework/local_rendezvous.cc:423] Local rendezvous recv item cancelled. Key hash: 1617439466416798285\n",
      "2024-12-06 18:12:06.907292: I tensorflow/core/framework/local_rendezvous.cc:423] Local rendezvous recv item cancelled. Key hash: 15719206370131305061\n",
      "2024-12-06 18:12:07.003490: I tensorflow/core/framework/local_rendezvous.cc:423] Local rendezvous recv item cancelled. Key hash: 15719206370131305061\n",
      "2024-12-06 18:12:07.003547: I tensorflow/core/framework/local_rendezvous.cc:423] Local rendezvous recv item cancelled. Key hash: 1617439466416798285\n"
     ]
    },
    {
     "name": "stdout",
     "output_type": "stream",
     "text": [
      "Training model with [128, 64] hidden layers and dropout rate 0.2\n"
     ]
    },
    {
     "name": "stderr",
     "output_type": "stream",
     "text": [
      "2024-12-06 18:12:13.377284: I tensorflow/core/framework/local_rendezvous.cc:423] Local rendezvous recv item cancelled. Key hash: 1617439466416798285\n",
      "2024-12-06 18:12:13.377338: I tensorflow/core/framework/local_rendezvous.cc:423] Local rendezvous recv item cancelled. Key hash: 15719206370131305061\n",
      "2024-12-06 18:12:14.093433: I tensorflow/core/framework/local_rendezvous.cc:423] Local rendezvous recv item cancelled. Key hash: 1617439466416798285\n",
      "2024-12-06 18:12:14.093481: I tensorflow/core/framework/local_rendezvous.cc:423] Local rendezvous recv item cancelled. Key hash: 15719206370131305061\n",
      "2024-12-06 18:12:14.279522: I tensorflow/core/framework/local_rendezvous.cc:423] Local rendezvous recv item cancelled. Key hash: 1617439466416798285\n",
      "2024-12-06 18:12:14.279580: I tensorflow/core/framework/local_rendezvous.cc:423] Local rendezvous recv item cancelled. Key hash: 15719206370131305061\n",
      "2024-12-06 18:12:14.375453: I tensorflow/core/framework/local_rendezvous.cc:423] Local rendezvous recv item cancelled. Key hash: 1617439466416798285\n",
      "2024-12-06 18:12:14.375527: I tensorflow/core/framework/local_rendezvous.cc:423] Local rendezvous recv item cancelled. Key hash: 15719206370131305061\n",
      "2024-12-06 18:12:14.665075: I tensorflow/core/framework/local_rendezvous.cc:423] Local rendezvous recv item cancelled. Key hash: 1617439466416798285\n",
      "2024-12-06 18:12:14.665189: I tensorflow/core/framework/local_rendezvous.cc:423] Local rendezvous recv item cancelled. Key hash: 15719206370131305061\n",
      "2024-12-06 18:12:14.976178: I tensorflow/core/framework/local_rendezvous.cc:423] Local rendezvous recv item cancelled. Key hash: 1617439466416798285\n",
      "2024-12-06 18:12:14.976235: I tensorflow/core/framework/local_rendezvous.cc:423] Local rendezvous recv item cancelled. Key hash: 15719206370131305061\n",
      "2024-12-06 18:12:15.187936: I tensorflow/core/framework/local_rendezvous.cc:423] Local rendezvous recv item cancelled. Key hash: 1617439466416798285\n",
      "2024-12-06 18:12:15.187997: I tensorflow/core/framework/local_rendezvous.cc:423] Local rendezvous recv item cancelled. Key hash: 15719206370131305061\n",
      "2024-12-06 18:12:15.281457: I tensorflow/core/framework/local_rendezvous.cc:423] Local rendezvous recv item cancelled. Key hash: 1617439466416798285\n",
      "2024-12-06 18:12:15.281515: I tensorflow/core/framework/local_rendezvous.cc:423] Local rendezvous recv item cancelled. Key hash: 15719206370131305061\n",
      "2024-12-06 18:12:15.478239: I tensorflow/core/framework/local_rendezvous.cc:423] Local rendezvous recv item cancelled. Key hash: 1617439466416798285\n",
      "2024-12-06 18:12:15.577620: I tensorflow/core/framework/local_rendezvous.cc:423] Local rendezvous recv item cancelled. Key hash: 1617439466416798285\n",
      "2024-12-06 18:12:15.577676: I tensorflow/core/framework/local_rendezvous.cc:423] Local rendezvous recv item cancelled. Key hash: 15719206370131305061\n",
      "2024-12-06 18:12:15.898926: I tensorflow/core/framework/local_rendezvous.cc:423] Local rendezvous recv item cancelled. Key hash: 1617439466416798285\n",
      "2024-12-06 18:12:15.898981: I tensorflow/core/framework/local_rendezvous.cc:423] Local rendezvous recv item cancelled. Key hash: 15719206370131305061\n",
      "2024-12-06 18:12:16.107536: I tensorflow/core/framework/local_rendezvous.cc:423] Local rendezvous recv item cancelled. Key hash: 1617439466416798285\n",
      "2024-12-06 18:12:16.107601: I tensorflow/core/framework/local_rendezvous.cc:423] Local rendezvous recv item cancelled. Key hash: 15719206370131305061\n",
      "2024-12-06 18:12:16.207745: I tensorflow/core/framework/local_rendezvous.cc:404] Local rendezvous is aborting with status: OUT_OF_RANGE: End of sequence\n",
      "\t [[{{node IteratorGetNext}}]]\n",
      "2024-12-06 18:12:16.207798: I tensorflow/core/framework/local_rendezvous.cc:423] Local rendezvous recv item cancelled. Key hash: 1617439466416798285\n",
      "2024-12-06 18:12:16.207818: I tensorflow/core/framework/local_rendezvous.cc:423] Local rendezvous recv item cancelled. Key hash: 15719206370131305061\n",
      "2024-12-06 18:12:16.521798: I tensorflow/core/framework/local_rendezvous.cc:423] Local rendezvous recv item cancelled. Key hash: 1617439466416798285\n",
      "2024-12-06 18:12:16.521857: I tensorflow/core/framework/local_rendezvous.cc:423] Local rendezvous recv item cancelled. Key hash: 15719206370131305061\n",
      "2024-12-06 18:12:16.829467: I tensorflow/core/framework/local_rendezvous.cc:423] Local rendezvous recv item cancelled. Key hash: 1617439466416798285\n",
      "2024-12-06 18:12:16.829525: I tensorflow/core/framework/local_rendezvous.cc:423] Local rendezvous recv item cancelled. Key hash: 15719206370131305061\n"
     ]
    },
    {
     "name": "stdout",
     "output_type": "stream",
     "text": [
      "Training model with [128, 64] hidden layers and dropout rate 0.4\n"
     ]
    },
    {
     "name": "stderr",
     "output_type": "stream",
     "text": [
      "2024-12-06 18:12:20.458976: I tensorflow/core/framework/local_rendezvous.cc:423] Local rendezvous recv item cancelled. Key hash: 1617439466416798285\n",
      "2024-12-06 18:12:20.459029: I tensorflow/core/framework/local_rendezvous.cc:423] Local rendezvous recv item cancelled. Key hash: 15719206370131305061\n",
      "2024-12-06 18:12:20.657574: I tensorflow/core/framework/local_rendezvous.cc:423] Local rendezvous recv item cancelled. Key hash: 15719206370131305061\n",
      "2024-12-06 18:12:20.657632: I tensorflow/core/framework/local_rendezvous.cc:423] Local rendezvous recv item cancelled. Key hash: 1617439466416798285\n",
      "2024-12-06 18:12:20.757201: I tensorflow/core/framework/local_rendezvous.cc:423] Local rendezvous recv item cancelled. Key hash: 1617439466416798285\n",
      "2024-12-06 18:12:20.757257: I tensorflow/core/framework/local_rendezvous.cc:423] Local rendezvous recv item cancelled. Key hash: 15719206370131305061\n",
      "2024-12-06 18:12:21.069410: I tensorflow/core/framework/local_rendezvous.cc:423] Local rendezvous recv item cancelled. Key hash: 1617439466416798285\n",
      "2024-12-06 18:12:21.069477: I tensorflow/core/framework/local_rendezvous.cc:423] Local rendezvous recv item cancelled. Key hash: 15719206370131305061\n",
      "2024-12-06 18:12:21.282981: I tensorflow/core/framework/local_rendezvous.cc:423] Local rendezvous recv item cancelled. Key hash: 15719206370131305061\n",
      "2024-12-06 18:12:21.283044: I tensorflow/core/framework/local_rendezvous.cc:423] Local rendezvous recv item cancelled. Key hash: 1617439466416798285\n",
      "2024-12-06 18:12:21.376253: I tensorflow/core/framework/local_rendezvous.cc:423] Local rendezvous recv item cancelled. Key hash: 1617439466416798285\n",
      "2024-12-06 18:12:21.376313: I tensorflow/core/framework/local_rendezvous.cc:423] Local rendezvous recv item cancelled. Key hash: 15719206370131305061\n",
      "2024-12-06 18:12:21.591043: I tensorflow/core/framework/local_rendezvous.cc:423] Local rendezvous recv item cancelled. Key hash: 15719206370131305061\n",
      "2024-12-06 18:12:21.591106: I tensorflow/core/framework/local_rendezvous.cc:423] Local rendezvous recv item cancelled. Key hash: 1617439466416798285\n",
      "2024-12-06 18:12:21.693284: I tensorflow/core/framework/local_rendezvous.cc:423] Local rendezvous recv item cancelled. Key hash: 1617439466416798285\n",
      "2024-12-06 18:12:21.693338: I tensorflow/core/framework/local_rendezvous.cc:423] Local rendezvous recv item cancelled. Key hash: 15719206370131305061\n",
      "2024-12-06 18:12:21.993198: I tensorflow/core/framework/local_rendezvous.cc:423] Local rendezvous recv item cancelled. Key hash: 1617439466416798285\n",
      "2024-12-06 18:12:21.993253: I tensorflow/core/framework/local_rendezvous.cc:423] Local rendezvous recv item cancelled. Key hash: 15719206370131305061\n",
      "2024-12-06 18:12:22.208426: I tensorflow/core/framework/local_rendezvous.cc:423] Local rendezvous recv item cancelled. Key hash: 15719206370131305061\n",
      "2024-12-06 18:12:22.208488: I tensorflow/core/framework/local_rendezvous.cc:423] Local rendezvous recv item cancelled. Key hash: 1617439466416798285\n",
      "2024-12-06 18:12:22.300238: I tensorflow/core/framework/local_rendezvous.cc:423] Local rendezvous recv item cancelled. Key hash: 1617439466416798285\n",
      "2024-12-06 18:12:22.300295: I tensorflow/core/framework/local_rendezvous.cc:423] Local rendezvous recv item cancelled. Key hash: 15719206370131305061\n",
      "2024-12-06 18:12:22.604533: I tensorflow/core/framework/local_rendezvous.cc:423] Local rendezvous recv item cancelled. Key hash: 1617439466416798285\n",
      "2024-12-06 18:12:22.604587: I tensorflow/core/framework/local_rendezvous.cc:423] Local rendezvous recv item cancelled. Key hash: 15719206370131305061\n",
      "2024-12-06 18:12:23.227586: I tensorflow/core/framework/local_rendezvous.cc:423] Local rendezvous recv item cancelled. Key hash: 1617439466416798285\n",
      "2024-12-06 18:12:23.227664: I tensorflow/core/framework/local_rendezvous.cc:423] Local rendezvous recv item cancelled. Key hash: 15719206370131305061\n"
     ]
    },
    {
     "name": "stdout",
     "output_type": "stream",
     "text": [
      "Training model with [128, 64] hidden layers and dropout rate 0.6\n"
     ]
    },
    {
     "name": "stderr",
     "output_type": "stream",
     "text": [
      "2024-12-06 18:12:26.453999: I tensorflow/core/framework/local_rendezvous.cc:423] Local rendezvous recv item cancelled. Key hash: 1617439466416798285\n",
      "2024-12-06 18:12:26.454059: I tensorflow/core/framework/local_rendezvous.cc:423] Local rendezvous recv item cancelled. Key hash: 15719206370131305061\n",
      "2024-12-06 18:12:26.904407: I tensorflow/core/framework/local_rendezvous.cc:423] Local rendezvous recv item cancelled. Key hash: 1617439466416798285\n",
      "2024-12-06 18:12:27.125567: I tensorflow/core/framework/local_rendezvous.cc:423] Local rendezvous recv item cancelled. Key hash: 1617439466416798285\n",
      "2024-12-06 18:12:27.125629: I tensorflow/core/framework/local_rendezvous.cc:423] Local rendezvous recv item cancelled. Key hash: 15719206370131305061\n",
      "2024-12-06 18:12:27.219964: I tensorflow/core/framework/local_rendezvous.cc:423] Local rendezvous recv item cancelled. Key hash: 1617439466416798285\n",
      "2024-12-06 18:12:27.220022: I tensorflow/core/framework/local_rendezvous.cc:423] Local rendezvous recv item cancelled. Key hash: 15719206370131305061\n",
      "2024-12-06 18:12:27.430174: I tensorflow/core/framework/local_rendezvous.cc:423] Local rendezvous recv item cancelled. Key hash: 1617439466416798285\n",
      "2024-12-06 18:12:27.529348: I tensorflow/core/framework/local_rendezvous.cc:423] Local rendezvous recv item cancelled. Key hash: 1617439466416798285\n",
      "2024-12-06 18:12:27.529402: I tensorflow/core/framework/local_rendezvous.cc:423] Local rendezvous recv item cancelled. Key hash: 15719206370131305061\n",
      "2024-12-06 18:12:27.839004: I tensorflow/core/framework/local_rendezvous.cc:423] Local rendezvous recv item cancelled. Key hash: 1617439466416798285\n",
      "2024-12-06 18:12:27.839119: I tensorflow/core/framework/local_rendezvous.cc:423] Local rendezvous recv item cancelled. Key hash: 15719206370131305061\n",
      "2024-12-06 18:12:28.056696: I tensorflow/core/framework/local_rendezvous.cc:423] Local rendezvous recv item cancelled. Key hash: 1617439466416798285\n",
      "2024-12-06 18:12:28.056757: I tensorflow/core/framework/local_rendezvous.cc:423] Local rendezvous recv item cancelled. Key hash: 15719206370131305061\n",
      "2024-12-06 18:12:28.151869: I tensorflow/core/framework/local_rendezvous.cc:423] Local rendezvous recv item cancelled. Key hash: 1617439466416798285\n",
      "2024-12-06 18:12:28.362321: I tensorflow/core/framework/local_rendezvous.cc:423] Local rendezvous recv item cancelled. Key hash: 1617439466416798285\n",
      "2024-12-06 18:12:28.362384: I tensorflow/core/framework/local_rendezvous.cc:423] Local rendezvous recv item cancelled. Key hash: 15719206370131305061\n",
      "2024-12-06 18:12:28.456868: I tensorflow/core/framework/local_rendezvous.cc:423] Local rendezvous recv item cancelled. Key hash: 1617439466416798285\n",
      "2024-12-06 18:12:28.456926: I tensorflow/core/framework/local_rendezvous.cc:423] Local rendezvous recv item cancelled. Key hash: 15719206370131305061\n",
      "2024-12-06 18:12:28.666183: I tensorflow/core/framework/local_rendezvous.cc:423] Local rendezvous recv item cancelled. Key hash: 1617439466416798285\n",
      "2024-12-06 18:12:28.666245: I tensorflow/core/framework/local_rendezvous.cc:423] Local rendezvous recv item cancelled. Key hash: 15719206370131305061\n",
      "2024-12-06 18:12:28.761631: I tensorflow/core/framework/local_rendezvous.cc:423] Local rendezvous recv item cancelled. Key hash: 1617439466416798285\n",
      "2024-12-06 18:12:28.761686: I tensorflow/core/framework/local_rendezvous.cc:423] Local rendezvous recv item cancelled. Key hash: 15719206370131305061\n",
      "2024-12-06 18:12:28.977040: I tensorflow/core/framework/local_rendezvous.cc:423] Local rendezvous recv item cancelled. Key hash: 1617439466416798285\n",
      "2024-12-06 18:12:28.977097: I tensorflow/core/framework/local_rendezvous.cc:423] Local rendezvous recv item cancelled. Key hash: 15719206370131305061\n",
      "2024-12-06 18:12:29.071826: I tensorflow/core/framework/local_rendezvous.cc:423] Local rendezvous recv item cancelled. Key hash: 1617439466416798285\n",
      "2024-12-06 18:12:29.071881: I tensorflow/core/framework/local_rendezvous.cc:423] Local rendezvous recv item cancelled. Key hash: 15719206370131305061\n",
      "2024-12-06 18:12:29.280945: I tensorflow/core/framework/local_rendezvous.cc:423] Local rendezvous recv item cancelled. Key hash: 1617439466416798285\n",
      "2024-12-06 18:12:29.281007: I tensorflow/core/framework/local_rendezvous.cc:423] Local rendezvous recv item cancelled. Key hash: 15719206370131305061\n",
      "2024-12-06 18:12:29.375391: I tensorflow/core/framework/local_rendezvous.cc:423] Local rendezvous recv item cancelled. Key hash: 1617439466416798285\n",
      "2024-12-06 18:12:29.375448: I tensorflow/core/framework/local_rendezvous.cc:423] Local rendezvous recv item cancelled. Key hash: 15719206370131305061\n",
      "2024-12-06 18:12:29.594864: I tensorflow/core/framework/local_rendezvous.cc:423] Local rendezvous recv item cancelled. Key hash: 1617439466416798285\n",
      "2024-12-06 18:12:29.594928: I tensorflow/core/framework/local_rendezvous.cc:423] Local rendezvous recv item cancelled. Key hash: 15719206370131305061\n",
      "2024-12-06 18:12:29.694050: I tensorflow/core/framework/local_rendezvous.cc:423] Local rendezvous recv item cancelled. Key hash: 1617439466416798285\n",
      "2024-12-06 18:12:29.694106: I tensorflow/core/framework/local_rendezvous.cc:423] Local rendezvous recv item cancelled. Key hash: 15719206370131305061\n"
     ]
    },
    {
     "name": "stdout",
     "output_type": "stream",
     "text": [
      "Training model with [256, 128] hidden layers and dropout rate 0.2\n"
     ]
    },
    {
     "name": "stderr",
     "output_type": "stream",
     "text": [
      "2024-12-06 18:12:33.292398: I tensorflow/core/framework/local_rendezvous.cc:423] Local rendezvous recv item cancelled. Key hash: 1617439466416798285\n",
      "2024-12-06 18:12:33.292472: I tensorflow/core/framework/local_rendezvous.cc:423] Local rendezvous recv item cancelled. Key hash: 15719206370131305061\n",
      "2024-12-06 18:12:33.775678: I tensorflow/core/framework/local_rendezvous.cc:423] Local rendezvous recv item cancelled. Key hash: 1617439466416798285\n",
      "2024-12-06 18:12:33.775738: I tensorflow/core/framework/local_rendezvous.cc:423] Local rendezvous recv item cancelled. Key hash: 15719206370131305061\n",
      "2024-12-06 18:12:33.960580: I tensorflow/core/framework/local_rendezvous.cc:423] Local rendezvous recv item cancelled. Key hash: 1617439466416798285\n",
      "2024-12-06 18:12:33.960635: I tensorflow/core/framework/local_rendezvous.cc:423] Local rendezvous recv item cancelled. Key hash: 15719206370131305061\n",
      "2024-12-06 18:12:34.051261: I tensorflow/core/framework/local_rendezvous.cc:423] Local rendezvous recv item cancelled. Key hash: 1617439466416798285\n",
      "2024-12-06 18:12:34.051316: I tensorflow/core/framework/local_rendezvous.cc:423] Local rendezvous recv item cancelled. Key hash: 15719206370131305061\n",
      "2024-12-06 18:12:34.248680: I tensorflow/core/framework/local_rendezvous.cc:423] Local rendezvous recv item cancelled. Key hash: 1617439466416798285\n",
      "2024-12-06 18:12:34.248739: I tensorflow/core/framework/local_rendezvous.cc:423] Local rendezvous recv item cancelled. Key hash: 15719206370131305061\n",
      "2024-12-06 18:12:34.346355: I tensorflow/core/framework/local_rendezvous.cc:423] Local rendezvous recv item cancelled. Key hash: 1617439466416798285\n",
      "2024-12-06 18:12:34.346414: I tensorflow/core/framework/local_rendezvous.cc:423] Local rendezvous recv item cancelled. Key hash: 15719206370131305061\n",
      "2024-12-06 18:12:34.539249: I tensorflow/core/framework/local_rendezvous.cc:423] Local rendezvous recv item cancelled. Key hash: 1617439466416798285\n",
      "2024-12-06 18:12:34.539310: I tensorflow/core/framework/local_rendezvous.cc:423] Local rendezvous recv item cancelled. Key hash: 15719206370131305061\n",
      "2024-12-06 18:12:34.631646: I tensorflow/core/framework/local_rendezvous.cc:423] Local rendezvous recv item cancelled. Key hash: 1617439466416798285\n",
      "2024-12-06 18:12:34.631705: I tensorflow/core/framework/local_rendezvous.cc:423] Local rendezvous recv item cancelled. Key hash: 15719206370131305061\n",
      "2024-12-06 18:12:34.827219: I tensorflow/core/framework/local_rendezvous.cc:423] Local rendezvous recv item cancelled. Key hash: 1617439466416798285\n",
      "2024-12-06 18:12:34.827276: I tensorflow/core/framework/local_rendezvous.cc:423] Local rendezvous recv item cancelled. Key hash: 15719206370131305061\n",
      "2024-12-06 18:12:34.921321: I tensorflow/core/framework/local_rendezvous.cc:423] Local rendezvous recv item cancelled. Key hash: 1617439466416798285\n",
      "2024-12-06 18:12:34.921379: I tensorflow/core/framework/local_rendezvous.cc:423] Local rendezvous recv item cancelled. Key hash: 15719206370131305061\n",
      "2024-12-06 18:12:35.114711: I tensorflow/core/framework/local_rendezvous.cc:423] Local rendezvous recv item cancelled. Key hash: 1617439466416798285\n",
      "2024-12-06 18:12:35.114768: I tensorflow/core/framework/local_rendezvous.cc:423] Local rendezvous recv item cancelled. Key hash: 15719206370131305061\n",
      "2024-12-06 18:12:35.210429: I tensorflow/core/framework/local_rendezvous.cc:423] Local rendezvous recv item cancelled. Key hash: 1617439466416798285\n",
      "2024-12-06 18:12:35.210485: I tensorflow/core/framework/local_rendezvous.cc:423] Local rendezvous recv item cancelled. Key hash: 15719206370131305061\n",
      "2024-12-06 18:12:35.469384: I tensorflow/core/framework/local_rendezvous.cc:423] Local rendezvous recv item cancelled. Key hash: 1617439466416798285\n",
      "2024-12-06 18:12:35.469512: I tensorflow/core/framework/local_rendezvous.cc:423] Local rendezvous recv item cancelled. Key hash: 15719206370131305061\n",
      "2024-12-06 18:12:35.622363: I tensorflow/core/framework/local_rendezvous.cc:423] Local rendezvous recv item cancelled. Key hash: 1617439466416798285\n",
      "2024-12-06 18:12:35.622449: I tensorflow/core/framework/local_rendezvous.cc:423] Local rendezvous recv item cancelled. Key hash: 15719206370131305061\n",
      "2024-12-06 18:12:35.909771: I tensorflow/core/framework/local_rendezvous.cc:423] Local rendezvous recv item cancelled. Key hash: 1617439466416798285\n",
      "2024-12-06 18:12:36.001412: I tensorflow/core/framework/local_rendezvous.cc:423] Local rendezvous recv item cancelled. Key hash: 1617439466416798285\n",
      "2024-12-06 18:12:36.001468: I tensorflow/core/framework/local_rendezvous.cc:423] Local rendezvous recv item cancelled. Key hash: 15719206370131305061\n",
      "2024-12-06 18:12:36.208937: I tensorflow/core/framework/local_rendezvous.cc:423] Local rendezvous recv item cancelled. Key hash: 1617439466416798285\n",
      "2024-12-06 18:12:36.209002: I tensorflow/core/framework/local_rendezvous.cc:423] Local rendezvous recv item cancelled. Key hash: 15719206370131305061\n",
      "2024-12-06 18:12:36.305087: I tensorflow/core/framework/local_rendezvous.cc:423] Local rendezvous recv item cancelled. Key hash: 1617439466416798285\n",
      "2024-12-06 18:12:36.305148: I tensorflow/core/framework/local_rendezvous.cc:423] Local rendezvous recv item cancelled. Key hash: 15719206370131305061\n",
      "2024-12-06 18:12:36.516240: I tensorflow/core/framework/local_rendezvous.cc:423] Local rendezvous recv item cancelled. Key hash: 1617439466416798285\n",
      "2024-12-06 18:12:36.609930: I tensorflow/core/framework/local_rendezvous.cc:423] Local rendezvous recv item cancelled. Key hash: 1617439466416798285\n",
      "2024-12-06 18:12:36.609985: I tensorflow/core/framework/local_rendezvous.cc:423] Local rendezvous recv item cancelled. Key hash: 15719206370131305061\n"
     ]
    },
    {
     "name": "stdout",
     "output_type": "stream",
     "text": [
      "--> Found new best model - hidden layers=[256, 128]; dropout rate=0.2 Validation loss: 0.2556\n",
      "Training model with [256, 128] hidden layers and dropout rate 0.4\n"
     ]
    },
    {
     "name": "stderr",
     "output_type": "stream",
     "text": [
      "2024-12-06 18:12:40.330389: I tensorflow/core/framework/local_rendezvous.cc:423] Local rendezvous recv item cancelled. Key hash: 1617439466416798285\n",
      "2024-12-06 18:12:40.330447: I tensorflow/core/framework/local_rendezvous.cc:423] Local rendezvous recv item cancelled. Key hash: 15719206370131305061\n",
      "2024-12-06 18:12:40.540028: I tensorflow/core/framework/local_rendezvous.cc:423] Local rendezvous recv item cancelled. Key hash: 15719206370131305061\n",
      "2024-12-06 18:12:40.540090: I tensorflow/core/framework/local_rendezvous.cc:423] Local rendezvous recv item cancelled. Key hash: 1617439466416798285\n",
      "2024-12-06 18:12:40.631299: I tensorflow/core/framework/local_rendezvous.cc:423] Local rendezvous recv item cancelled. Key hash: 1617439466416798285\n",
      "2024-12-06 18:12:40.631356: I tensorflow/core/framework/local_rendezvous.cc:423] Local rendezvous recv item cancelled. Key hash: 15719206370131305061\n",
      "2024-12-06 18:12:40.852420: I tensorflow/core/framework/local_rendezvous.cc:423] Local rendezvous recv item cancelled. Key hash: 15719206370131305061\n",
      "2024-12-06 18:12:40.852481: I tensorflow/core/framework/local_rendezvous.cc:423] Local rendezvous recv item cancelled. Key hash: 1617439466416798285\n",
      "2024-12-06 18:12:40.947606: I tensorflow/core/framework/local_rendezvous.cc:423] Local rendezvous recv item cancelled. Key hash: 1617439466416798285\n",
      "2024-12-06 18:12:40.947661: I tensorflow/core/framework/local_rendezvous.cc:423] Local rendezvous recv item cancelled. Key hash: 15719206370131305061\n",
      "2024-12-06 18:12:41.163614: I tensorflow/core/framework/local_rendezvous.cc:423] Local rendezvous recv item cancelled. Key hash: 15719206370131305061\n",
      "2024-12-06 18:12:41.163689: I tensorflow/core/framework/local_rendezvous.cc:423] Local rendezvous recv item cancelled. Key hash: 1617439466416798285\n",
      "2024-12-06 18:12:41.261225: I tensorflow/core/framework/local_rendezvous.cc:423] Local rendezvous recv item cancelled. Key hash: 1617439466416798285\n",
      "2024-12-06 18:12:41.261283: I tensorflow/core/framework/local_rendezvous.cc:423] Local rendezvous recv item cancelled. Key hash: 15719206370131305061\n",
      "2024-12-06 18:12:41.562124: I tensorflow/core/framework/local_rendezvous.cc:423] Local rendezvous recv item cancelled. Key hash: 1617439466416798285\n",
      "2024-12-06 18:12:41.562181: I tensorflow/core/framework/local_rendezvous.cc:423] Local rendezvous recv item cancelled. Key hash: 15719206370131305061\n",
      "2024-12-06 18:12:41.780237: I tensorflow/core/framework/local_rendezvous.cc:423] Local rendezvous recv item cancelled. Key hash: 15719206370131305061\n",
      "2024-12-06 18:12:41.780298: I tensorflow/core/framework/local_rendezvous.cc:423] Local rendezvous recv item cancelled. Key hash: 1617439466416798285\n",
      "2024-12-06 18:12:41.879780: I tensorflow/core/framework/local_rendezvous.cc:423] Local rendezvous recv item cancelled. Key hash: 1617439466416798285\n",
      "2024-12-06 18:12:41.879836: I tensorflow/core/framework/local_rendezvous.cc:423] Local rendezvous recv item cancelled. Key hash: 15719206370131305061\n",
      "2024-12-06 18:12:42.186652: I tensorflow/core/framework/local_rendezvous.cc:423] Local rendezvous recv item cancelled. Key hash: 1617439466416798285\n",
      "2024-12-06 18:12:42.186711: I tensorflow/core/framework/local_rendezvous.cc:423] Local rendezvous recv item cancelled. Key hash: 15719206370131305061\n",
      "2024-12-06 18:12:42.395242: I tensorflow/core/framework/local_rendezvous.cc:423] Local rendezvous recv item cancelled. Key hash: 15719206370131305061\n",
      "2024-12-06 18:12:42.395300: I tensorflow/core/framework/local_rendezvous.cc:423] Local rendezvous recv item cancelled. Key hash: 1617439466416798285\n",
      "2024-12-06 18:12:42.494538: I tensorflow/core/framework/local_rendezvous.cc:423] Local rendezvous recv item cancelled. Key hash: 1617439466416798285\n",
      "2024-12-06 18:12:42.494593: I tensorflow/core/framework/local_rendezvous.cc:423] Local rendezvous recv item cancelled. Key hash: 15719206370131305061\n",
      "2024-12-06 18:12:42.797428: I tensorflow/core/framework/local_rendezvous.cc:423] Local rendezvous recv item cancelled. Key hash: 1617439466416798285\n",
      "2024-12-06 18:12:42.797490: I tensorflow/core/framework/local_rendezvous.cc:423] Local rendezvous recv item cancelled. Key hash: 15719206370131305061\n",
      "2024-12-06 18:12:43.106895: I tensorflow/core/framework/local_rendezvous.cc:423] Local rendezvous recv item cancelled. Key hash: 1617439466416798285\n",
      "2024-12-06 18:12:43.106953: I tensorflow/core/framework/local_rendezvous.cc:423] Local rendezvous recv item cancelled. Key hash: 15719206370131305061\n"
     ]
    },
    {
     "name": "stdout",
     "output_type": "stream",
     "text": [
      "Training model with [256, 128] hidden layers and dropout rate 0.6\n"
     ]
    },
    {
     "name": "stderr",
     "output_type": "stream",
     "text": [
      "2024-12-06 18:12:49.350312: I tensorflow/core/framework/local_rendezvous.cc:423] Local rendezvous recv item cancelled. Key hash: 15719206370131305061\n",
      "2024-12-06 18:12:49.821167: I tensorflow/core/framework/local_rendezvous.cc:423] Local rendezvous recv item cancelled. Key hash: 15719206370131305061\n",
      "2024-12-06 18:12:49.821222: I tensorflow/core/framework/local_rendezvous.cc:423] Local rendezvous recv item cancelled. Key hash: 1617439466416798285\n",
      "2024-12-06 18:12:50.036330: I tensorflow/core/framework/local_rendezvous.cc:423] Local rendezvous recv item cancelled. Key hash: 15719206370131305061\n",
      "2024-12-06 18:12:50.036395: I tensorflow/core/framework/local_rendezvous.cc:423] Local rendezvous recv item cancelled. Key hash: 1617439466416798285\n",
      "2024-12-06 18:12:50.131170: I tensorflow/core/framework/local_rendezvous.cc:423] Local rendezvous recv item cancelled. Key hash: 15719206370131305061\n",
      "2024-12-06 18:12:50.131225: I tensorflow/core/framework/local_rendezvous.cc:423] Local rendezvous recv item cancelled. Key hash: 1617439466416798285\n",
      "2024-12-06 18:12:50.343071: I tensorflow/core/framework/local_rendezvous.cc:423] Local rendezvous recv item cancelled. Key hash: 15719206370131305061\n",
      "2024-12-06 18:12:50.343134: I tensorflow/core/framework/local_rendezvous.cc:423] Local rendezvous recv item cancelled. Key hash: 1617439466416798285\n",
      "2024-12-06 18:12:50.435388: I tensorflow/core/framework/local_rendezvous.cc:423] Local rendezvous recv item cancelled. Key hash: 15719206370131305061\n",
      "2024-12-06 18:12:50.435445: I tensorflow/core/framework/local_rendezvous.cc:423] Local rendezvous recv item cancelled. Key hash: 1617439466416798285\n",
      "2024-12-06 18:12:50.745767: I tensorflow/core/framework/local_rendezvous.cc:423] Local rendezvous recv item cancelled. Key hash: 15719206370131305061\n",
      "2024-12-06 18:12:50.745826: I tensorflow/core/framework/local_rendezvous.cc:423] Local rendezvous recv item cancelled. Key hash: 1617439466416798285\n",
      "2024-12-06 18:12:50.966128: I tensorflow/core/framework/local_rendezvous.cc:423] Local rendezvous recv item cancelled. Key hash: 15719206370131305061\n",
      "2024-12-06 18:12:50.966189: I tensorflow/core/framework/local_rendezvous.cc:423] Local rendezvous recv item cancelled. Key hash: 1617439466416798285\n",
      "2024-12-06 18:12:51.056937: I tensorflow/core/framework/local_rendezvous.cc:423] Local rendezvous recv item cancelled. Key hash: 15719206370131305061\n",
      "2024-12-06 18:12:51.056991: I tensorflow/core/framework/local_rendezvous.cc:423] Local rendezvous recv item cancelled. Key hash: 1617439466416798285\n",
      "2024-12-06 18:12:51.264005: I tensorflow/core/framework/local_rendezvous.cc:423] Local rendezvous recv item cancelled. Key hash: 15719206370131305061\n",
      "2024-12-06 18:12:51.264067: I tensorflow/core/framework/local_rendezvous.cc:423] Local rendezvous recv item cancelled. Key hash: 1617439466416798285\n",
      "2024-12-06 18:12:51.356613: I tensorflow/core/framework/local_rendezvous.cc:423] Local rendezvous recv item cancelled. Key hash: 15719206370131305061\n",
      "2024-12-06 18:12:51.356672: I tensorflow/core/framework/local_rendezvous.cc:423] Local rendezvous recv item cancelled. Key hash: 1617439466416798285\n",
      "2024-12-06 18:12:51.677111: I tensorflow/core/framework/local_rendezvous.cc:423] Local rendezvous recv item cancelled. Key hash: 15719206370131305061\n",
      "2024-12-06 18:12:51.677169: I tensorflow/core/framework/local_rendezvous.cc:423] Local rendezvous recv item cancelled. Key hash: 1617439466416798285\n",
      "2024-12-06 18:12:51.896005: I tensorflow/core/framework/local_rendezvous.cc:423] Local rendezvous recv item cancelled. Key hash: 15719206370131305061\n",
      "2024-12-06 18:12:51.896064: I tensorflow/core/framework/local_rendezvous.cc:423] Local rendezvous recv item cancelled. Key hash: 1617439466416798285\n",
      "2024-12-06 18:12:51.992479: I tensorflow/core/framework/local_rendezvous.cc:423] Local rendezvous recv item cancelled. Key hash: 15719206370131305061\n",
      "2024-12-06 18:12:52.303453: I tensorflow/core/framework/local_rendezvous.cc:423] Local rendezvous recv item cancelled. Key hash: 15719206370131305061\n",
      "2024-12-06 18:12:52.303513: I tensorflow/core/framework/local_rendezvous.cc:423] Local rendezvous recv item cancelled. Key hash: 1617439466416798285\n",
      "2024-12-06 18:12:52.617983: I tensorflow/core/framework/local_rendezvous.cc:423] Local rendezvous recv item cancelled. Key hash: 15719206370131305061\n",
      "2024-12-06 18:12:52.618042: I tensorflow/core/framework/local_rendezvous.cc:423] Local rendezvous recv item cancelled. Key hash: 1617439466416798285\n"
     ]
    }
   ],
   "source": [
    "# Set variables to iterate\n",
    "best_model = None\n",
    "best_val_loss = np.inf\n",
    "\n",
    "# Search best configuration\n",
    "for n_hidden in hidden_layer_configs:\n",
    "    for dropout_rate in dropout_rates:\n",
    "        print(f\"Training model with {n_hidden} hidden layers and dropout rate {dropout_rate}\")\n",
    "        model = build_model(n_hidden, dropout_rate)  # build model\n",
    "        model.compile(optimizer='adam', loss='categorical_crossentropy', metrics=['accuracy'])\n",
    "        history = model.fit(train_set, epochs=10, validation_data=val_set, verbose=0)\n",
    "        val_loss = history.history['val_loss'][-1]\n",
    "        if val_loss < best_val_loss:  # update the best variables\n",
    "            best_val_loss = val_loss\n",
    "            best_model = model\n",
    "            print(f\"--> Found new best model - hidden layers={n_hidden}; dropout rate={dropout_rate}\", end=' ')\n",
    "            print(f\"Validation loss: {val_loss:.4f}\")"
   ]
  },
  {
   "cell_type": "code",
   "execution_count": 29,
   "id": "rG0NLlOEP6Ow",
   "metadata": {
    "colab": {
     "base_uri": "https://localhost:8080/"
    },
    "id": "rG0NLlOEP6Ow",
    "outputId": "7555c005-603c-44c9-b2c8-daa0b6fab101"
   },
   "outputs": [
    {
     "data": {
      "text/html": [
       "<pre style=\"white-space:pre;overflow-x:auto;line-height:normal;font-family:Menlo,'DejaVu Sans Mono',consolas,'Courier New',monospace\"><span style=\"font-weight: bold\">Model: \"sequential_15\"</span>\n",
       "</pre>\n"
      ],
      "text/plain": [
       "\u001b[1mModel: \"sequential_15\"\u001b[0m\n"
      ]
     },
     "metadata": {},
     "output_type": "display_data"
    },
    {
     "data": {
      "text/html": [
       "<pre style=\"white-space:pre;overflow-x:auto;line-height:normal;font-family:Menlo,'DejaVu Sans Mono',consolas,'Courier New',monospace\">┏━━━━━━━━━━━━━━━━━━━━━━━━━━━━━━━━━┳━━━━━━━━━━━━━━━━━━━━━━━━┳━━━━━━━━━━━━━━━┓\n",
       "┃<span style=\"font-weight: bold\"> Layer (type)                    </span>┃<span style=\"font-weight: bold\"> Output Shape           </span>┃<span style=\"font-weight: bold\">       Param # </span>┃\n",
       "┡━━━━━━━━━━━━━━━━━━━━━━━━━━━━━━━━━╇━━━━━━━━━━━━━━━━━━━━━━━━╇━━━━━━━━━━━━━━━┩\n",
       "│ flatten_15 (<span style=\"color: #0087ff; text-decoration-color: #0087ff\">Flatten</span>)            │ (<span style=\"color: #00d7ff; text-decoration-color: #00d7ff\">None</span>, <span style=\"color: #00af00; text-decoration-color: #00af00\">55</span>)             │             <span style=\"color: #00af00; text-decoration-color: #00af00\">0</span> │\n",
       "├─────────────────────────────────┼────────────────────────┼───────────────┤\n",
       "│ dense_36 (<span style=\"color: #0087ff; text-decoration-color: #0087ff\">Dense</span>)                │ (<span style=\"color: #00d7ff; text-decoration-color: #00d7ff\">None</span>, <span style=\"color: #00af00; text-decoration-color: #00af00\">256</span>)            │        <span style=\"color: #00af00; text-decoration-color: #00af00\">14,336</span> │\n",
       "├─────────────────────────────────┼────────────────────────┼───────────────┤\n",
       "│ batch_normalization_21          │ (<span style=\"color: #00d7ff; text-decoration-color: #00d7ff\">None</span>, <span style=\"color: #00af00; text-decoration-color: #00af00\">256</span>)            │         <span style=\"color: #00af00; text-decoration-color: #00af00\">1,024</span> │\n",
       "│ (<span style=\"color: #0087ff; text-decoration-color: #0087ff\">BatchNormalization</span>)            │                        │               │\n",
       "├─────────────────────────────────┼────────────────────────┼───────────────┤\n",
       "│ dropout_21 (<span style=\"color: #0087ff; text-decoration-color: #0087ff\">Dropout</span>)            │ (<span style=\"color: #00d7ff; text-decoration-color: #00d7ff\">None</span>, <span style=\"color: #00af00; text-decoration-color: #00af00\">256</span>)            │             <span style=\"color: #00af00; text-decoration-color: #00af00\">0</span> │\n",
       "├─────────────────────────────────┼────────────────────────┼───────────────┤\n",
       "│ dense_37 (<span style=\"color: #0087ff; text-decoration-color: #0087ff\">Dense</span>)                │ (<span style=\"color: #00d7ff; text-decoration-color: #00d7ff\">None</span>, <span style=\"color: #00af00; text-decoration-color: #00af00\">128</span>)            │        <span style=\"color: #00af00; text-decoration-color: #00af00\">32,896</span> │\n",
       "├─────────────────────────────────┼────────────────────────┼───────────────┤\n",
       "│ batch_normalization_22          │ (<span style=\"color: #00d7ff; text-decoration-color: #00d7ff\">None</span>, <span style=\"color: #00af00; text-decoration-color: #00af00\">128</span>)            │           <span style=\"color: #00af00; text-decoration-color: #00af00\">512</span> │\n",
       "│ (<span style=\"color: #0087ff; text-decoration-color: #0087ff\">BatchNormalization</span>)            │                        │               │\n",
       "├─────────────────────────────────┼────────────────────────┼───────────────┤\n",
       "│ dropout_22 (<span style=\"color: #0087ff; text-decoration-color: #0087ff\">Dropout</span>)            │ (<span style=\"color: #00d7ff; text-decoration-color: #00d7ff\">None</span>, <span style=\"color: #00af00; text-decoration-color: #00af00\">128</span>)            │             <span style=\"color: #00af00; text-decoration-color: #00af00\">0</span> │\n",
       "├─────────────────────────────────┼────────────────────────┼───────────────┤\n",
       "│ dense_38 (<span style=\"color: #0087ff; text-decoration-color: #0087ff\">Dense</span>)                │ (<span style=\"color: #00d7ff; text-decoration-color: #00d7ff\">None</span>, <span style=\"color: #00af00; text-decoration-color: #00af00\">2</span>)              │           <span style=\"color: #00af00; text-decoration-color: #00af00\">258</span> │\n",
       "└─────────────────────────────────┴────────────────────────┴───────────────┘\n",
       "</pre>\n"
      ],
      "text/plain": [
       "┏━━━━━━━━━━━━━━━━━━━━━━━━━━━━━━━━━┳━━━━━━━━━━━━━━━━━━━━━━━━┳━━━━━━━━━━━━━━━┓\n",
       "┃\u001b[1m \u001b[0m\u001b[1mLayer (type)                   \u001b[0m\u001b[1m \u001b[0m┃\u001b[1m \u001b[0m\u001b[1mOutput Shape          \u001b[0m\u001b[1m \u001b[0m┃\u001b[1m \u001b[0m\u001b[1m      Param #\u001b[0m\u001b[1m \u001b[0m┃\n",
       "┡━━━━━━━━━━━━━━━━━━━━━━━━━━━━━━━━━╇━━━━━━━━━━━━━━━━━━━━━━━━╇━━━━━━━━━━━━━━━┩\n",
       "│ flatten_15 (\u001b[38;5;33mFlatten\u001b[0m)            │ (\u001b[38;5;45mNone\u001b[0m, \u001b[38;5;34m55\u001b[0m)             │             \u001b[38;5;34m0\u001b[0m │\n",
       "├─────────────────────────────────┼────────────────────────┼───────────────┤\n",
       "│ dense_36 (\u001b[38;5;33mDense\u001b[0m)                │ (\u001b[38;5;45mNone\u001b[0m, \u001b[38;5;34m256\u001b[0m)            │        \u001b[38;5;34m14,336\u001b[0m │\n",
       "├─────────────────────────────────┼────────────────────────┼───────────────┤\n",
       "│ batch_normalization_21          │ (\u001b[38;5;45mNone\u001b[0m, \u001b[38;5;34m256\u001b[0m)            │         \u001b[38;5;34m1,024\u001b[0m │\n",
       "│ (\u001b[38;5;33mBatchNormalization\u001b[0m)            │                        │               │\n",
       "├─────────────────────────────────┼────────────────────────┼───────────────┤\n",
       "│ dropout_21 (\u001b[38;5;33mDropout\u001b[0m)            │ (\u001b[38;5;45mNone\u001b[0m, \u001b[38;5;34m256\u001b[0m)            │             \u001b[38;5;34m0\u001b[0m │\n",
       "├─────────────────────────────────┼────────────────────────┼───────────────┤\n",
       "│ dense_37 (\u001b[38;5;33mDense\u001b[0m)                │ (\u001b[38;5;45mNone\u001b[0m, \u001b[38;5;34m128\u001b[0m)            │        \u001b[38;5;34m32,896\u001b[0m │\n",
       "├─────────────────────────────────┼────────────────────────┼───────────────┤\n",
       "│ batch_normalization_22          │ (\u001b[38;5;45mNone\u001b[0m, \u001b[38;5;34m128\u001b[0m)            │           \u001b[38;5;34m512\u001b[0m │\n",
       "│ (\u001b[38;5;33mBatchNormalization\u001b[0m)            │                        │               │\n",
       "├─────────────────────────────────┼────────────────────────┼───────────────┤\n",
       "│ dropout_22 (\u001b[38;5;33mDropout\u001b[0m)            │ (\u001b[38;5;45mNone\u001b[0m, \u001b[38;5;34m128\u001b[0m)            │             \u001b[38;5;34m0\u001b[0m │\n",
       "├─────────────────────────────────┼────────────────────────┼───────────────┤\n",
       "│ dense_38 (\u001b[38;5;33mDense\u001b[0m)                │ (\u001b[38;5;45mNone\u001b[0m, \u001b[38;5;34m2\u001b[0m)              │           \u001b[38;5;34m258\u001b[0m │\n",
       "└─────────────────────────────────┴────────────────────────┴───────────────┘\n"
      ]
     },
     "metadata": {},
     "output_type": "display_data"
    },
    {
     "data": {
      "text/html": [
       "<pre style=\"white-space:pre;overflow-x:auto;line-height:normal;font-family:Menlo,'DejaVu Sans Mono',consolas,'Courier New',monospace\"><span style=\"font-weight: bold\"> Total params: </span><span style=\"color: #00af00; text-decoration-color: #00af00\">145,544</span> (568.54 KB)\n",
       "</pre>\n"
      ],
      "text/plain": [
       "\u001b[1m Total params: \u001b[0m\u001b[38;5;34m145,544\u001b[0m (568.54 KB)\n"
      ]
     },
     "metadata": {},
     "output_type": "display_data"
    },
    {
     "data": {
      "text/html": [
       "<pre style=\"white-space:pre;overflow-x:auto;line-height:normal;font-family:Menlo,'DejaVu Sans Mono',consolas,'Courier New',monospace\"><span style=\"font-weight: bold\"> Trainable params: </span><span style=\"color: #00af00; text-decoration-color: #00af00\">48,258</span> (188.51 KB)\n",
       "</pre>\n"
      ],
      "text/plain": [
       "\u001b[1m Trainable params: \u001b[0m\u001b[38;5;34m48,258\u001b[0m (188.51 KB)\n"
      ]
     },
     "metadata": {},
     "output_type": "display_data"
    },
    {
     "data": {
      "text/html": [
       "<pre style=\"white-space:pre;overflow-x:auto;line-height:normal;font-family:Menlo,'DejaVu Sans Mono',consolas,'Courier New',monospace\"><span style=\"font-weight: bold\"> Non-trainable params: </span><span style=\"color: #00af00; text-decoration-color: #00af00\">768</span> (3.00 KB)\n",
       "</pre>\n"
      ],
      "text/plain": [
       "\u001b[1m Non-trainable params: \u001b[0m\u001b[38;5;34m768\u001b[0m (3.00 KB)\n"
      ]
     },
     "metadata": {},
     "output_type": "display_data"
    },
    {
     "data": {
      "text/html": [
       "<pre style=\"white-space:pre;overflow-x:auto;line-height:normal;font-family:Menlo,'DejaVu Sans Mono',consolas,'Courier New',monospace\"><span style=\"font-weight: bold\"> Optimizer params: </span><span style=\"color: #00af00; text-decoration-color: #00af00\">96,518</span> (377.03 KB)\n",
       "</pre>\n"
      ],
      "text/plain": [
       "\u001b[1m Optimizer params: \u001b[0m\u001b[38;5;34m96,518\u001b[0m (377.03 KB)\n"
      ]
     },
     "metadata": {},
     "output_type": "display_data"
    }
   ],
   "source": [
    "best_model.summary()"
   ]
  },
  {
   "cell_type": "markdown",
   "id": "KAMJakqN0SS9",
   "metadata": {
    "id": "KAMJakqN0SS9"
   },
   "source": [
    "### Build Model"
   ]
  },
  {
   "cell_type": "code",
   "execution_count": 30,
   "id": "mDMTCVN3QB-H",
   "metadata": {
    "id": "mDMTCVN3QB-H"
   },
   "outputs": [],
   "source": [
    "# Use best model and compile\n",
    "model = best_model\n",
    "model.compile(optimizer='adam', loss='categorical_crossentropy', metrics=['accuracy'])"
   ]
  },
  {
   "cell_type": "code",
   "execution_count": 31,
   "id": "MdajTpQnqr1f",
   "metadata": {
    "id": "MdajTpQnqr1f"
   },
   "outputs": [],
   "source": [
    "# Set model check point\n",
    "mc = ModelCheckpoint(BASE_MODEL_PATH, monitor='val_accuracy',\n",
    "                     mode='max', verbose=1, save_best_only=True)\n",
    "# Set early stopping\n",
    "es = tf.keras.callbacks.EarlyStopping(monitor='val_loss', patience=10, verbose=1)"
   ]
  },
  {
   "cell_type": "markdown",
   "id": "ZCr8qvi-5s-C",
   "metadata": {
    "id": "ZCr8qvi-5s-C"
   },
   "source": [
    "### Train Model"
   ]
  },
  {
   "cell_type": "code",
   "execution_count": 32,
   "id": "758be0a8-b2b2-4c16-9ecc-06000ca8c912",
   "metadata": {
    "colab": {
     "base_uri": "https://localhost:8080/"
    },
    "id": "758be0a8-b2b2-4c16-9ecc-06000ca8c912",
    "outputId": "d2c3a2cd-c905-4e8e-9fb4-60c0199f7749",
    "scrolled": true
   },
   "outputs": [
    {
     "name": "stdout",
     "output_type": "stream",
     "text": [
      "Epoch 1/100\n",
      "\u001b[1m 997/1000\u001b[0m \u001b[32m━━━━━━━━━━━━━━━━━━━\u001b[0m\u001b[37m━\u001b[0m \u001b[1m0s\u001b[0m 4ms/step - accuracy: 0.8996 - loss: 0.2455\n",
      "Epoch 1: val_accuracy improved from -inf to 0.97344, saving model to ./model/base_model.keras\n",
      "\u001b[1m1000/1000\u001b[0m \u001b[32m━━━━━━━━━━━━━━━━━━━━\u001b[0m\u001b[37m\u001b[0m \u001b[1m7s\u001b[0m 5ms/step - accuracy: 0.8997 - loss: 0.2453 - val_accuracy: 0.9734 - val_loss: 0.0908\n",
      "Epoch 2/100\n",
      "\u001b[1m 983/1000\u001b[0m \u001b[32m━━━━━━━━━━━━━━━━━━━\u001b[0m\u001b[37m━\u001b[0m \u001b[1m0s\u001b[0m 2ms/step - accuracy: 0.9436 - loss: 0.1492\n",
      "Epoch 2: val_accuracy improved from 0.97344 to 0.97531, saving model to ./model/base_model.keras\n",
      "\u001b[1m1000/1000\u001b[0m \u001b[32m━━━━━━━━━━━━━━━━━━━━\u001b[0m\u001b[37m\u001b[0m \u001b[1m3s\u001b[0m 3ms/step - accuracy: 0.9436 - loss: 0.1491 - val_accuracy: 0.9753 - val_loss: 0.0680\n",
      "Epoch 3/100\n",
      "\u001b[1m 998/1000\u001b[0m \u001b[32m━━━━━━━━━━━━━━━━━━━\u001b[0m\u001b[37m━\u001b[0m \u001b[1m0s\u001b[0m 2ms/step - accuracy: 0.9543 - loss: 0.1186\n",
      "Epoch 3: val_accuracy improved from 0.97531 to 0.97656, saving model to ./model/base_model.keras\n",
      "\u001b[1m1000/1000\u001b[0m \u001b[32m━━━━━━━━━━━━━━━━━━━━\u001b[0m\u001b[37m\u001b[0m \u001b[1m3s\u001b[0m 3ms/step - accuracy: 0.9543 - loss: 0.1186 - val_accuracy: 0.9766 - val_loss: 0.0534\n",
      "Epoch 4/100\n",
      "\u001b[1m 982/1000\u001b[0m \u001b[32m━━━━━━━━━━━━━━━━━━━\u001b[0m\u001b[37m━\u001b[0m \u001b[1m0s\u001b[0m 2ms/step - accuracy: 0.9641 - loss: 0.0996\n",
      "Epoch 4: val_accuracy improved from 0.97656 to 0.99000, saving model to ./model/base_model.keras\n",
      "\u001b[1m1000/1000\u001b[0m \u001b[32m━━━━━━━━━━━━━━━━━━━━\u001b[0m\u001b[37m\u001b[0m \u001b[1m3s\u001b[0m 3ms/step - accuracy: 0.9641 - loss: 0.0996 - val_accuracy: 0.9900 - val_loss: 0.0317\n",
      "Epoch 5/100\n",
      "\u001b[1m 985/1000\u001b[0m \u001b[32m━━━━━━━━━━━━━━━━━━━\u001b[0m\u001b[37m━\u001b[0m \u001b[1m0s\u001b[0m 2ms/step - accuracy: 0.9639 - loss: 0.0941\n",
      "Epoch 5: val_accuracy improved from 0.99000 to 0.99219, saving model to ./model/base_model.keras\n",
      "\u001b[1m1000/1000\u001b[0m \u001b[32m━━━━━━━━━━━━━━━━━━━━\u001b[0m\u001b[37m\u001b[0m \u001b[1m3s\u001b[0m 3ms/step - accuracy: 0.9640 - loss: 0.0940 - val_accuracy: 0.9922 - val_loss: 0.0345\n",
      "Epoch 6/100\n",
      "\u001b[1m 995/1000\u001b[0m \u001b[32m━━━━━━━━━━━━━━━━━━━\u001b[0m\u001b[37m━\u001b[0m \u001b[1m0s\u001b[0m 2ms/step - accuracy: 0.9694 - loss: 0.0813\n",
      "Epoch 6: val_accuracy did not improve from 0.99219\n",
      "\u001b[1m1000/1000\u001b[0m \u001b[32m━━━━━━━━━━━━━━━━━━━━\u001b[0m\u001b[37m\u001b[0m \u001b[1m2s\u001b[0m 2ms/step - accuracy: 0.9694 - loss: 0.0813 - val_accuracy: 0.9862 - val_loss: 0.0432\n",
      "Epoch 7/100\n",
      "\u001b[1m 990/1000\u001b[0m \u001b[32m━━━━━━━━━━━━━━━━━━━\u001b[0m\u001b[37m━\u001b[0m \u001b[1m0s\u001b[0m 2ms/step - accuracy: 0.9721 - loss: 0.0762\n",
      "Epoch 7: val_accuracy improved from 0.99219 to 0.99250, saving model to ./model/base_model.keras\n",
      "\u001b[1m1000/1000\u001b[0m \u001b[32m━━━━━━━━━━━━━━━━━━━━\u001b[0m\u001b[37m\u001b[0m \u001b[1m3s\u001b[0m 3ms/step - accuracy: 0.9721 - loss: 0.0762 - val_accuracy: 0.9925 - val_loss: 0.0197\n",
      "Epoch 8/100\n",
      "\u001b[1m 995/1000\u001b[0m \u001b[32m━━━━━━━━━━━━━━━━━━━\u001b[0m\u001b[37m━\u001b[0m \u001b[1m0s\u001b[0m 2ms/step - accuracy: 0.9739 - loss: 0.0697\n",
      "Epoch 8: val_accuracy improved from 0.99250 to 0.99406, saving model to ./model/base_model.keras\n",
      "\u001b[1m1000/1000\u001b[0m \u001b[32m━━━━━━━━━━━━━━━━━━━━\u001b[0m\u001b[37m\u001b[0m \u001b[1m3s\u001b[0m 3ms/step - accuracy: 0.9739 - loss: 0.0697 - val_accuracy: 0.9941 - val_loss: 0.0259\n",
      "Epoch 9/100\n",
      "\u001b[1m 983/1000\u001b[0m \u001b[32m━━━━━━━━━━━━━━━━━━━\u001b[0m\u001b[37m━\u001b[0m \u001b[1m0s\u001b[0m 5ms/step - accuracy: 0.9744 - loss: 0.0673\n",
      "Epoch 9: val_accuracy did not improve from 0.99406\n",
      "\u001b[1m1000/1000\u001b[0m \u001b[32m━━━━━━━━━━━━━━━━━━━━\u001b[0m\u001b[37m\u001b[0m \u001b[1m5s\u001b[0m 5ms/step - accuracy: 0.9744 - loss: 0.0673 - val_accuracy: 0.9897 - val_loss: 0.0307\n",
      "Epoch 10/100\n",
      "\u001b[1m 984/1000\u001b[0m \u001b[32m━━━━━━━━━━━━━━━━━━━\u001b[0m\u001b[37m━\u001b[0m \u001b[1m0s\u001b[0m 2ms/step - accuracy: 0.9769 - loss: 0.0640\n",
      "Epoch 10: val_accuracy improved from 0.99406 to 0.99750, saving model to ./model/base_model.keras\n",
      "\u001b[1m1000/1000\u001b[0m \u001b[32m━━━━━━━━━━━━━━━━━━━━\u001b[0m\u001b[37m\u001b[0m \u001b[1m3s\u001b[0m 3ms/step - accuracy: 0.9770 - loss: 0.0639 - val_accuracy: 0.9975 - val_loss: 0.0102\n",
      "Epoch 11/100\n",
      "\u001b[1m 997/1000\u001b[0m \u001b[32m━━━━━━━━━━━━━━━━━━━\u001b[0m\u001b[37m━\u001b[0m \u001b[1m0s\u001b[0m 2ms/step - accuracy: 0.9815 - loss: 0.0520\n",
      "Epoch 11: val_accuracy did not improve from 0.99750\n",
      "\u001b[1m1000/1000\u001b[0m \u001b[32m━━━━━━━━━━━━━━━━━━━━\u001b[0m\u001b[37m\u001b[0m \u001b[1m2s\u001b[0m 2ms/step - accuracy: 0.9815 - loss: 0.0520 - val_accuracy: 0.9956 - val_loss: 0.0119\n",
      "Epoch 12/100\n",
      "\u001b[1m 994/1000\u001b[0m \u001b[32m━━━━━━━━━━━━━━━━━━━\u001b[0m\u001b[37m━\u001b[0m \u001b[1m0s\u001b[0m 2ms/step - accuracy: 0.9804 - loss: 0.0546\n",
      "Epoch 12: val_accuracy did not improve from 0.99750\n",
      "\u001b[1m1000/1000\u001b[0m \u001b[32m━━━━━━━━━━━━━━━━━━━━\u001b[0m\u001b[37m\u001b[0m \u001b[1m3s\u001b[0m 3ms/step - accuracy: 0.9804 - loss: 0.0546 - val_accuracy: 0.9919 - val_loss: 0.0190\n",
      "Epoch 13/100\n",
      "\u001b[1m 998/1000\u001b[0m \u001b[32m━━━━━━━━━━━━━━━━━━━\u001b[0m\u001b[37m━\u001b[0m \u001b[1m0s\u001b[0m 2ms/step - accuracy: 0.9779 - loss: 0.0610\n",
      "Epoch 13: val_accuracy did not improve from 0.99750\n",
      "\u001b[1m1000/1000\u001b[0m \u001b[32m━━━━━━━━━━━━━━━━━━━━\u001b[0m\u001b[37m\u001b[0m \u001b[1m3s\u001b[0m 3ms/step - accuracy: 0.9779 - loss: 0.0610 - val_accuracy: 0.9931 - val_loss: 0.0166\n",
      "Epoch 14/100\n",
      "\u001b[1m 992/1000\u001b[0m \u001b[32m━━━━━━━━━━━━━━━━━━━\u001b[0m\u001b[37m━\u001b[0m \u001b[1m0s\u001b[0m 2ms/step - accuracy: 0.9822 - loss: 0.0481\n",
      "Epoch 14: val_accuracy did not improve from 0.99750\n",
      "\u001b[1m1000/1000\u001b[0m \u001b[32m━━━━━━━━━━━━━━━━━━━━\u001b[0m\u001b[37m\u001b[0m \u001b[1m3s\u001b[0m 3ms/step - accuracy: 0.9822 - loss: 0.0481 - val_accuracy: 0.9950 - val_loss: 0.0159\n",
      "Epoch 15/100\n",
      "\u001b[1m 990/1000\u001b[0m \u001b[32m━━━━━━━━━━━━━━━━━━━\u001b[0m\u001b[37m━\u001b[0m \u001b[1m0s\u001b[0m 2ms/step - accuracy: 0.9829 - loss: 0.0497\n",
      "Epoch 15: val_accuracy did not improve from 0.99750\n",
      "\u001b[1m1000/1000\u001b[0m \u001b[32m━━━━━━━━━━━━━━━━━━━━\u001b[0m\u001b[37m\u001b[0m \u001b[1m2s\u001b[0m 2ms/step - accuracy: 0.9829 - loss: 0.0497 - val_accuracy: 0.9944 - val_loss: 0.0187\n",
      "Epoch 16/100\n",
      "\u001b[1m 989/1000\u001b[0m \u001b[32m━━━━━━━━━━━━━━━━━━━\u001b[0m\u001b[37m━\u001b[0m \u001b[1m0s\u001b[0m 3ms/step - accuracy: 0.9828 - loss: 0.0507\n",
      "Epoch 16: val_accuracy did not improve from 0.99750\n",
      "\u001b[1m1000/1000\u001b[0m \u001b[32m━━━━━━━━━━━━━━━━━━━━\u001b[0m\u001b[37m\u001b[0m \u001b[1m3s\u001b[0m 3ms/step - accuracy: 0.9828 - loss: 0.0506 - val_accuracy: 0.9966 - val_loss: 0.0080\n",
      "Epoch 17/100\n",
      "\u001b[1m 980/1000\u001b[0m \u001b[32m━━━━━━━━━━━━━━━━━━━\u001b[0m\u001b[37m━\u001b[0m \u001b[1m0s\u001b[0m 3ms/step - accuracy: 0.9826 - loss: 0.0499\n",
      "Epoch 17: val_accuracy improved from 0.99750 to 0.99813, saving model to ./model/base_model.keras\n",
      "\u001b[1m1000/1000\u001b[0m \u001b[32m━━━━━━━━━━━━━━━━━━━━\u001b[0m\u001b[37m\u001b[0m \u001b[1m3s\u001b[0m 3ms/step - accuracy: 0.9826 - loss: 0.0498 - val_accuracy: 0.9981 - val_loss: 0.0075\n",
      "Epoch 18/100\n",
      "\u001b[1m 993/1000\u001b[0m \u001b[32m━━━━━━━━━━━━━━━━━━━\u001b[0m\u001b[37m━\u001b[0m \u001b[1m0s\u001b[0m 2ms/step - accuracy: 0.9813 - loss: 0.0484\n",
      "Epoch 18: val_accuracy did not improve from 0.99813\n",
      "\u001b[1m1000/1000\u001b[0m \u001b[32m━━━━━━━━━━━━━━━━━━━━\u001b[0m\u001b[37m\u001b[0m \u001b[1m2s\u001b[0m 2ms/step - accuracy: 0.9813 - loss: 0.0484 - val_accuracy: 0.9962 - val_loss: 0.0129\n",
      "Epoch 19/100\n",
      "\u001b[1m 985/1000\u001b[0m \u001b[32m━━━━━━━━━━━━━━━━━━━\u001b[0m\u001b[37m━\u001b[0m \u001b[1m0s\u001b[0m 2ms/step - accuracy: 0.9876 - loss: 0.0376\n",
      "Epoch 19: val_accuracy did not improve from 0.99813\n",
      "\u001b[1m1000/1000\u001b[0m \u001b[32m━━━━━━━━━━━━━━━━━━━━\u001b[0m\u001b[37m\u001b[0m \u001b[1m3s\u001b[0m 3ms/step - accuracy: 0.9876 - loss: 0.0377 - val_accuracy: 0.9981 - val_loss: 0.0070\n",
      "Epoch 20/100\n",
      "\u001b[1m 986/1000\u001b[0m \u001b[32m━━━━━━━━━━━━━━━━━━━\u001b[0m\u001b[37m━\u001b[0m \u001b[1m0s\u001b[0m 2ms/step - accuracy: 0.9857 - loss: 0.0405\n",
      "Epoch 20: val_accuracy did not improve from 0.99813\n",
      "\u001b[1m1000/1000\u001b[0m \u001b[32m━━━━━━━━━━━━━━━━━━━━\u001b[0m\u001b[37m\u001b[0m \u001b[1m2s\u001b[0m 2ms/step - accuracy: 0.9857 - loss: 0.0406 - val_accuracy: 0.9978 - val_loss: 0.0082\n",
      "Epoch 21/100\n",
      "\u001b[1m 996/1000\u001b[0m \u001b[32m━━━━━━━━━━━━━━━━━━━\u001b[0m\u001b[37m━\u001b[0m \u001b[1m0s\u001b[0m 2ms/step - accuracy: 0.9857 - loss: 0.0405\n",
      "Epoch 21: val_accuracy did not improve from 0.99813\n",
      "\u001b[1m1000/1000\u001b[0m \u001b[32m━━━━━━━━━━━━━━━━━━━━\u001b[0m\u001b[37m\u001b[0m \u001b[1m2s\u001b[0m 2ms/step - accuracy: 0.9857 - loss: 0.0406 - val_accuracy: 0.9975 - val_loss: 0.0095\n",
      "Epoch 22/100\n",
      "\u001b[1m 992/1000\u001b[0m \u001b[32m━━━━━━━━━━━━━━━━━━━\u001b[0m\u001b[37m━\u001b[0m \u001b[1m0s\u001b[0m 5ms/step - accuracy: 0.9845 - loss: 0.0447\n",
      "Epoch 22: val_accuracy improved from 0.99813 to 0.99969, saving model to ./model/base_model.keras\n",
      "\u001b[1m1000/1000\u001b[0m \u001b[32m━━━━━━━━━━━━━━━━━━━━\u001b[0m\u001b[37m\u001b[0m \u001b[1m6s\u001b[0m 6ms/step - accuracy: 0.9845 - loss: 0.0447 - val_accuracy: 0.9997 - val_loss: 0.0043\n",
      "Epoch 23/100\n",
      "\u001b[1m 998/1000\u001b[0m \u001b[32m━━━━━━━━━━━━━━━━━━━\u001b[0m\u001b[37m━\u001b[0m \u001b[1m0s\u001b[0m 2ms/step - accuracy: 0.9876 - loss: 0.0342\n",
      "Epoch 23: val_accuracy did not improve from 0.99969\n",
      "\u001b[1m1000/1000\u001b[0m \u001b[32m━━━━━━━━━━━━━━━━━━━━\u001b[0m\u001b[37m\u001b[0m \u001b[1m3s\u001b[0m 2ms/step - accuracy: 0.9876 - loss: 0.0342 - val_accuracy: 0.9981 - val_loss: 0.0053\n",
      "Epoch 24/100\n",
      "\u001b[1m 994/1000\u001b[0m \u001b[32m━━━━━━━━━━━━━━━━━━━\u001b[0m\u001b[37m━\u001b[0m \u001b[1m0s\u001b[0m 2ms/step - accuracy: 0.9856 - loss: 0.0418\n",
      "Epoch 24: val_accuracy did not improve from 0.99969\n",
      "\u001b[1m1000/1000\u001b[0m \u001b[32m━━━━━━━━━━━━━━━━━━━━\u001b[0m\u001b[37m\u001b[0m \u001b[1m3s\u001b[0m 3ms/step - accuracy: 0.9856 - loss: 0.0418 - val_accuracy: 0.9975 - val_loss: 0.0080\n",
      "Epoch 25/100\n",
      "\u001b[1m 992/1000\u001b[0m \u001b[32m━━━━━━━━━━━━━━━━━━━\u001b[0m\u001b[37m━\u001b[0m \u001b[1m0s\u001b[0m 3ms/step - accuracy: 0.9867 - loss: 0.0391\n",
      "Epoch 25: val_accuracy did not improve from 0.99969\n",
      "\u001b[1m1000/1000\u001b[0m \u001b[32m━━━━━━━━━━━━━━━━━━━━\u001b[0m\u001b[37m\u001b[0m \u001b[1m3s\u001b[0m 3ms/step - accuracy: 0.9867 - loss: 0.0390 - val_accuracy: 0.9966 - val_loss: 0.0084\n",
      "Epoch 26/100\n",
      "\u001b[1m 995/1000\u001b[0m \u001b[32m━━━━━━━━━━━━━━━━━━━\u001b[0m\u001b[37m━\u001b[0m \u001b[1m0s\u001b[0m 3ms/step - accuracy: 0.9874 - loss: 0.0349\n",
      "Epoch 26: val_accuracy did not improve from 0.99969\n",
      "\u001b[1m1000/1000\u001b[0m \u001b[32m━━━━━━━━━━━━━━━━━━━━\u001b[0m\u001b[37m\u001b[0m \u001b[1m3s\u001b[0m 3ms/step - accuracy: 0.9874 - loss: 0.0349 - val_accuracy: 0.9991 - val_loss: 0.0039\n",
      "Epoch 27/100\n",
      "\u001b[1m 984/1000\u001b[0m \u001b[32m━━━━━━━━━━━━━━━━━━━\u001b[0m\u001b[37m━\u001b[0m \u001b[1m0s\u001b[0m 2ms/step - accuracy: 0.9889 - loss: 0.0310\n",
      "Epoch 27: val_accuracy did not improve from 0.99969\n",
      "\u001b[1m1000/1000\u001b[0m \u001b[32m━━━━━━━━━━━━━━━━━━━━\u001b[0m\u001b[37m\u001b[0m \u001b[1m3s\u001b[0m 3ms/step - accuracy: 0.9889 - loss: 0.0311 - val_accuracy: 0.9962 - val_loss: 0.0113\n",
      "Epoch 28/100\n",
      "\u001b[1m 985/1000\u001b[0m \u001b[32m━━━━━━━━━━━━━━━━━━━\u001b[0m\u001b[37m━\u001b[0m \u001b[1m0s\u001b[0m 3ms/step - accuracy: 0.9872 - loss: 0.0367\n",
      "Epoch 28: val_accuracy did not improve from 0.99969\n",
      "\u001b[1m1000/1000\u001b[0m \u001b[32m━━━━━━━━━━━━━━━━━━━━\u001b[0m\u001b[37m\u001b[0m \u001b[1m3s\u001b[0m 3ms/step - accuracy: 0.9872 - loss: 0.0367 - val_accuracy: 0.9991 - val_loss: 0.0044\n",
      "Epoch 29/100\n",
      "\u001b[1m 995/1000\u001b[0m \u001b[32m━━━━━━━━━━━━━━━━━━━\u001b[0m\u001b[37m━\u001b[0m \u001b[1m0s\u001b[0m 3ms/step - accuracy: 0.9899 - loss: 0.0292\n",
      "Epoch 29: val_accuracy did not improve from 0.99969\n",
      "\u001b[1m1000/1000\u001b[0m \u001b[32m━━━━━━━━━━━━━━━━━━━━\u001b[0m\u001b[37m\u001b[0m \u001b[1m3s\u001b[0m 3ms/step - accuracy: 0.9899 - loss: 0.0292 - val_accuracy: 0.9991 - val_loss: 0.0043\n",
      "Epoch 30/100\n",
      "\u001b[1m 988/1000\u001b[0m \u001b[32m━━━━━━━━━━━━━━━━━━━\u001b[0m\u001b[37m━\u001b[0m \u001b[1m0s\u001b[0m 3ms/step - accuracy: 0.9872 - loss: 0.0347\n",
      "Epoch 30: val_accuracy did not improve from 0.99969\n",
      "\u001b[1m1000/1000\u001b[0m \u001b[32m━━━━━━━━━━━━━━━━━━━━\u001b[0m\u001b[37m\u001b[0m \u001b[1m3s\u001b[0m 3ms/step - accuracy: 0.9872 - loss: 0.0347 - val_accuracy: 0.9984 - val_loss: 0.0044\n",
      "Epoch 31/100\n",
      "\u001b[1m1000/1000\u001b[0m \u001b[32m━━━━━━━━━━━━━━━━━━━━\u001b[0m\u001b[37m\u001b[0m \u001b[1m0s\u001b[0m 3ms/step - accuracy: 0.9901 - loss: 0.0304\n",
      "Epoch 31: val_accuracy did not improve from 0.99969\n",
      "\u001b[1m1000/1000\u001b[0m \u001b[32m━━━━━━━━━━━━━━━━━━━━\u001b[0m\u001b[37m\u001b[0m \u001b[1m3s\u001b[0m 3ms/step - accuracy: 0.9901 - loss: 0.0304 - val_accuracy: 0.9997 - val_loss: 0.0045\n",
      "Epoch 32/100\n",
      "\u001b[1m 985/1000\u001b[0m \u001b[32m━━━━━━━━━━━━━━━━━━━\u001b[0m\u001b[37m━\u001b[0m \u001b[1m0s\u001b[0m 3ms/step - accuracy: 0.9885 - loss: 0.0389\n",
      "Epoch 32: val_accuracy did not improve from 0.99969\n",
      "\u001b[1m1000/1000\u001b[0m \u001b[32m━━━━━━━━━━━━━━━━━━━━\u001b[0m\u001b[37m\u001b[0m \u001b[1m3s\u001b[0m 3ms/step - accuracy: 0.9885 - loss: 0.0388 - val_accuracy: 0.9991 - val_loss: 0.0048\n",
      "Epoch 33/100\n",
      "\u001b[1m 993/1000\u001b[0m \u001b[32m━━━━━━━━━━━━━━━━━━━\u001b[0m\u001b[37m━\u001b[0m \u001b[1m0s\u001b[0m 6ms/step - accuracy: 0.9886 - loss: 0.0305\n",
      "Epoch 33: val_accuracy did not improve from 0.99969\n",
      "\u001b[1m1000/1000\u001b[0m \u001b[32m━━━━━━━━━━━━━━━━━━━━\u001b[0m\u001b[37m\u001b[0m \u001b[1m6s\u001b[0m 6ms/step - accuracy: 0.9886 - loss: 0.0306 - val_accuracy: 0.9981 - val_loss: 0.0079\n",
      "Epoch 34/100\n",
      "\u001b[1m 999/1000\u001b[0m \u001b[32m━━━━━━━━━━━━━━━━━━━\u001b[0m\u001b[37m━\u001b[0m \u001b[1m0s\u001b[0m 3ms/step - accuracy: 0.9905 - loss: 0.0287\n",
      "Epoch 34: val_accuracy did not improve from 0.99969\n",
      "\u001b[1m1000/1000\u001b[0m \u001b[32m━━━━━━━━━━━━━━━━━━━━\u001b[0m\u001b[37m\u001b[0m \u001b[1m3s\u001b[0m 3ms/step - accuracy: 0.9905 - loss: 0.0287 - val_accuracy: 0.9984 - val_loss: 0.0057\n",
      "Epoch 35/100\n",
      "\u001b[1m 986/1000\u001b[0m \u001b[32m━━━━━━━━━━━━━━━━━━━\u001b[0m\u001b[37m━\u001b[0m \u001b[1m0s\u001b[0m 3ms/step - accuracy: 0.9894 - loss: 0.0325\n",
      "Epoch 35: val_accuracy did not improve from 0.99969\n",
      "\u001b[1m1000/1000\u001b[0m \u001b[32m━━━━━━━━━━━━━━━━━━━━\u001b[0m\u001b[37m\u001b[0m \u001b[1m3s\u001b[0m 3ms/step - accuracy: 0.9894 - loss: 0.0325 - val_accuracy: 0.9991 - val_loss: 0.0028\n",
      "Epoch 36/100\n",
      "\u001b[1m 990/1000\u001b[0m \u001b[32m━━━━━━━━━━━━━━━━━━━\u001b[0m\u001b[37m━\u001b[0m \u001b[1m0s\u001b[0m 3ms/step - accuracy: 0.9877 - loss: 0.0354\n",
      "Epoch 36: val_accuracy improved from 0.99969 to 1.00000, saving model to ./model/base_model.keras\n",
      "\u001b[1m1000/1000\u001b[0m \u001b[32m━━━━━━━━━━━━━━━━━━━━\u001b[0m\u001b[37m\u001b[0m \u001b[1m3s\u001b[0m 3ms/step - accuracy: 0.9877 - loss: 0.0354 - val_accuracy: 1.0000 - val_loss: 0.0033\n",
      "Epoch 37/100\n",
      "\u001b[1m 983/1000\u001b[0m \u001b[32m━━━━━━━━━━━━━━━━━━━\u001b[0m\u001b[37m━\u001b[0m \u001b[1m0s\u001b[0m 2ms/step - accuracy: 0.9881 - loss: 0.0357\n",
      "Epoch 37: val_accuracy did not improve from 1.00000\n",
      "\u001b[1m1000/1000\u001b[0m \u001b[32m━━━━━━━━━━━━━━━━━━━━\u001b[0m\u001b[37m\u001b[0m \u001b[1m3s\u001b[0m 3ms/step - accuracy: 0.9881 - loss: 0.0356 - val_accuracy: 0.9987 - val_loss: 0.0074\n",
      "Epoch 38/100\n",
      "\u001b[1m 988/1000\u001b[0m \u001b[32m━━━━━━━━━━━━━━━━━━━\u001b[0m\u001b[37m━\u001b[0m \u001b[1m0s\u001b[0m 3ms/step - accuracy: 0.9912 - loss: 0.0252\n",
      "Epoch 38: val_accuracy did not improve from 1.00000\n",
      "\u001b[1m1000/1000\u001b[0m \u001b[32m━━━━━━━━━━━━━━━━━━━━\u001b[0m\u001b[37m\u001b[0m \u001b[1m3s\u001b[0m 3ms/step - accuracy: 0.9912 - loss: 0.0252 - val_accuracy: 0.9994 - val_loss: 0.0038\n",
      "Epoch 39/100\n",
      "\u001b[1m 989/1000\u001b[0m \u001b[32m━━━━━━━━━━━━━━━━━━━\u001b[0m\u001b[37m━\u001b[0m \u001b[1m0s\u001b[0m 3ms/step - accuracy: 0.9920 - loss: 0.0250\n",
      "Epoch 39: val_accuracy did not improve from 1.00000\n",
      "\u001b[1m1000/1000\u001b[0m \u001b[32m━━━━━━━━━━━━━━━━━━━━\u001b[0m\u001b[37m\u001b[0m \u001b[1m3s\u001b[0m 3ms/step - accuracy: 0.9920 - loss: 0.0250 - val_accuracy: 0.9966 - val_loss: 0.0104\n",
      "Epoch 40/100\n",
      "\u001b[1m 993/1000\u001b[0m \u001b[32m━━━━━━━━━━━━━━━━━━━\u001b[0m\u001b[37m━\u001b[0m \u001b[1m0s\u001b[0m 3ms/step - accuracy: 0.9878 - loss: 0.0373\n",
      "Epoch 40: val_accuracy did not improve from 1.00000\n",
      "\u001b[1m1000/1000\u001b[0m \u001b[32m━━━━━━━━━━━━━━━━━━━━\u001b[0m\u001b[37m\u001b[0m \u001b[1m3s\u001b[0m 3ms/step - accuracy: 0.9878 - loss: 0.0372 - val_accuracy: 0.9987 - val_loss: 0.0037\n",
      "Epoch 41/100\n",
      "\u001b[1m 999/1000\u001b[0m \u001b[32m━━━━━━━━━━━━━━━━━━━\u001b[0m\u001b[37m━\u001b[0m \u001b[1m0s\u001b[0m 3ms/step - accuracy: 0.9884 - loss: 0.0366\n",
      "Epoch 41: val_accuracy did not improve from 1.00000\n",
      "\u001b[1m1000/1000\u001b[0m \u001b[32m━━━━━━━━━━━━━━━━━━━━\u001b[0m\u001b[37m\u001b[0m \u001b[1m3s\u001b[0m 3ms/step - accuracy: 0.9884 - loss: 0.0365 - val_accuracy: 0.9991 - val_loss: 0.0047\n",
      "Epoch 42/100\n",
      "\u001b[1m 979/1000\u001b[0m \u001b[32m━━━━━━━━━━━━━━━━━━━\u001b[0m\u001b[37m━\u001b[0m \u001b[1m0s\u001b[0m 3ms/step - accuracy: 0.9912 - loss: 0.0273\n",
      "Epoch 42: val_accuracy did not improve from 1.00000\n",
      "\u001b[1m1000/1000\u001b[0m \u001b[32m━━━━━━━━━━━━━━━━━━━━\u001b[0m\u001b[37m\u001b[0m \u001b[1m3s\u001b[0m 3ms/step - accuracy: 0.9911 - loss: 0.0273 - val_accuracy: 0.9975 - val_loss: 0.0077\n",
      "Epoch 43/100\n",
      "\u001b[1m 989/1000\u001b[0m \u001b[32m━━━━━━━━━━━━━━━━━━━\u001b[0m\u001b[37m━\u001b[0m \u001b[1m0s\u001b[0m 3ms/step - accuracy: 0.9892 - loss: 0.0286\n",
      "Epoch 43: val_accuracy did not improve from 1.00000\n",
      "\u001b[1m1000/1000\u001b[0m \u001b[32m━━━━━━━━━━━━━━━━━━━━\u001b[0m\u001b[37m\u001b[0m \u001b[1m3s\u001b[0m 3ms/step - accuracy: 0.9892 - loss: 0.0286 - val_accuracy: 0.9969 - val_loss: 0.0066\n",
      "Epoch 44/100\n",
      "\u001b[1m 982/1000\u001b[0m \u001b[32m━━━━━━━━━━━━━━━━━━━\u001b[0m\u001b[37m━\u001b[0m \u001b[1m0s\u001b[0m 5ms/step - accuracy: 0.9900 - loss: 0.0288\n",
      "Epoch 44: val_accuracy did not improve from 1.00000\n",
      "\u001b[1m1000/1000\u001b[0m \u001b[32m━━━━━━━━━━━━━━━━━━━━\u001b[0m\u001b[37m\u001b[0m \u001b[1m6s\u001b[0m 6ms/step - accuracy: 0.9900 - loss: 0.0288 - val_accuracy: 0.9981 - val_loss: 0.0043\n",
      "Epoch 45/100\n",
      "\u001b[1m 994/1000\u001b[0m \u001b[32m━━━━━━━━━━━━━━━━━━━\u001b[0m\u001b[37m━\u001b[0m \u001b[1m0s\u001b[0m 3ms/step - accuracy: 0.9914 - loss: 0.0248\n",
      "Epoch 45: val_accuracy did not improve from 1.00000\n",
      "\u001b[1m1000/1000\u001b[0m \u001b[32m━━━━━━━━━━━━━━━━━━━━\u001b[0m\u001b[37m\u001b[0m \u001b[1m3s\u001b[0m 3ms/step - accuracy: 0.9914 - loss: 0.0248 - val_accuracy: 0.9991 - val_loss: 0.0047\n",
      "Epoch 45: early stopping\n"
     ]
    }
   ],
   "source": [
    "# Train the model\n",
    "history = model.fit(train_set.repeat(),\n",
    "                    epochs=100,\n",
    "                    validation_data=val_set.repeat(),\n",
    "                    steps_per_epoch=1000,\n",
    "                    validation_steps=100,\n",
    "                    callbacks=[mc, es])"
   ]
  },
  {
   "cell_type": "code",
   "execution_count": 33,
   "id": "9RiQxin_1xgN",
   "metadata": {
    "colab": {
     "base_uri": "https://localhost:8080/",
     "height": 455
    },
    "id": "9RiQxin_1xgN",
    "outputId": "ff8f7f89-41ac-4386-b971-46d9eb838d24"
   },
   "outputs": [
    {
     "data": {
      "image/png": "[encoded data removed]",
      "text/plain": [
       "<Figure size 640x480 with 1 Axes>"
      ]
     },
     "metadata": {},
     "output_type": "display_data"
    }
   ],
   "source": [
    "# Plot accuracy history\n",
    "plt.plot(history.history['accuracy'], label='accuracy')\n",
    "plt.plot(history.history['val_accuracy'], label = 'val_accuracy')\n",
    "plt.xlabel('Epoch')\n",
    "plt.ylabel('Accuracy')\n",
    "plt.legend(loc='lower right')\n",
    "plt.grid(True)\n",
    "plt.gca().set_ylim(0.5, 1)\n",
    "plt.show()"
   ]
  },
  {
   "cell_type": "code",
   "execution_count": 34,
   "id": "oOkrEafY4iJO",
   "metadata": {
    "colab": {
     "base_uri": "https://localhost:8080/",
     "height": 449
    },
    "id": "oOkrEafY4iJO",
    "outputId": "8f255d5e-4686-49a5-86f3-63de0f93bac8"
   },
   "outputs": [
    {
     "data": {
      "image/png": "[encoded data removed]",
      "text/plain": [
       "<Figure size 640x480 with 1 Axes>"
      ]
     },
     "metadata": {},
     "output_type": "display_data"
    }
   ],
   "source": [
    "# Plot loss history\n",
    "plt.plot(history.history['loss'], label='loss')\n",
    "plt.plot(history.history['val_loss'], label = 'val_loss')\n",
    "plt.xlabel('Epoch')\n",
    "plt.ylabel('Loss')\n",
    "plt.legend(loc='upper right')\n",
    "plt.grid(True)\n",
    "plt.show()"
   ]
  },
  {
   "cell_type": "markdown",
   "id": "Zp_pnfnA53VE",
   "metadata": {
    "id": "Zp_pnfnA53VE"
   },
   "source": [
    "### Evaluate"
   ]
  },
  {
   "cell_type": "code",
   "execution_count": 35,
   "id": "9997a0fa-23cf-4317-b5b2-07429d65e73d",
   "metadata": {
    "id": "9997a0fa-23cf-4317-b5b2-07429d65e73d"
   },
   "outputs": [],
   "source": [
    "# load best model\n",
    "model = tf.keras.models.load_model(BASE_MODEL_PATH)"
   ]
  },
  {
   "cell_type": "code",
   "execution_count": 36,
   "id": "aat4bjBxtU5O",
   "metadata": {
    "colab": {
     "base_uri": "https://localhost:8080/"
    },
    "id": "aat4bjBxtU5O",
    "outputId": "537da81b-3b9f-48cc-a110-8ffefad04d6c"
   },
   "outputs": [
    {
     "name": "stdout",
     "output_type": "stream",
     "text": [
      "\u001b[1m1000/1000\u001b[0m \u001b[32m━━━━━━━━━━━━━━━━━━━━\u001b[0m\u001b[37m\u001b[0m \u001b[1m7s\u001b[0m 7ms/step - accuracy: 0.9998 - loss: 0.0033\n"
     ]
    },
    {
     "data": {
      "text/plain": [
       "[0.003268422558903694, 0.9997187256813049]"
      ]
     },
     "execution_count": 36,
     "metadata": {},
     "output_type": "execute_result"
    }
   ],
   "source": [
    "# Evaluate model\n",
    "model.evaluate(test_set.repeat(), steps=1000)"
   ]
  },
  {
   "cell_type": "code",
   "execution_count": 37,
   "id": "e11f8a86-c447-4578-9a98-1009b2951104",
   "metadata": {},
   "outputs": [
    {
     "name": "stdout",
     "output_type": "stream",
     "text": [
      "\u001b[1m1/1\u001b[0m \u001b[32m━━━━━━━━━━━━━━━━━━━━\u001b[0m\u001b[37m\u001b[0m \u001b[1m0s\u001b[0m 186ms/step\n",
      "\u001b[1m1/1\u001b[0m \u001b[32m━━━━━━━━━━━━━━━━━━━━\u001b[0m\u001b[37m\u001b[0m \u001b[1m0s\u001b[0m 16ms/step\n",
      "\u001b[1m1/1\u001b[0m \u001b[32m━━━━━━━━━━━━━━━━━━━━\u001b[0m\u001b[37m\u001b[0m \u001b[1m0s\u001b[0m 14ms/step\n",
      "\u001b[1m1/1\u001b[0m \u001b[32m━━━━━━━━━━━━━━━━━━━━\u001b[0m\u001b[37m\u001b[0m \u001b[1m0s\u001b[0m 13ms/step\n",
      "\u001b[1m1/1\u001b[0m \u001b[32m━━━━━━━━━━━━━━━━━━━━\u001b[0m\u001b[37m\u001b[0m \u001b[1m0s\u001b[0m 14ms/step\n",
      "\u001b[1m1/1\u001b[0m \u001b[32m━━━━━━━━━━━━━━━━━━━━\u001b[0m\u001b[37m\u001b[0m \u001b[1m0s\u001b[0m 15ms/step\n",
      "\u001b[1m1/1\u001b[0m \u001b[32m━━━━━━━━━━━━━━━━━━━━\u001b[0m\u001b[37m\u001b[0m \u001b[1m0s\u001b[0m 13ms/step\n",
      "\u001b[1m1/1\u001b[0m \u001b[32m━━━━━━━━━━━━━━━━━━━━\u001b[0m\u001b[37m\u001b[0m \u001b[1m0s\u001b[0m 13ms/step\n",
      "\u001b[1m1/1\u001b[0m \u001b[32m━━━━━━━━━━━━━━━━━━━━\u001b[0m\u001b[37m\u001b[0m \u001b[1m0s\u001b[0m 19ms/step\n"
     ]
    },
    {
     "data": {
      "text/plain": [
       "<tf.Tensor: shape=(2, 2), dtype=int32, numpy=\n",
       "array([[147,   0],\n",
       "       [  0, 141]], dtype=int32)>"
      ]
     },
     "execution_count": 37,
     "metadata": {},
     "output_type": "execute_result"
    }
   ],
   "source": [
    "# evaluate confusion matrix\n",
    "y_true = []\n",
    "y_pred = []\n",
    "for x_batch, y_batch in test_set:\n",
    "    y_true.extend(np.argmax(y_batch.numpy(), axis=1))\n",
    "    y_pred.extend(np.argmax(model.predict(x_batch), axis=1))\n",
    "cm = tf.math.confusion_matrix(y_true, y_pred)\n",
    "cm"
   ]
  },
  {
   "cell_type": "code",
   "execution_count": 38,
   "id": "184d1ae5-8403-44be-838d-95e1501c5f08",
   "metadata": {},
   "outputs": [
    {
     "data": {
      "image/png": "[encoded data removed]",
      "text/plain": [
       "<Figure size 640x480 with 2 Axes>"
      ]
     },
     "metadata": {},
     "output_type": "display_data"
    }
   ],
   "source": [
    "# plot confusion matrix\n",
    "sns.heatmap(cm, annot=True, cmap='Blues', fmt='d')\n",
    "plt.title('Confusion Matrix')\n",
    "plt.xlabel('Predicted')\n",
    "plt.ylabel('True')\n",
    "plt.show()"
   ]
  },
  {
   "cell_type": "code",
   "execution_count": 39,
   "id": "2d397036-5ae9-4fa4-9eef-1c597b7c2117",
   "metadata": {},
   "outputs": [
    {
     "data": {
      "image/png": "[encoded data removed]",
      "text/plain": [
       "<Figure size 640x480 with 1 Axes>"
      ]
     },
     "metadata": {},
     "output_type": "display_data"
    }
   ],
   "source": [
    "# plot auc\n",
    "from sklearn.metrics import roc_curve, auc\n",
    "\n",
    "fpr, tpr, _ = roc_curve(y_true, y_pred)\n",
    "roc_auc = auc(fpr, tpr)\n",
    "\n",
    "plt.figure()\n",
    "plt.plot(fpr, tpr, color='darkorange', lw=2, label='ROC curve (area = %0.2f)' % roc_auc)\n",
    "plt.plot([0, 1], [0, 1], color='navy', lw=2, linestyle='--')\n",
    "plt.xlim([0.0, 1.0])\n",
    "plt.ylim([0.0, 1.05])\n",
    "plt.xlabel('False Positive Rate')\n",
    "plt.ylabel('True Positive Rate')\n",
    "plt.title('Receiver Operating Characteristic')\n",
    "plt.legend(loc=\"lower right\")\n",
    "plt.show()"
   ]
  },
  {
   "cell_type": "code",
   "execution_count": null,
   "id": "8a9b7d67-3c91-4c92-acc2-762e8c98ab0f",
   "metadata": {},
   "outputs": [],
   "source": []
  }
 ],
 "metadata": {
  "accelerator": "TPU",
  "colab": {
   "collapsed_sections": [
    "ce51d8df-5689-4fe1-8dfd-3a97fa309d8e",
    "e871a9e9-4758-41a9-a58c-8563eb2632c4",
    "38ad427c-ceba-4aff-a5ab-7d5d7a4f7c1a",
    "a27d1e7b-9acc-45fa-bf80-51d30974f510",
    "a2e3bbf8-1c3c-4d05-b5ba-fd0896dc4616",
    "b4ee7650-2874-4ef4-89c7-9347c6092fac",
    "c84389ea-479f-434f-bf1a-7ec26347246d",
    "cd981048-0a43-48ed-a4a8-b62bb64760ae",
    "c7a10e0e-0421-4528-b8d8-5d5e11f5eaf4",
    "cc58a6fe-6e02-4a4e-924a-9060ea3b9cc0",
    "1b734806-1fb7-4747-bb6c-adea8234a1f3"
   ],
   "gpuType": "V28",
   "provenance": []
  },
  "kernelspec": {
   "display_name": "Python 3 (ipykernel)",
   "language": "python",
   "name": "python3"
  },
  "language_info": {
   "codemirror_mode": {
    "name": "ipython",
    "version": 3
   },
   "file_extension": ".py",
   "mimetype": "text/x-python",
   "name": "python",
   "nbconvert_exporter": "python",
   "pygments_lexer": "ipython3",
   "version": "3.9.19"
  }
 },
 "nbformat": 4,
 "nbformat_minor": 5
}
